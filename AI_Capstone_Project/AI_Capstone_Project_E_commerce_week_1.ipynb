{
 "cells": [
  {
   "cell_type": "markdown",
   "metadata": {
    "id": "1yyI1I49-A8-"
   },
   "source": [
    "**DESCRIPTION**\n",
    "\n",
    "**Problem Statement**\n",
    "\n",
    "Amazon is an online shopping website that now caters to millions of people everywhere. Over 34,000 consumer reviews for Amazon brand products like Kindle, Fire TV Stick and more are provided.\n",
    "\n",
    "The dataset has attributes like brand, categories, primary categories, reviews.title, reviews.text, and the sentiment. Sentiment is a categorical variable with three levels \"Positive\", \"Negative“, and \"Neutral\". For a given unseen data, the sentiment needs to be predicted.\n",
    "\n",
    "You are required to predict Sentiment or Satisfaction of a purchase based on multiple features and review text."
   ]
  },
  {
   "cell_type": "markdown",
   "metadata": {
    "id": "doa2gSCNhi-x"
   },
   "source": [
    "### Import library"
   ]
  },
  {
   "cell_type": "code",
   "execution_count": 9,
   "metadata": {
    "id": "F8rtzB-Bhmyu"
   },
   "outputs": [],
   "source": [
    "\n",
    "import matplotlib.pyplot as plt\n",
    "import pandas as pd\n",
    "import numpy as np\n",
    "import re\n",
    "import os\n",
    "from pathlib import Path"
   ]
  },
  {
   "cell_type": "code",
   "execution_count": 2,
   "metadata": {
    "id": "FmT4XKVYhK8l"
   },
   "outputs": [
    {
     "name": "stderr",
     "output_type": "stream",
     "text": [
      "2025-08-11 23:30:09.208562: I tensorflow/core/util/port.cc:153] oneDNN custom operations are on. You may see slightly different numerical results due to floating-point round-off errors from different computation orders. To turn them off, set the environment variable `TF_ENABLE_ONEDNN_OPTS=0`.\n",
      "2025-08-11 23:30:09.215925: E external/local_xla/xla/stream_executor/cuda/cuda_fft.cc:467] Unable to register cuFFT factory: Attempting to register factory for plugin cuFFT when one has already been registered\n",
      "WARNING: All log messages before absl::InitializeLog() is called are written to STDERR\n",
      "E0000 00:00:1754944209.224164   87949 cuda_dnn.cc:8579] Unable to register cuDNN factory: Attempting to register factory for plugin cuDNN when one has already been registered\n",
      "E0000 00:00:1754944209.226598   87949 cuda_blas.cc:1407] Unable to register cuBLAS factory: Attempting to register factory for plugin cuBLAS when one has already been registered\n",
      "W0000 00:00:1754944209.233052   87949 computation_placer.cc:177] computation placer already registered. Please check linkage and avoid linking the same target more than once.\n",
      "W0000 00:00:1754944209.233060   87949 computation_placer.cc:177] computation placer already registered. Please check linkage and avoid linking the same target more than once.\n",
      "W0000 00:00:1754944209.233061   87949 computation_placer.cc:177] computation placer already registered. Please check linkage and avoid linking the same target more than once.\n",
      "W0000 00:00:1754944209.233062   87949 computation_placer.cc:177] computation placer already registered. Please check linkage and avoid linking the same target more than once.\n",
      "2025-08-11 23:30:09.235313: I tensorflow/core/platform/cpu_feature_guard.cc:210] This TensorFlow binary is optimized to use available CPU instructions in performance-critical operations.\n",
      "To enable the following instructions: AVX2 AVX_VNNI FMA, in other operations, rebuild TensorFlow with the appropriate compiler flags.\n"
     ]
    }
   ],
   "source": [
    "from sklearn import metrics, svm\n",
    "from sklearn.naive_bayes import MultinomialNB\n",
    "from sklearn.feature_extraction.text import TfidfTransformer, CountVectorizer\n",
    "from sklearn.metrics import accuracy_score, precision_score, recall_score, confusion_matrix\n",
    "from sklearn.metrics import roc_curve, auc\n",
    "from sklearn.preprocessing import label_binarize, OneHotEncoder\n",
    "from sklearn.ensemble import RandomForestClassifier\n",
    "from sklearn.model_selection import RandomizedSearchCV\n",
    "\n",
    "from scikeras.wrappers import KerasClassifier"
   ]
  },
  {
   "cell_type": "code",
   "execution_count": 4,
   "metadata": {
    "id": "I72Gls__XWLK"
   },
   "outputs": [],
   "source": [
    "from xgboost import XGBClassifier"
   ]
  },
  {
   "cell_type": "code",
   "execution_count": 5,
   "metadata": {
    "id": "NFYvbs_sJKs_"
   },
   "outputs": [],
   "source": [
    "from scipy import stats as st"
   ]
  },
  {
   "cell_type": "code",
   "execution_count": 6,
   "metadata": {
    "colab": {
     "base_uri": "https://localhost:8080/"
    },
    "id": "xx4HeU3UDOw3",
    "outputId": "e685f926-4e91-4238-9f7b-dc65a461e25e"
   },
   "outputs": [
    {
     "name": "stderr",
     "output_type": "stream",
     "text": [
      "[nltk_data] Downloading package stopwords to\n",
      "[nltk_data]     /home/gheorghe/nltk_data...\n",
      "[nltk_data]   Package stopwords is already up-to-date!\n",
      "[nltk_data] Downloading package averaged_perceptron_tagger to\n",
      "[nltk_data]     /home/gheorghe/nltk_data...\n",
      "[nltk_data]   Package averaged_perceptron_tagger is already up-to-\n",
      "[nltk_data]       date!\n",
      "[nltk_data] Downloading package wordnet to /home/gheorghe/nltk_data...\n",
      "[nltk_data]   Package wordnet is already up-to-date!\n",
      "[nltk_data] Downloading package punkt to /home/gheorghe/nltk_data...\n",
      "[nltk_data]   Package punkt is already up-to-date!\n",
      "[nltk_data] Downloading package omw-1.4 to /home/gheorghe/nltk_data...\n",
      "[nltk_data]   Package omw-1.4 is already up-to-date!\n"
     ]
    }
   ],
   "source": [
    "import string\n",
    "from string import punctuation\n",
    "import nltk\n",
    "nltk.download('stopwords')\n",
    "nltk.download('averaged_perceptron_tagger')\n",
    "nltk.download('wordnet')\n",
    "nltk.download('punkt')\n",
    "nltk.download('omw-1.4')\n",
    "from nltk.corpus import stopwords\n",
    "from nltk.stem import WordNetLemmatizer\n",
    "from nltk import sent_tokenize, word_tokenize"
   ]
  },
  {
   "cell_type": "code",
   "execution_count": 7,
   "metadata": {
    "id": "MV6LZ0XsDO1-"
   },
   "outputs": [],
   "source": [
    "import warnings\n",
    "warnings.filterwarnings(\"ignore\")"
   ]
  },
  {
   "cell_type": "code",
   "execution_count": 8,
   "metadata": {
    "id": "q-tJ0fOZAsZX"
   },
   "outputs": [],
   "source": [
    "from imblearn.over_sampling import SMOTE, SMOTEN"
   ]
  },
  {
   "cell_type": "code",
   "execution_count": null,
   "metadata": {
    "id": "qX8rPNst9fzN"
   },
   "outputs": [],
   "source": [
    "from livelossplot import PlotLossesKerasTF\n",
    "\n",
    "import tensorflow as tf\n",
    "from tensorflow import keras\n",
    "from tensorflow.keras import layers\n",
    "from tensorflow.keras import Input, Model"
   ]
  },
  {
   "cell_type": "code",
   "execution_count": 13,
   "metadata": {},
   "outputs": [
    {
     "data": {
      "text/plain": [
       "'/home/gheorghe/Desktop/Simplilearn/SimplilearnShort/AI_Capstone_Project'"
      ]
     },
     "execution_count": 13,
     "metadata": {},
     "output_type": "execute_result"
    }
   ],
   "source": [
    "\n",
    "p = Path()\n",
    "LOCAL_PATH   = str(p.cwd())\n",
    "PATH_DATASET = str(p.cwd().joinpath(\"Ecommerce\"))\n",
    "LOCAL_PATH"
   ]
  },
  {
   "cell_type": "code",
   "execution_count": 14,
   "metadata": {},
   "outputs": [
    {
     "data": {
      "text/plain": [
       "'/home/gheorghe/Desktop/Simplilearn/SimplilearnShort/AI_Capstone_Project/Ecommerce'"
      ]
     },
     "execution_count": 14,
     "metadata": {},
     "output_type": "execute_result"
    }
   ],
   "source": [
    "PATH_DATASET"
   ]
  },
  {
   "cell_type": "markdown",
   "metadata": {
    "id": "JnNz6asOgw6z"
   },
   "source": [
    "# Data aquisition"
   ]
  },
  {
   "cell_type": "code",
   "execution_count": 15,
   "metadata": {
    "id": "rvBJu0-pgx-Y"
   },
   "outputs": [],
   "source": [
    "\n",
    "pd_df_train_data = pd.read_csv(\"{}/train_data.csv\".format(PATH_DATASET))\n",
    "pd_df_test_data = pd.read_csv(\"{}/test_data.csv\".format(PATH_DATASET))\n",
    "pd_df_test_data_hidden = pd.read_csv(\"{}/test_data_hidden.csv\".format(PATH_DATASET))"
   ]
  },
  {
   "cell_type": "code",
   "execution_count": 16,
   "metadata": {
    "colab": {
     "base_uri": "https://localhost:8080/"
    },
    "id": "vndnjqPGlGVr",
    "outputId": "d4b15fbe-ac60-44c7-85c4-a5c63ac4df8f"
   },
   "outputs": [
    {
     "data": {
      "text/html": [
       "<div>\n",
       "<style scoped>\n",
       "    .dataframe tbody tr th:only-of-type {\n",
       "        vertical-align: middle;\n",
       "    }\n",
       "\n",
       "    .dataframe tbody tr th {\n",
       "        vertical-align: top;\n",
       "    }\n",
       "\n",
       "    .dataframe thead th {\n",
       "        text-align: right;\n",
       "    }\n",
       "</style>\n",
       "<table border=\"1\" class=\"dataframe\">\n",
       "  <thead>\n",
       "    <tr style=\"text-align: right;\">\n",
       "      <th></th>\n",
       "      <th>name</th>\n",
       "      <th>brand</th>\n",
       "      <th>categories</th>\n",
       "      <th>primaryCategories</th>\n",
       "      <th>reviews.date</th>\n",
       "      <th>reviews.text</th>\n",
       "      <th>reviews.title</th>\n",
       "    </tr>\n",
       "  </thead>\n",
       "  <tbody>\n",
       "    <tr>\n",
       "      <th>0</th>\n",
       "      <td>Fire Tablet, 7 Display, Wi-Fi, 16 GB - Include...</td>\n",
       "      <td>Amazon</td>\n",
       "      <td>Fire Tablets,Computers/Tablets &amp; Networking,Ta...</td>\n",
       "      <td>Electronics</td>\n",
       "      <td>2016-05-23T00:00:00.000Z</td>\n",
       "      <td>Amazon kindle fire has a lot of free app and c...</td>\n",
       "      <td>very handy device</td>\n",
       "    </tr>\n",
       "    <tr>\n",
       "      <th>1</th>\n",
       "      <td>Amazon Echo Show Alexa-enabled Bluetooth Speak...</td>\n",
       "      <td>Amazon</td>\n",
       "      <td>Computers,Amazon Echo,Virtual Assistant Speake...</td>\n",
       "      <td>Electronics,Hardware</td>\n",
       "      <td>2018-01-02T00:00:00.000Z</td>\n",
       "      <td>The Echo Show is a great addition to the Amazo...</td>\n",
       "      <td>Another winner from Amazon</td>\n",
       "    </tr>\n",
       "    <tr>\n",
       "      <th>2</th>\n",
       "      <td>All-New Fire HD 8 Tablet, 8\" HD Display, Wi-Fi...</td>\n",
       "      <td>Amazon</td>\n",
       "      <td>Electronics,iPad &amp; Tablets,All Tablets,Fire Ta...</td>\n",
       "      <td>Electronics</td>\n",
       "      <td>2017-01-02T00:00:00.000Z</td>\n",
       "      <td>Great value from Best Buy. Bought at Christmas...</td>\n",
       "      <td>simple to use and reliable so far</td>\n",
       "    </tr>\n",
       "    <tr>\n",
       "      <th>3</th>\n",
       "      <td>Brand New Amazon Kindle Fire 16gb 7\" Ips Displ...</td>\n",
       "      <td>Amazon</td>\n",
       "      <td>Computers/Tablets &amp; Networking,Tablets &amp; eBook...</td>\n",
       "      <td>Electronics</td>\n",
       "      <td>2017-03-25T00:00:00.000Z</td>\n",
       "      <td>I use mine for email, Facebook ,games and to g...</td>\n",
       "      <td>Love it!!!</td>\n",
       "    </tr>\n",
       "    <tr>\n",
       "      <th>4</th>\n",
       "      <td>Amazon Echo Show Alexa-enabled Bluetooth Speak...</td>\n",
       "      <td>Amazon</td>\n",
       "      <td>Computers,Amazon Echo,Virtual Assistant Speake...</td>\n",
       "      <td>Electronics,Hardware</td>\n",
       "      <td>2017-11-15T00:00:00.000Z</td>\n",
       "      <td>This is a fantastic item &amp; the person I bought...</td>\n",
       "      <td>Fantastic!</td>\n",
       "    </tr>\n",
       "  </tbody>\n",
       "</table>\n",
       "</div>"
      ],
      "text/plain": [
       "                                                name   brand  \\\n",
       "0  Fire Tablet, 7 Display, Wi-Fi, 16 GB - Include...  Amazon   \n",
       "1  Amazon Echo Show Alexa-enabled Bluetooth Speak...  Amazon   \n",
       "2  All-New Fire HD 8 Tablet, 8\" HD Display, Wi-Fi...  Amazon   \n",
       "3  Brand New Amazon Kindle Fire 16gb 7\" Ips Displ...  Amazon   \n",
       "4  Amazon Echo Show Alexa-enabled Bluetooth Speak...  Amazon   \n",
       "\n",
       "                                          categories     primaryCategories  \\\n",
       "0  Fire Tablets,Computers/Tablets & Networking,Ta...           Electronics   \n",
       "1  Computers,Amazon Echo,Virtual Assistant Speake...  Electronics,Hardware   \n",
       "2  Electronics,iPad & Tablets,All Tablets,Fire Ta...           Electronics   \n",
       "3  Computers/Tablets & Networking,Tablets & eBook...           Electronics   \n",
       "4  Computers,Amazon Echo,Virtual Assistant Speake...  Electronics,Hardware   \n",
       "\n",
       "               reviews.date  \\\n",
       "0  2016-05-23T00:00:00.000Z   \n",
       "1  2018-01-02T00:00:00.000Z   \n",
       "2  2017-01-02T00:00:00.000Z   \n",
       "3  2017-03-25T00:00:00.000Z   \n",
       "4  2017-11-15T00:00:00.000Z   \n",
       "\n",
       "                                        reviews.text  \\\n",
       "0  Amazon kindle fire has a lot of free app and c...   \n",
       "1  The Echo Show is a great addition to the Amazo...   \n",
       "2  Great value from Best Buy. Bought at Christmas...   \n",
       "3  I use mine for email, Facebook ,games and to g...   \n",
       "4  This is a fantastic item & the person I bought...   \n",
       "\n",
       "                       reviews.title  \n",
       "0                  very handy device  \n",
       "1         Another winner from Amazon  \n",
       "2  simple to use and reliable so far  \n",
       "3                         Love it!!!  \n",
       "4                         Fantastic!  "
      ]
     },
     "execution_count": 16,
     "metadata": {},
     "output_type": "execute_result"
    }
   ],
   "source": [
    "pd_df_test_data.head()"
   ]
  },
  {
   "cell_type": "code",
   "execution_count": 17,
   "metadata": {
    "colab": {
     "base_uri": "https://localhost:8080/"
    },
    "id": "dYY-3vAulRj8",
    "outputId": "8f8bcf6c-9d0e-49a7-b552-f291d907c17d"
   },
   "outputs": [
    {
     "data": {
      "text/html": [
       "<div>\n",
       "<style scoped>\n",
       "    .dataframe tbody tr th:only-of-type {\n",
       "        vertical-align: middle;\n",
       "    }\n",
       "\n",
       "    .dataframe tbody tr th {\n",
       "        vertical-align: top;\n",
       "    }\n",
       "\n",
       "    .dataframe thead th {\n",
       "        text-align: right;\n",
       "    }\n",
       "</style>\n",
       "<table border=\"1\" class=\"dataframe\">\n",
       "  <thead>\n",
       "    <tr style=\"text-align: right;\">\n",
       "      <th></th>\n",
       "      <th>name</th>\n",
       "      <th>brand</th>\n",
       "      <th>categories</th>\n",
       "      <th>primaryCategories</th>\n",
       "      <th>reviews.date</th>\n",
       "      <th>reviews.text</th>\n",
       "      <th>reviews.title</th>\n",
       "      <th>sentiment</th>\n",
       "    </tr>\n",
       "  </thead>\n",
       "  <tbody>\n",
       "    <tr>\n",
       "      <th>0</th>\n",
       "      <td>Fire Tablet, 7 Display, Wi-Fi, 16 GB - Include...</td>\n",
       "      <td>Amazon</td>\n",
       "      <td>Fire Tablets,Computers/Tablets &amp; Networking,Ta...</td>\n",
       "      <td>Electronics</td>\n",
       "      <td>2016-05-23T00:00:00.000Z</td>\n",
       "      <td>Amazon kindle fire has a lot of free app and c...</td>\n",
       "      <td>very handy device</td>\n",
       "      <td>Positive</td>\n",
       "    </tr>\n",
       "    <tr>\n",
       "      <th>1</th>\n",
       "      <td>Amazon Echo Show Alexa-enabled Bluetooth Speak...</td>\n",
       "      <td>Amazon</td>\n",
       "      <td>Computers,Amazon Echo,Virtual Assistant Speake...</td>\n",
       "      <td>Electronics,Hardware</td>\n",
       "      <td>2018-01-02T00:00:00.000Z</td>\n",
       "      <td>The Echo Show is a great addition to the Amazo...</td>\n",
       "      <td>Another winner from Amazon</td>\n",
       "      <td>Positive</td>\n",
       "    </tr>\n",
       "    <tr>\n",
       "      <th>2</th>\n",
       "      <td>All-New Fire HD 8 Tablet, 8\" HD Display, Wi-Fi...</td>\n",
       "      <td>Amazon</td>\n",
       "      <td>Electronics,iPad &amp; Tablets,All Tablets,Fire Ta...</td>\n",
       "      <td>Electronics</td>\n",
       "      <td>2017-01-02T00:00:00.000Z</td>\n",
       "      <td>Great value from Best Buy. Bought at Christmas...</td>\n",
       "      <td>simple to use and reliable so far</td>\n",
       "      <td>Positive</td>\n",
       "    </tr>\n",
       "    <tr>\n",
       "      <th>3</th>\n",
       "      <td>Brand New Amazon Kindle Fire 16gb 7\" Ips Displ...</td>\n",
       "      <td>Amazon</td>\n",
       "      <td>Computers/Tablets &amp; Networking,Tablets &amp; eBook...</td>\n",
       "      <td>Electronics</td>\n",
       "      <td>2017-03-25T00:00:00.000Z</td>\n",
       "      <td>I use mine for email, Facebook ,games and to g...</td>\n",
       "      <td>Love it!!!</td>\n",
       "      <td>Positive</td>\n",
       "    </tr>\n",
       "    <tr>\n",
       "      <th>4</th>\n",
       "      <td>Amazon Echo Show Alexa-enabled Bluetooth Speak...</td>\n",
       "      <td>Amazon</td>\n",
       "      <td>Computers,Amazon Echo,Virtual Assistant Speake...</td>\n",
       "      <td>Electronics,Hardware</td>\n",
       "      <td>2017-11-15T00:00:00.000Z</td>\n",
       "      <td>This is a fantastic item &amp; the person I bought...</td>\n",
       "      <td>Fantastic!</td>\n",
       "      <td>Positive</td>\n",
       "    </tr>\n",
       "  </tbody>\n",
       "</table>\n",
       "</div>"
      ],
      "text/plain": [
       "                                                name   brand  \\\n",
       "0  Fire Tablet, 7 Display, Wi-Fi, 16 GB - Include...  Amazon   \n",
       "1  Amazon Echo Show Alexa-enabled Bluetooth Speak...  Amazon   \n",
       "2  All-New Fire HD 8 Tablet, 8\" HD Display, Wi-Fi...  Amazon   \n",
       "3  Brand New Amazon Kindle Fire 16gb 7\" Ips Displ...  Amazon   \n",
       "4  Amazon Echo Show Alexa-enabled Bluetooth Speak...  Amazon   \n",
       "\n",
       "                                          categories     primaryCategories  \\\n",
       "0  Fire Tablets,Computers/Tablets & Networking,Ta...           Electronics   \n",
       "1  Computers,Amazon Echo,Virtual Assistant Speake...  Electronics,Hardware   \n",
       "2  Electronics,iPad & Tablets,All Tablets,Fire Ta...           Electronics   \n",
       "3  Computers/Tablets & Networking,Tablets & eBook...           Electronics   \n",
       "4  Computers,Amazon Echo,Virtual Assistant Speake...  Electronics,Hardware   \n",
       "\n",
       "               reviews.date  \\\n",
       "0  2016-05-23T00:00:00.000Z   \n",
       "1  2018-01-02T00:00:00.000Z   \n",
       "2  2017-01-02T00:00:00.000Z   \n",
       "3  2017-03-25T00:00:00.000Z   \n",
       "4  2017-11-15T00:00:00.000Z   \n",
       "\n",
       "                                        reviews.text  \\\n",
       "0  Amazon kindle fire has a lot of free app and c...   \n",
       "1  The Echo Show is a great addition to the Amazo...   \n",
       "2  Great value from Best Buy. Bought at Christmas...   \n",
       "3  I use mine for email, Facebook ,games and to g...   \n",
       "4  This is a fantastic item & the person I bought...   \n",
       "\n",
       "                       reviews.title sentiment  \n",
       "0                  very handy device  Positive  \n",
       "1         Another winner from Amazon  Positive  \n",
       "2  simple to use and reliable so far  Positive  \n",
       "3                         Love it!!!  Positive  \n",
       "4                         Fantastic!  Positive  "
      ]
     },
     "execution_count": 17,
     "metadata": {},
     "output_type": "execute_result"
    }
   ],
   "source": [
    "pd_df_test_data_hidden.head()"
   ]
  },
  {
   "cell_type": "code",
   "execution_count": 18,
   "metadata": {
    "colab": {
     "base_uri": "https://localhost:8080/"
    },
    "id": "m15CpSEZmQbH",
    "outputId": "8edfee92-4ac1-4050-b7f8-118ae2d0e93e"
   },
   "outputs": [
    {
     "data": {
      "text/html": [
       "<div>\n",
       "<style scoped>\n",
       "    .dataframe tbody tr th:only-of-type {\n",
       "        vertical-align: middle;\n",
       "    }\n",
       "\n",
       "    .dataframe tbody tr th {\n",
       "        vertical-align: top;\n",
       "    }\n",
       "\n",
       "    .dataframe thead th {\n",
       "        text-align: right;\n",
       "    }\n",
       "</style>\n",
       "<table border=\"1\" class=\"dataframe\">\n",
       "  <thead>\n",
       "    <tr style=\"text-align: right;\">\n",
       "      <th></th>\n",
       "      <th>name</th>\n",
       "      <th>brand</th>\n",
       "      <th>categories</th>\n",
       "      <th>primaryCategories</th>\n",
       "      <th>reviews.date</th>\n",
       "      <th>reviews.text</th>\n",
       "      <th>reviews.title</th>\n",
       "      <th>sentiment</th>\n",
       "    </tr>\n",
       "  </thead>\n",
       "  <tbody>\n",
       "    <tr>\n",
       "      <th>0</th>\n",
       "      <td>All-New Fire HD 8 Tablet, 8\" HD Display, Wi-Fi...</td>\n",
       "      <td>Amazon</td>\n",
       "      <td>Electronics,iPad &amp; Tablets,All Tablets,Fire Ta...</td>\n",
       "      <td>Electronics</td>\n",
       "      <td>2016-12-26T00:00:00.000Z</td>\n",
       "      <td>Purchased on Black FridayPros - Great Price (e...</td>\n",
       "      <td>Powerful tablet</td>\n",
       "      <td>Positive</td>\n",
       "    </tr>\n",
       "    <tr>\n",
       "      <th>1</th>\n",
       "      <td>Amazon - Echo Plus w/ Built-In Hub - Silver</td>\n",
       "      <td>Amazon</td>\n",
       "      <td>Amazon Echo,Smart Home,Networking,Home &amp; Tools...</td>\n",
       "      <td>Electronics,Hardware</td>\n",
       "      <td>2018-01-17T00:00:00.000Z</td>\n",
       "      <td>I purchased two Amazon in Echo Plus and two do...</td>\n",
       "      <td>Amazon Echo Plus AWESOME</td>\n",
       "      <td>Positive</td>\n",
       "    </tr>\n",
       "    <tr>\n",
       "      <th>2</th>\n",
       "      <td>Amazon Echo Show Alexa-enabled Bluetooth Speak...</td>\n",
       "      <td>Amazon</td>\n",
       "      <td>Amazon Echo,Virtual Assistant Speakers,Electro...</td>\n",
       "      <td>Electronics,Hardware</td>\n",
       "      <td>2017-12-20T00:00:00.000Z</td>\n",
       "      <td>Just an average Alexa option. Does show a few ...</td>\n",
       "      <td>Average</td>\n",
       "      <td>Neutral</td>\n",
       "    </tr>\n",
       "    <tr>\n",
       "      <th>3</th>\n",
       "      <td>Fire HD 10 Tablet, 10.1 HD Display, Wi-Fi, 16 ...</td>\n",
       "      <td>Amazon</td>\n",
       "      <td>eBook Readers,Fire Tablets,Electronics Feature...</td>\n",
       "      <td>Office Supplies,Electronics</td>\n",
       "      <td>2017-08-04T00:00:00.000Z</td>\n",
       "      <td>very good product. Exactly what I wanted, and ...</td>\n",
       "      <td>Greattttttt</td>\n",
       "      <td>Positive</td>\n",
       "    </tr>\n",
       "    <tr>\n",
       "      <th>4</th>\n",
       "      <td>Brand New Amazon Kindle Fire 16gb 7\" Ips Displ...</td>\n",
       "      <td>Amazon</td>\n",
       "      <td>Computers/Tablets &amp; Networking,Tablets &amp; eBook...</td>\n",
       "      <td>Electronics</td>\n",
       "      <td>2017-01-23T00:00:00.000Z</td>\n",
       "      <td>This is the 3rd one I've purchased. I've bough...</td>\n",
       "      <td>Very durable!</td>\n",
       "      <td>Positive</td>\n",
       "    </tr>\n",
       "  </tbody>\n",
       "</table>\n",
       "</div>"
      ],
      "text/plain": [
       "                                                name   brand  \\\n",
       "0  All-New Fire HD 8 Tablet, 8\" HD Display, Wi-Fi...  Amazon   \n",
       "1        Amazon - Echo Plus w/ Built-In Hub - Silver  Amazon   \n",
       "2  Amazon Echo Show Alexa-enabled Bluetooth Speak...  Amazon   \n",
       "3  Fire HD 10 Tablet, 10.1 HD Display, Wi-Fi, 16 ...  Amazon   \n",
       "4  Brand New Amazon Kindle Fire 16gb 7\" Ips Displ...  Amazon   \n",
       "\n",
       "                                          categories  \\\n",
       "0  Electronics,iPad & Tablets,All Tablets,Fire Ta...   \n",
       "1  Amazon Echo,Smart Home,Networking,Home & Tools...   \n",
       "2  Amazon Echo,Virtual Assistant Speakers,Electro...   \n",
       "3  eBook Readers,Fire Tablets,Electronics Feature...   \n",
       "4  Computers/Tablets & Networking,Tablets & eBook...   \n",
       "\n",
       "             primaryCategories              reviews.date  \\\n",
       "0                  Electronics  2016-12-26T00:00:00.000Z   \n",
       "1         Electronics,Hardware  2018-01-17T00:00:00.000Z   \n",
       "2         Electronics,Hardware  2017-12-20T00:00:00.000Z   \n",
       "3  Office Supplies,Electronics  2017-08-04T00:00:00.000Z   \n",
       "4                  Electronics  2017-01-23T00:00:00.000Z   \n",
       "\n",
       "                                        reviews.text  \\\n",
       "0  Purchased on Black FridayPros - Great Price (e...   \n",
       "1  I purchased two Amazon in Echo Plus and two do...   \n",
       "2  Just an average Alexa option. Does show a few ...   \n",
       "3  very good product. Exactly what I wanted, and ...   \n",
       "4  This is the 3rd one I've purchased. I've bough...   \n",
       "\n",
       "              reviews.title sentiment  \n",
       "0           Powerful tablet  Positive  \n",
       "1  Amazon Echo Plus AWESOME  Positive  \n",
       "2                   Average   Neutral  \n",
       "3               Greattttttt  Positive  \n",
       "4             Very durable!  Positive  "
      ]
     },
     "execution_count": 18,
     "metadata": {},
     "output_type": "execute_result"
    }
   ],
   "source": [
    "pd_df_train_data.head()"
   ]
  },
  {
   "cell_type": "markdown",
   "metadata": {
    "id": "G5gjMyJfjNxp"
   },
   "source": [
    "### Functions"
   ]
  },
  {
   "cell_type": "code",
   "execution_count": null,
   "metadata": {
    "id": "RYTgfZfzjUKL"
   },
   "outputs": [],
   "source": [
    "def print_performance(labels, predictions):\n",
    "  print(\"Accuracy = {}\".format(accuracy_score(labels, predictions)))\n",
    "  print(\"Precision = {}\".format(precision_score(labels, predictions)))\n",
    "  print(\"Recall = {}\".format(recall_score(labels, predictions)))\n",
    "  (tp, fp), (fn, tn)  = confusion_matrix(labels, predictions)\n",
    "  print(\"Confusion matrix: tp {}, fp {}, fn {}, tn {}\".format(tp, fp, fn, tn))\n",
    "\n"
   ]
  },
  {
   "cell_type": "code",
   "execution_count": null,
   "metadata": {
    "id": "4SCUMfDTIIDY"
   },
   "outputs": [],
   "source": [
    "def pd_df_multi_class_confusion_matrix(pd_s_target, pd_s_predict):\n",
    "  class_sample_ = pd_s_target.unique()\n",
    "  cm = confusion_matrix(pd_s_target, pd_s_predict, labels=class_sample_)\n",
    "  multi_columns = zip(['Predicted label']*(len(class_sample_)), class_sample_)\n",
    "  multi_index = zip(['Actual label']*(len(class_sample_)), class_sample_)\n",
    "  multi_columns = pd.MultiIndex.from_tuples(list(multi_columns))\n",
    "  multi_index = pd.MultiIndex.from_tuples(list(multi_index))\n",
    "  return pd.DataFrame(cm, columns=multi_columns, index=multi_index)"
   ]
  },
  {
   "cell_type": "code",
   "execution_count": null,
   "metadata": {
    "id": "T0qKG9G-_732"
   },
   "outputs": [],
   "source": [
    "# Compute ROC curve and ROC area for each class\n",
    "def roc_curve_multiclass(pd_s_target, pd_s_predict):\n",
    "  fpr = dict()\n",
    "  tpr = dict()\n",
    "  roc_auc = dict()\n",
    "  class_samples_ = pd_s_target.unique()\n",
    "  # Binarize the output\n",
    "  np_target = label_binarize(pd_s_target, classes=class_samples_)\n",
    "  np_predict = label_binarize(pd_s_predict, classes=class_samples_)\n",
    "\n",
    "  for sample, unique in zip(class_samples_, range(len(class_samples_))):\n",
    "    fpr[sample], tpr[sample], _ = roc_curve(np_target[:, unique], np_predict[:, unique])\n",
    "    roc_auc[sample] = auc(fpr[sample], tpr[sample])\n",
    "  return fpr, tpr, roc_auc"
   ]
  },
  {
   "cell_type": "code",
   "execution_count": null,
   "metadata": {
    "id": "yqZysGpPABXO"
   },
   "outputs": [],
   "source": [
    "def plot_auc_roc_multiclass(fpr, tpr, roc_auc, class_samples_):\n",
    "  plt.figure()\n",
    "  lw = len(class_samples_)\n",
    "  for i in class_samples_:\n",
    "      plt.plot(\n",
    "          fpr[i],\n",
    "          tpr[i],\n",
    "          lw=lw,\n",
    "          label=\"ROC curve of class {0} (area = {1:0.2f})\".format(i, roc_auc[i]),\n",
    "      )\n",
    "\n",
    "  plt.plot([0, 1], [0, 1], color=\"navy\", lw=lw, linestyle=\"--\")\n",
    "  plt.xlim([0.0, 1.0])\n",
    "  plt.ylim([0.0, 1.05])\n",
    "  plt.xlabel(\"False Positive Rate\")\n",
    "  plt.ylabel(\"True Positive Rate\")\n",
    "  plt.title(\"Receiver operating characteristic example\")\n",
    "  plt.legend(loc=\"lower right\")\n",
    "  plt.show()"
   ]
  },
  {
   "cell_type": "code",
   "execution_count": null,
   "metadata": {
    "id": "VEDm9w0ZE4Ju"
   },
   "outputs": [],
   "source": [
    "class MyTextProcess():\n",
    "  def __init__(self):\n",
    "    re_exp_punctuation = '[{}]'.format('\\\\'.join([char_ for char_ in punctuation]))\n",
    "    self.reObjPunct = re.compile(re_exp_punctuation)\n",
    "    self.reObjWhiteSpace = re.compile(r'\\s{2, 10}')\n",
    "\n",
    "    self.wnl = WordNetLemmatizer()\n",
    "\n",
    "  def txt_vectorization(self, sequence):\n",
    "    sequence = sequence.lower()\n",
    "    sequence = self.reObjPunct.sub(' ', sequence)\n",
    "    sequence = self.reObjWhiteSpace.sub(' ', sequence)\n",
    "    wordslist = nltk.word_tokenize(sequence)\n",
    "    wordslist = [self.wnl.lemmatize(word) for word in wordslist if word not in stopwords.words('english')]\n",
    "    return wordslist\n"
   ]
  },
  {
   "cell_type": "markdown",
   "metadata": {
    "id": "ak53Cc5gBGZB"
   },
   "source": [
    "## **Project Task: Week 1**"
   ]
  },
  {
   "cell_type": "markdown",
   "metadata": {
    "id": "tuZZPjhvAoyp"
   },
   "source": [
    "**Class Imbalance Problem:**\n",
    "\n",
    "1.   Perform an EDA on the dataset.\n",
    "   *   See what a positive, negative, and neutral review looks like\n",
    "   *   Check the class count for each class. It’s a class imbalance problem.\n",
    "\n",
    "2.   Convert the reviews in Tf-Idf score.\n",
    "\n",
    "3.   Run multinomial Naive Bayes classifier. Everything will be classified as positive because of the class imbalance.\n",
    "\n",
    "**Tackling Class Imbalance Problem:**\n",
    "\n",
    "4.   Oversampling or undersampling can be used to tackle the class imbalance problem.\n",
    "\n",
    "5.   In case of class imbalance criteria, use the following metrices for evaluating model performance: precision, recall, F1-score, AUC-ROC curve. Use F1-Score as the evaluation criteria for this project.\n",
    "\n",
    "6.   Use Tree-based classifiers like Random Forest and XGBoost.\n",
    "\n",
    "**Note:** Tree-based classifiers work on two ideologies namely, Bagging or Boosting and have fine-tuning parameter which takes care of the imbalanced class.\n"
   ]
  },
  {
   "cell_type": "markdown",
   "metadata": {
    "id": "oZCB-u8kgrgs"
   },
   "source": [
    "### Perform an EDA on the dataset"
   ]
  },
  {
   "cell_type": "markdown",
   "metadata": {
    "id": "QPN71Sjvi2-Z"
   },
   "source": [
    "#### Data preprocesing"
   ]
  },
  {
   "cell_type": "markdown",
   "metadata": {
    "id": "IEAJ_O_ljCKy"
   },
   "source": [
    "##### Managing null values"
   ]
  },
  {
   "cell_type": "code",
   "execution_count": null,
   "metadata": {
    "colab": {
     "base_uri": "https://localhost:8080/"
    },
    "id": "E35kvuvv94mn",
    "outputId": "20fb787c-5511-4ab2-da48-e14561ba5584"
   },
   "outputs": [
    {
     "data": {
      "text/plain": [
       "name                 0\n",
       "brand                0\n",
       "categories           0\n",
       "primaryCategories    0\n",
       "reviews.date         0\n",
       "reviews.text         0\n",
       "reviews.title        3\n",
       "dtype: int64"
      ]
     },
     "execution_count": 19,
     "metadata": {},
     "output_type": "execute_result"
    }
   ],
   "source": [
    "#check test data to null values\n",
    "pd_df_test_data.isnull().sum()"
   ]
  },
  {
   "cell_type": "code",
   "execution_count": null,
   "metadata": {
    "id": "oDVVMZbbYq4l"
   },
   "outputs": [],
   "source": [
    "#drop null value of test data\n",
    "pd_df_test_data = pd_df_test_data.dropna()"
   ]
  },
  {
   "cell_type": "code",
   "execution_count": null,
   "metadata": {
    "colab": {
     "base_uri": "https://localhost:8080/"
    },
    "id": "EcORcyN9jbTZ",
    "outputId": "166fd7b2-7d9d-490e-b563-5d103208fcb3"
   },
   "outputs": [
    {
     "data": {
      "text/plain": [
       "name                 0\n",
       "brand                0\n",
       "categories           0\n",
       "primaryCategories    0\n",
       "reviews.date         0\n",
       "reviews.text         0\n",
       "reviews.title        3\n",
       "sentiment            0\n",
       "dtype: int64"
      ]
     },
     "execution_count": 21,
     "metadata": {},
     "output_type": "execute_result"
    }
   ],
   "source": [
    "#check test data hidden to null values\n",
    "pd_df_test_data_hidden.isnull().sum()"
   ]
  },
  {
   "cell_type": "code",
   "execution_count": null,
   "metadata": {
    "id": "5sSUx7jDY4cS"
   },
   "outputs": [],
   "source": [
    "#drop null value of test hidden data\n",
    "pd_df_test_data_hidden = pd_df_test_data_hidden.dropna()"
   ]
  },
  {
   "cell_type": "code",
   "execution_count": null,
   "metadata": {
    "colab": {
     "base_uri": "https://localhost:8080/"
    },
    "id": "F1RtN4aujg71",
    "outputId": "8834407a-d01b-4cc0-85f6-e48979d22049"
   },
   "outputs": [
    {
     "data": {
      "text/plain": [
       "name                  0\n",
       "brand                 0\n",
       "categories            0\n",
       "primaryCategories     0\n",
       "reviews.date          0\n",
       "reviews.text          0\n",
       "reviews.title        10\n",
       "sentiment             0\n",
       "dtype: int64"
      ]
     },
     "execution_count": 23,
     "metadata": {},
     "output_type": "execute_result"
    }
   ],
   "source": [
    "#check train data to null values\n",
    "pd_df_train_data.isnull().sum()"
   ]
  },
  {
   "cell_type": "code",
   "execution_count": null,
   "metadata": {
    "id": "evlqnfcqZE8Y"
   },
   "outputs": [],
   "source": [
    "#drop null value of train data\n",
    "pd_df_train_data = pd_df_train_data.dropna()"
   ]
  },
  {
   "cell_type": "markdown",
   "metadata": {
    "id": "7mL90LlCjury"
   },
   "source": [
    "##### Duplicated"
   ]
  },
  {
   "cell_type": "code",
   "execution_count": null,
   "metadata": {
    "id": "f5IF9SXQjwr1"
   },
   "outputs": [],
   "source": [
    "#check test data if is duplicated\n",
    "pd_s_index_dubl = pd_df_test_data.duplicated()"
   ]
  },
  {
   "cell_type": "code",
   "execution_count": null,
   "metadata": {
    "colab": {
     "base_uri": "https://localhost:8080/"
    },
    "id": "mI2nEvw1l6V0",
    "outputId": "3205f492-baa7-448c-fda4-791736f9c1c1"
   },
   "outputs": [
    {
     "data": {
      "text/html": [
       "\n",
       "  <div id=\"df-f80d9bc2-493e-4378-a137-1d6f0dc35b49\">\n",
       "    <div class=\"colab-df-container\">\n",
       "      <div>\n",
       "<style scoped>\n",
       "    .dataframe tbody tr th:only-of-type {\n",
       "        vertical-align: middle;\n",
       "    }\n",
       "\n",
       "    .dataframe tbody tr th {\n",
       "        vertical-align: top;\n",
       "    }\n",
       "\n",
       "    .dataframe thead th {\n",
       "        text-align: right;\n",
       "    }\n",
       "</style>\n",
       "<table border=\"1\" class=\"dataframe\">\n",
       "  <thead>\n",
       "    <tr style=\"text-align: right;\">\n",
       "      <th></th>\n",
       "      <th>name</th>\n",
       "      <th>brand</th>\n",
       "      <th>categories</th>\n",
       "      <th>primaryCategories</th>\n",
       "      <th>reviews.date</th>\n",
       "      <th>reviews.text</th>\n",
       "      <th>reviews.title</th>\n",
       "    </tr>\n",
       "  </thead>\n",
       "  <tbody>\n",
       "    <tr>\n",
       "      <th>389</th>\n",
       "      <td>Brand New Amazon Kindle Fire 16gb 7\" Ips Displ...</td>\n",
       "      <td>Amazon</td>\n",
       "      <td>Computers/Tablets &amp; Networking,Tablets &amp; eBook...</td>\n",
       "      <td>Electronics</td>\n",
       "      <td>2016-06-23T00:00:00.000Z</td>\n",
       "      <td>This tablet does a great deal! From surfing th...</td>\n",
       "      <td>Does a lot</td>\n",
       "    </tr>\n",
       "    <tr>\n",
       "      <th>420</th>\n",
       "      <td>Brand New Amazon Kindle Fire 16gb 7\" Ips Displ...</td>\n",
       "      <td>Amazon</td>\n",
       "      <td>Computers/Tablets &amp; Networking,Tablets &amp; eBook...</td>\n",
       "      <td>Electronics</td>\n",
       "      <td>2016-10-18T00:00:00.000Z</td>\n",
       "      <td>I wanted to get something nice for my wife and...</td>\n",
       "      <td>Wife loved it</td>\n",
       "    </tr>\n",
       "    <tr>\n",
       "      <th>886</th>\n",
       "      <td>All-New Fire HD 8 Tablet, 8 HD Display, Wi-Fi,...</td>\n",
       "      <td>Amazon</td>\n",
       "      <td>Fire Tablets,Tablets,All Tablets,Amazon Tablets</td>\n",
       "      <td>Electronics</td>\n",
       "      <td>2016-12-14T00:00:00.000Z</td>\n",
       "      <td>I bought one for my boyfriend and one for his ...</td>\n",
       "      <td>Great tablet for normal use</td>\n",
       "    </tr>\n",
       "  </tbody>\n",
       "</table>\n",
       "</div>\n",
       "      <button class=\"colab-df-convert\" onclick=\"convertToInteractive('df-f80d9bc2-493e-4378-a137-1d6f0dc35b49')\"\n",
       "              title=\"Convert this dataframe to an interactive table.\"\n",
       "              style=\"display:none;\">\n",
       "        \n",
       "  <svg xmlns=\"http://www.w3.org/2000/svg\" height=\"24px\"viewBox=\"0 0 24 24\"\n",
       "       width=\"24px\">\n",
       "    <path d=\"M0 0h24v24H0V0z\" fill=\"none\"/>\n",
       "    <path d=\"M18.56 5.44l.94 2.06.94-2.06 2.06-.94-2.06-.94-.94-2.06-.94 2.06-2.06.94zm-11 1L8.5 8.5l.94-2.06 2.06-.94-2.06-.94L8.5 2.5l-.94 2.06-2.06.94zm10 10l.94 2.06.94-2.06 2.06-.94-2.06-.94-.94-2.06-.94 2.06-2.06.94z\"/><path d=\"M17.41 7.96l-1.37-1.37c-.4-.4-.92-.59-1.43-.59-.52 0-1.04.2-1.43.59L10.3 9.45l-7.72 7.72c-.78.78-.78 2.05 0 2.83L4 21.41c.39.39.9.59 1.41.59.51 0 1.02-.2 1.41-.59l7.78-7.78 2.81-2.81c.8-.78.8-2.07 0-2.86zM5.41 20L4 18.59l7.72-7.72 1.47 1.35L5.41 20z\"/>\n",
       "  </svg>\n",
       "      </button>\n",
       "      \n",
       "  <style>\n",
       "    .colab-df-container {\n",
       "      display:flex;\n",
       "      flex-wrap:wrap;\n",
       "      gap: 12px;\n",
       "    }\n",
       "\n",
       "    .colab-df-convert {\n",
       "      background-color: #E8F0FE;\n",
       "      border: none;\n",
       "      border-radius: 50%;\n",
       "      cursor: pointer;\n",
       "      display: none;\n",
       "      fill: #1967D2;\n",
       "      height: 32px;\n",
       "      padding: 0 0 0 0;\n",
       "      width: 32px;\n",
       "    }\n",
       "\n",
       "    .colab-df-convert:hover {\n",
       "      background-color: #E2EBFA;\n",
       "      box-shadow: 0px 1px 2px rgba(60, 64, 67, 0.3), 0px 1px 3px 1px rgba(60, 64, 67, 0.15);\n",
       "      fill: #174EA6;\n",
       "    }\n",
       "\n",
       "    [theme=dark] .colab-df-convert {\n",
       "      background-color: #3B4455;\n",
       "      fill: #D2E3FC;\n",
       "    }\n",
       "\n",
       "    [theme=dark] .colab-df-convert:hover {\n",
       "      background-color: #434B5C;\n",
       "      box-shadow: 0px 1px 3px 1px rgba(0, 0, 0, 0.15);\n",
       "      filter: drop-shadow(0px 1px 2px rgba(0, 0, 0, 0.3));\n",
       "      fill: #FFFFFF;\n",
       "    }\n",
       "  </style>\n",
       "\n",
       "      <script>\n",
       "        const buttonEl =\n",
       "          document.querySelector('#df-f80d9bc2-493e-4378-a137-1d6f0dc35b49 button.colab-df-convert');\n",
       "        buttonEl.style.display =\n",
       "          google.colab.kernel.accessAllowed ? 'block' : 'none';\n",
       "\n",
       "        async function convertToInteractive(key) {\n",
       "          const element = document.querySelector('#df-f80d9bc2-493e-4378-a137-1d6f0dc35b49');\n",
       "          const dataTable =\n",
       "            await google.colab.kernel.invokeFunction('convertToInteractive',\n",
       "                                                     [key], {});\n",
       "          if (!dataTable) return;\n",
       "\n",
       "          const docLinkHtml = 'Like what you see? Visit the ' +\n",
       "            '<a target=\"_blank\" href=https://colab.research.google.com/notebooks/data_table.ipynb>data table notebook</a>'\n",
       "            + ' to learn more about interactive tables.';\n",
       "          element.innerHTML = '';\n",
       "          dataTable['output_type'] = 'display_data';\n",
       "          await google.colab.output.renderOutput(dataTable, element);\n",
       "          const docLink = document.createElement('div');\n",
       "          docLink.innerHTML = docLinkHtml;\n",
       "          element.appendChild(docLink);\n",
       "        }\n",
       "      </script>\n",
       "    </div>\n",
       "  </div>\n",
       "  "
      ],
      "text/plain": [
       "                                                  name   brand  \\\n",
       "389  Brand New Amazon Kindle Fire 16gb 7\" Ips Displ...  Amazon   \n",
       "420  Brand New Amazon Kindle Fire 16gb 7\" Ips Displ...  Amazon   \n",
       "886  All-New Fire HD 8 Tablet, 8 HD Display, Wi-Fi,...  Amazon   \n",
       "\n",
       "                                            categories primaryCategories  \\\n",
       "389  Computers/Tablets & Networking,Tablets & eBook...       Electronics   \n",
       "420  Computers/Tablets & Networking,Tablets & eBook...       Electronics   \n",
       "886    Fire Tablets,Tablets,All Tablets,Amazon Tablets       Electronics   \n",
       "\n",
       "                 reviews.date  \\\n",
       "389  2016-06-23T00:00:00.000Z   \n",
       "420  2016-10-18T00:00:00.000Z   \n",
       "886  2016-12-14T00:00:00.000Z   \n",
       "\n",
       "                                          reviews.text  \\\n",
       "389  This tablet does a great deal! From surfing th...   \n",
       "420  I wanted to get something nice for my wife and...   \n",
       "886  I bought one for my boyfriend and one for his ...   \n",
       "\n",
       "                   reviews.title  \n",
       "389                   Does a lot  \n",
       "420                Wife loved it  \n",
       "886  Great tablet for normal use  "
      ]
     },
     "execution_count": 26,
     "metadata": {},
     "output_type": "execute_result"
    }
   ],
   "source": [
    "#show duplicated record, test data\n",
    "pd_df_test_data[pd_s_index_dubl]"
   ]
  },
  {
   "cell_type": "code",
   "execution_count": null,
   "metadata": {
    "id": "WKf_Viaglg1G"
   },
   "outputs": [],
   "source": [
    "#check test data hidden if is duplicated\n",
    "pd_s_index_dubl = pd_df_test_data_hidden.duplicated()"
   ]
  },
  {
   "cell_type": "code",
   "execution_count": null,
   "metadata": {
    "colab": {
     "base_uri": "https://localhost:8080/"
    },
    "id": "iheVUZN9m0J2",
    "outputId": "04556cc1-879c-43c4-caed-2961932650b9"
   },
   "outputs": [
    {
     "data": {
      "text/html": [
       "\n",
       "  <div id=\"df-29a11028-0dec-4263-9a04-211994a93d90\">\n",
       "    <div class=\"colab-df-container\">\n",
       "      <div>\n",
       "<style scoped>\n",
       "    .dataframe tbody tr th:only-of-type {\n",
       "        vertical-align: middle;\n",
       "    }\n",
       "\n",
       "    .dataframe tbody tr th {\n",
       "        vertical-align: top;\n",
       "    }\n",
       "\n",
       "    .dataframe thead th {\n",
       "        text-align: right;\n",
       "    }\n",
       "</style>\n",
       "<table border=\"1\" class=\"dataframe\">\n",
       "  <thead>\n",
       "    <tr style=\"text-align: right;\">\n",
       "      <th></th>\n",
       "      <th>name</th>\n",
       "      <th>brand</th>\n",
       "      <th>categories</th>\n",
       "      <th>primaryCategories</th>\n",
       "      <th>reviews.date</th>\n",
       "      <th>reviews.text</th>\n",
       "      <th>reviews.title</th>\n",
       "      <th>sentiment</th>\n",
       "    </tr>\n",
       "  </thead>\n",
       "  <tbody>\n",
       "    <tr>\n",
       "      <th>389</th>\n",
       "      <td>Brand New Amazon Kindle Fire 16gb 7\" Ips Displ...</td>\n",
       "      <td>Amazon</td>\n",
       "      <td>Computers/Tablets &amp; Networking,Tablets &amp; eBook...</td>\n",
       "      <td>Electronics</td>\n",
       "      <td>2016-06-23T00:00:00.000Z</td>\n",
       "      <td>This tablet does a great deal! From surfing th...</td>\n",
       "      <td>Does a lot</td>\n",
       "      <td>Positive</td>\n",
       "    </tr>\n",
       "    <tr>\n",
       "      <th>420</th>\n",
       "      <td>Brand New Amazon Kindle Fire 16gb 7\" Ips Displ...</td>\n",
       "      <td>Amazon</td>\n",
       "      <td>Computers/Tablets &amp; Networking,Tablets &amp; eBook...</td>\n",
       "      <td>Electronics</td>\n",
       "      <td>2016-10-18T00:00:00.000Z</td>\n",
       "      <td>I wanted to get something nice for my wife and...</td>\n",
       "      <td>Wife loved it</td>\n",
       "      <td>Positive</td>\n",
       "    </tr>\n",
       "    <tr>\n",
       "      <th>886</th>\n",
       "      <td>All-New Fire HD 8 Tablet, 8 HD Display, Wi-Fi,...</td>\n",
       "      <td>Amazon</td>\n",
       "      <td>Fire Tablets,Tablets,All Tablets,Amazon Tablets</td>\n",
       "      <td>Electronics</td>\n",
       "      <td>2016-12-14T00:00:00.000Z</td>\n",
       "      <td>I bought one for my boyfriend and one for his ...</td>\n",
       "      <td>Great tablet for normal use</td>\n",
       "      <td>Positive</td>\n",
       "    </tr>\n",
       "  </tbody>\n",
       "</table>\n",
       "</div>\n",
       "      <button class=\"colab-df-convert\" onclick=\"convertToInteractive('df-29a11028-0dec-4263-9a04-211994a93d90')\"\n",
       "              title=\"Convert this dataframe to an interactive table.\"\n",
       "              style=\"display:none;\">\n",
       "        \n",
       "  <svg xmlns=\"http://www.w3.org/2000/svg\" height=\"24px\"viewBox=\"0 0 24 24\"\n",
       "       width=\"24px\">\n",
       "    <path d=\"M0 0h24v24H0V0z\" fill=\"none\"/>\n",
       "    <path d=\"M18.56 5.44l.94 2.06.94-2.06 2.06-.94-2.06-.94-.94-2.06-.94 2.06-2.06.94zm-11 1L8.5 8.5l.94-2.06 2.06-.94-2.06-.94L8.5 2.5l-.94 2.06-2.06.94zm10 10l.94 2.06.94-2.06 2.06-.94-2.06-.94-.94-2.06-.94 2.06-2.06.94z\"/><path d=\"M17.41 7.96l-1.37-1.37c-.4-.4-.92-.59-1.43-.59-.52 0-1.04.2-1.43.59L10.3 9.45l-7.72 7.72c-.78.78-.78 2.05 0 2.83L4 21.41c.39.39.9.59 1.41.59.51 0 1.02-.2 1.41-.59l7.78-7.78 2.81-2.81c.8-.78.8-2.07 0-2.86zM5.41 20L4 18.59l7.72-7.72 1.47 1.35L5.41 20z\"/>\n",
       "  </svg>\n",
       "      </button>\n",
       "      \n",
       "  <style>\n",
       "    .colab-df-container {\n",
       "      display:flex;\n",
       "      flex-wrap:wrap;\n",
       "      gap: 12px;\n",
       "    }\n",
       "\n",
       "    .colab-df-convert {\n",
       "      background-color: #E8F0FE;\n",
       "      border: none;\n",
       "      border-radius: 50%;\n",
       "      cursor: pointer;\n",
       "      display: none;\n",
       "      fill: #1967D2;\n",
       "      height: 32px;\n",
       "      padding: 0 0 0 0;\n",
       "      width: 32px;\n",
       "    }\n",
       "\n",
       "    .colab-df-convert:hover {\n",
       "      background-color: #E2EBFA;\n",
       "      box-shadow: 0px 1px 2px rgba(60, 64, 67, 0.3), 0px 1px 3px 1px rgba(60, 64, 67, 0.15);\n",
       "      fill: #174EA6;\n",
       "    }\n",
       "\n",
       "    [theme=dark] .colab-df-convert {\n",
       "      background-color: #3B4455;\n",
       "      fill: #D2E3FC;\n",
       "    }\n",
       "\n",
       "    [theme=dark] .colab-df-convert:hover {\n",
       "      background-color: #434B5C;\n",
       "      box-shadow: 0px 1px 3px 1px rgba(0, 0, 0, 0.15);\n",
       "      filter: drop-shadow(0px 1px 2px rgba(0, 0, 0, 0.3));\n",
       "      fill: #FFFFFF;\n",
       "    }\n",
       "  </style>\n",
       "\n",
       "      <script>\n",
       "        const buttonEl =\n",
       "          document.querySelector('#df-29a11028-0dec-4263-9a04-211994a93d90 button.colab-df-convert');\n",
       "        buttonEl.style.display =\n",
       "          google.colab.kernel.accessAllowed ? 'block' : 'none';\n",
       "\n",
       "        async function convertToInteractive(key) {\n",
       "          const element = document.querySelector('#df-29a11028-0dec-4263-9a04-211994a93d90');\n",
       "          const dataTable =\n",
       "            await google.colab.kernel.invokeFunction('convertToInteractive',\n",
       "                                                     [key], {});\n",
       "          if (!dataTable) return;\n",
       "\n",
       "          const docLinkHtml = 'Like what you see? Visit the ' +\n",
       "            '<a target=\"_blank\" href=https://colab.research.google.com/notebooks/data_table.ipynb>data table notebook</a>'\n",
       "            + ' to learn more about interactive tables.';\n",
       "          element.innerHTML = '';\n",
       "          dataTable['output_type'] = 'display_data';\n",
       "          await google.colab.output.renderOutput(dataTable, element);\n",
       "          const docLink = document.createElement('div');\n",
       "          docLink.innerHTML = docLinkHtml;\n",
       "          element.appendChild(docLink);\n",
       "        }\n",
       "      </script>\n",
       "    </div>\n",
       "  </div>\n",
       "  "
      ],
      "text/plain": [
       "                                                  name   brand  \\\n",
       "389  Brand New Amazon Kindle Fire 16gb 7\" Ips Displ...  Amazon   \n",
       "420  Brand New Amazon Kindle Fire 16gb 7\" Ips Displ...  Amazon   \n",
       "886  All-New Fire HD 8 Tablet, 8 HD Display, Wi-Fi,...  Amazon   \n",
       "\n",
       "                                            categories primaryCategories  \\\n",
       "389  Computers/Tablets & Networking,Tablets & eBook...       Electronics   \n",
       "420  Computers/Tablets & Networking,Tablets & eBook...       Electronics   \n",
       "886    Fire Tablets,Tablets,All Tablets,Amazon Tablets       Electronics   \n",
       "\n",
       "                 reviews.date  \\\n",
       "389  2016-06-23T00:00:00.000Z   \n",
       "420  2016-10-18T00:00:00.000Z   \n",
       "886  2016-12-14T00:00:00.000Z   \n",
       "\n",
       "                                          reviews.text  \\\n",
       "389  This tablet does a great deal! From surfing th...   \n",
       "420  I wanted to get something nice for my wife and...   \n",
       "886  I bought one for my boyfriend and one for his ...   \n",
       "\n",
       "                   reviews.title sentiment  \n",
       "389                   Does a lot  Positive  \n",
       "420                Wife loved it  Positive  \n",
       "886  Great tablet for normal use  Positive  "
      ]
     },
     "execution_count": 28,
     "metadata": {},
     "output_type": "execute_result"
    }
   ],
   "source": [
    "#show duplicated record, test data hidden\n",
    "pd_df_test_data_hidden[pd_s_index_dubl]"
   ]
  },
  {
   "cell_type": "code",
   "execution_count": null,
   "metadata": {
    "id": "Xtj_JqUYlmVk"
   },
   "outputs": [],
   "source": [
    "#check train data if is duplicated\n",
    "pd_s_index_dubl = pd_df_train_data.duplicated()"
   ]
  },
  {
   "cell_type": "code",
   "execution_count": null,
   "metadata": {
    "colab": {
     "base_uri": "https://localhost:8080/"
    },
    "id": "iJXJkMYQm9kS",
    "outputId": "18648b23-530b-468b-a56a-1edc2eaed375"
   },
   "outputs": [
    {
     "data": {
      "text/plain": [
       "58"
      ]
     },
     "execution_count": 30,
     "metadata": {},
     "output_type": "execute_result"
    }
   ],
   "source": [
    "#print sum of duplicated record, train data\n",
    "pd_s_index_dubl.sum()"
   ]
  },
  {
   "cell_type": "code",
   "execution_count": null,
   "metadata": {
    "colab": {
     "base_uri": "https://localhost:8080/"
    },
    "id": "ROhfhE2HnBIP",
    "outputId": "8988ecea-c7b0-4ead-80db-474ce06deee0"
   },
   "outputs": [
    {
     "data": {
      "text/html": [
       "\n",
       "  <div id=\"df-6da83873-3671-4b83-a634-eb0cf7158d55\">\n",
       "    <div class=\"colab-df-container\">\n",
       "      <div>\n",
       "<style scoped>\n",
       "    .dataframe tbody tr th:only-of-type {\n",
       "        vertical-align: middle;\n",
       "    }\n",
       "\n",
       "    .dataframe tbody tr th {\n",
       "        vertical-align: top;\n",
       "    }\n",
       "\n",
       "    .dataframe thead th {\n",
       "        text-align: right;\n",
       "    }\n",
       "</style>\n",
       "<table border=\"1\" class=\"dataframe\">\n",
       "  <thead>\n",
       "    <tr style=\"text-align: right;\">\n",
       "      <th></th>\n",
       "      <th>name</th>\n",
       "      <th>brand</th>\n",
       "      <th>categories</th>\n",
       "      <th>primaryCategories</th>\n",
       "      <th>reviews.date</th>\n",
       "      <th>reviews.text</th>\n",
       "      <th>reviews.title</th>\n",
       "      <th>sentiment</th>\n",
       "    </tr>\n",
       "  </thead>\n",
       "  <tbody>\n",
       "    <tr>\n",
       "      <th>709</th>\n",
       "      <td>Brand New Amazon Kindle Fire 16gb 7\" Ips Displ...</td>\n",
       "      <td>Amazon</td>\n",
       "      <td>Computers/Tablets &amp; Networking,Tablets &amp; eBook...</td>\n",
       "      <td>Electronics</td>\n",
       "      <td>2017-01-23T00:00:00.000Z</td>\n",
       "      <td>This is the 3rd one I've purchased. I've bough...</td>\n",
       "      <td>Very durable!</td>\n",
       "      <td>Positive</td>\n",
       "    </tr>\n",
       "    <tr>\n",
       "      <th>866</th>\n",
       "      <td>Kindle E-reader - White, 6 Glare-Free Touchscr...</td>\n",
       "      <td>Amazon</td>\n",
       "      <td>Office,eBook Readers,Electronics Features,Walm...</td>\n",
       "      <td>Office Supplies,Electronics</td>\n",
       "      <td>2017-09-01T00:00:00.000Z</td>\n",
       "      <td>This is really good if you read a lot, doesn't...</td>\n",
       "      <td>Great buy if you read a lot</td>\n",
       "      <td>Positive</td>\n",
       "    </tr>\n",
       "    <tr>\n",
       "      <th>1085</th>\n",
       "      <td>Brand New Amazon Kindle Fire 16gb 7\" Ips Displ...</td>\n",
       "      <td>Amazon</td>\n",
       "      <td>Computers/Tablets &amp; Networking,Tablets &amp; eBook...</td>\n",
       "      <td>Electronics</td>\n",
       "      <td>2017-02-15T00:00:00.000Z</td>\n",
       "      <td>Great for kids. Simple and inexpensive. 16G mu...</td>\n",
       "      <td>Simple tablet</td>\n",
       "      <td>Positive</td>\n",
       "    </tr>\n",
       "    <tr>\n",
       "      <th>1116</th>\n",
       "      <td>Kindle E-reader - White, 6 Glare-Free Touchscr...</td>\n",
       "      <td>Amazon</td>\n",
       "      <td>Office,eBook Readers,Electronics Features,Walm...</td>\n",
       "      <td>Office Supplies,Electronics</td>\n",
       "      <td>2016-12-24T00:00:00.000Z</td>\n",
       "      <td>Item work well and was easy to read from in da...</td>\n",
       "      <td>Work</td>\n",
       "      <td>Positive</td>\n",
       "    </tr>\n",
       "    <tr>\n",
       "      <th>1131</th>\n",
       "      <td>Brand New Amazon Kindle Fire 16gb 7\" Ips Displ...</td>\n",
       "      <td>Amazon</td>\n",
       "      <td>Computers/Tablets &amp; Networking,Tablets &amp; eBook...</td>\n",
       "      <td>Electronics</td>\n",
       "      <td>2016-05-27T00:00:00.000Z</td>\n",
       "      <td>Good tablet for my daughter! She loves it ,but...</td>\n",
       "      <td>Great!</td>\n",
       "      <td>Positive</td>\n",
       "    </tr>\n",
       "  </tbody>\n",
       "</table>\n",
       "</div>\n",
       "      <button class=\"colab-df-convert\" onclick=\"convertToInteractive('df-6da83873-3671-4b83-a634-eb0cf7158d55')\"\n",
       "              title=\"Convert this dataframe to an interactive table.\"\n",
       "              style=\"display:none;\">\n",
       "        \n",
       "  <svg xmlns=\"http://www.w3.org/2000/svg\" height=\"24px\"viewBox=\"0 0 24 24\"\n",
       "       width=\"24px\">\n",
       "    <path d=\"M0 0h24v24H0V0z\" fill=\"none\"/>\n",
       "    <path d=\"M18.56 5.44l.94 2.06.94-2.06 2.06-.94-2.06-.94-.94-2.06-.94 2.06-2.06.94zm-11 1L8.5 8.5l.94-2.06 2.06-.94-2.06-.94L8.5 2.5l-.94 2.06-2.06.94zm10 10l.94 2.06.94-2.06 2.06-.94-2.06-.94-.94-2.06-.94 2.06-2.06.94z\"/><path d=\"M17.41 7.96l-1.37-1.37c-.4-.4-.92-.59-1.43-.59-.52 0-1.04.2-1.43.59L10.3 9.45l-7.72 7.72c-.78.78-.78 2.05 0 2.83L4 21.41c.39.39.9.59 1.41.59.51 0 1.02-.2 1.41-.59l7.78-7.78 2.81-2.81c.8-.78.8-2.07 0-2.86zM5.41 20L4 18.59l7.72-7.72 1.47 1.35L5.41 20z\"/>\n",
       "  </svg>\n",
       "      </button>\n",
       "      \n",
       "  <style>\n",
       "    .colab-df-container {\n",
       "      display:flex;\n",
       "      flex-wrap:wrap;\n",
       "      gap: 12px;\n",
       "    }\n",
       "\n",
       "    .colab-df-convert {\n",
       "      background-color: #E8F0FE;\n",
       "      border: none;\n",
       "      border-radius: 50%;\n",
       "      cursor: pointer;\n",
       "      display: none;\n",
       "      fill: #1967D2;\n",
       "      height: 32px;\n",
       "      padding: 0 0 0 0;\n",
       "      width: 32px;\n",
       "    }\n",
       "\n",
       "    .colab-df-convert:hover {\n",
       "      background-color: #E2EBFA;\n",
       "      box-shadow: 0px 1px 2px rgba(60, 64, 67, 0.3), 0px 1px 3px 1px rgba(60, 64, 67, 0.15);\n",
       "      fill: #174EA6;\n",
       "    }\n",
       "\n",
       "    [theme=dark] .colab-df-convert {\n",
       "      background-color: #3B4455;\n",
       "      fill: #D2E3FC;\n",
       "    }\n",
       "\n",
       "    [theme=dark] .colab-df-convert:hover {\n",
       "      background-color: #434B5C;\n",
       "      box-shadow: 0px 1px 3px 1px rgba(0, 0, 0, 0.15);\n",
       "      filter: drop-shadow(0px 1px 2px rgba(0, 0, 0, 0.3));\n",
       "      fill: #FFFFFF;\n",
       "    }\n",
       "  </style>\n",
       "\n",
       "      <script>\n",
       "        const buttonEl =\n",
       "          document.querySelector('#df-6da83873-3671-4b83-a634-eb0cf7158d55 button.colab-df-convert');\n",
       "        buttonEl.style.display =\n",
       "          google.colab.kernel.accessAllowed ? 'block' : 'none';\n",
       "\n",
       "        async function convertToInteractive(key) {\n",
       "          const element = document.querySelector('#df-6da83873-3671-4b83-a634-eb0cf7158d55');\n",
       "          const dataTable =\n",
       "            await google.colab.kernel.invokeFunction('convertToInteractive',\n",
       "                                                     [key], {});\n",
       "          if (!dataTable) return;\n",
       "\n",
       "          const docLinkHtml = 'Like what you see? Visit the ' +\n",
       "            '<a target=\"_blank\" href=https://colab.research.google.com/notebooks/data_table.ipynb>data table notebook</a>'\n",
       "            + ' to learn more about interactive tables.';\n",
       "          element.innerHTML = '';\n",
       "          dataTable['output_type'] = 'display_data';\n",
       "          await google.colab.output.renderOutput(dataTable, element);\n",
       "          const docLink = document.createElement('div');\n",
       "          docLink.innerHTML = docLinkHtml;\n",
       "          element.appendChild(docLink);\n",
       "        }\n",
       "      </script>\n",
       "    </div>\n",
       "  </div>\n",
       "  "
      ],
      "text/plain": [
       "                                                   name   brand  \\\n",
       "709   Brand New Amazon Kindle Fire 16gb 7\" Ips Displ...  Amazon   \n",
       "866   Kindle E-reader - White, 6 Glare-Free Touchscr...  Amazon   \n",
       "1085  Brand New Amazon Kindle Fire 16gb 7\" Ips Displ...  Amazon   \n",
       "1116  Kindle E-reader - White, 6 Glare-Free Touchscr...  Amazon   \n",
       "1131  Brand New Amazon Kindle Fire 16gb 7\" Ips Displ...  Amazon   \n",
       "\n",
       "                                             categories  \\\n",
       "709   Computers/Tablets & Networking,Tablets & eBook...   \n",
       "866   Office,eBook Readers,Electronics Features,Walm...   \n",
       "1085  Computers/Tablets & Networking,Tablets & eBook...   \n",
       "1116  Office,eBook Readers,Electronics Features,Walm...   \n",
       "1131  Computers/Tablets & Networking,Tablets & eBook...   \n",
       "\n",
       "                primaryCategories              reviews.date  \\\n",
       "709                   Electronics  2017-01-23T00:00:00.000Z   \n",
       "866   Office Supplies,Electronics  2017-09-01T00:00:00.000Z   \n",
       "1085                  Electronics  2017-02-15T00:00:00.000Z   \n",
       "1116  Office Supplies,Electronics  2016-12-24T00:00:00.000Z   \n",
       "1131                  Electronics  2016-05-27T00:00:00.000Z   \n",
       "\n",
       "                                           reviews.text  \\\n",
       "709   This is the 3rd one I've purchased. I've bough...   \n",
       "866   This is really good if you read a lot, doesn't...   \n",
       "1085  Great for kids. Simple and inexpensive. 16G mu...   \n",
       "1116  Item work well and was easy to read from in da...   \n",
       "1131  Good tablet for my daughter! She loves it ,but...   \n",
       "\n",
       "                    reviews.title sentiment  \n",
       "709                 Very durable!  Positive  \n",
       "866   Great buy if you read a lot  Positive  \n",
       "1085                Simple tablet  Positive  \n",
       "1116                         Work  Positive  \n",
       "1131                       Great!  Positive  "
      ]
     },
     "execution_count": 31,
     "metadata": {},
     "output_type": "execute_result"
    }
   ],
   "source": [
    "#show first 5 duplicated record, train data\n",
    "pd_df_train_data[pd_s_index_dubl].head()"
   ]
  },
  {
   "cell_type": "markdown",
   "metadata": {
    "id": "7n72fYju5J69"
   },
   "source": [
    "#### Encoding Techniques"
   ]
  },
  {
   "cell_type": "code",
   "execution_count": null,
   "metadata": {
    "id": "oOr4zCXg5d-A"
   },
   "outputs": [],
   "source": [
    "from sklearn import preprocessing"
   ]
  },
  {
   "cell_type": "code",
   "execution_count": null,
   "metadata": {
    "id": "I9TLUvCo5i6q"
   },
   "outputs": [],
   "source": [
    "#le_sentiment = preprocessing.LabelEncoder()\n",
    "#le_sentiment.fit(pd_df_train_data['sentiment'])\n",
    "\n",
    "#pd_df_train_data['sentiment'] = le_sentiment.transform(pd_df_train_data['sentiment'])"
   ]
  },
  {
   "cell_type": "markdown",
   "metadata": {
    "id": "PrRbXzIbo1Jm"
   },
   "source": [
    "#### See what a positive, negative, and neutral review looks like"
   ]
  },
  {
   "cell_type": "code",
   "execution_count": null,
   "metadata": {
    "colab": {
     "base_uri": "https://localhost:8080/"
    },
    "id": "lw33Lc9fG6E_",
    "outputId": "775d749d-2008-47d9-da46-2499b67ca859"
   },
   "outputs": [
    {
     "data": {
      "text/plain": [
       "Positive    934\n",
       "Neutral      39\n",
       "Negative     24\n",
       "Name: sentiment, dtype: int64"
      ]
     },
     "execution_count": 34,
     "metadata": {},
     "output_type": "execute_result"
    }
   ],
   "source": [
    "#Check the class count of test data hidden for each target data\n",
    "pd_df_test_data_hidden['sentiment'].value_counts()"
   ]
  },
  {
   "cell_type": "code",
   "execution_count": null,
   "metadata": {
    "colab": {
     "base_uri": "https://localhost:8080/"
    },
    "id": "d8ycrunypl72",
    "outputId": "faa90a37-18b6-4f59-adf0-14714f24a798"
   },
   "outputs": [
    {
     "data": {
      "text/plain": [
       "<matplotlib.axes._subplots.AxesSubplot at 0x7f99af7beb50>"
      ]
     },
     "execution_count": 35,
     "metadata": {},
     "output_type": "execute_result"
    },
    {
     "data": {
      "image/png": "[encoded data removed]",
      "text/plain": [
       "<Figure size 432x288 with 1 Axes>"
      ]
     },
     "metadata": {
      "needs_background": "light"
     },
     "output_type": "display_data"
    }
   ],
   "source": [
    "#Check the class count of test data hidden for each target data\n",
    "pd_df_test_data_hidden['sentiment'].value_counts().plot.bar()"
   ]
  },
  {
   "cell_type": "code",
   "execution_count": null,
   "metadata": {
    "colab": {
     "base_uri": "https://localhost:8080/"
    },
    "id": "gagLI7wyHBfK",
    "outputId": "fdfd1ada-6ec0-4f4f-e1bd-50d680171889"
   },
   "outputs": [
    {
     "data": {
      "text/plain": [
       "Positive    3739\n",
       "Neutral      158\n",
       "Negative      93\n",
       "Name: sentiment, dtype: int64"
      ]
     },
     "execution_count": 36,
     "metadata": {},
     "output_type": "execute_result"
    }
   ],
   "source": [
    "#Check the class count of train data for each target data. It’s a class imbalance problem\n",
    "pd_df_train_data['sentiment'].value_counts()"
   ]
  },
  {
   "cell_type": "code",
   "execution_count": null,
   "metadata": {
    "colab": {
     "base_uri": "https://localhost:8080/"
    },
    "id": "1Chk1A3Oo7eP",
    "outputId": "16d62e6a-9b0c-4431-f2f5-b693d4c4f88f"
   },
   "outputs": [
    {
     "data": {
      "text/plain": [
       "<matplotlib.axes._subplots.AxesSubplot at 0x7f99af708a90>"
      ]
     },
     "execution_count": 37,
     "metadata": {},
     "output_type": "execute_result"
    },
    {
     "data": {
      "image/png": "[encoded data removed]",
      "text/plain": [
       "<Figure size 432x288 with 1 Axes>"
      ]
     },
     "metadata": {
      "needs_background": "light"
     },
     "output_type": "display_data"
    }
   ],
   "source": [
    "#Check the class count of train data for each target data\n",
    "pd_df_train_data['sentiment'].value_counts().plot.bar()"
   ]
  },
  {
   "cell_type": "markdown",
   "metadata": {
    "id": "N8L4dbZO9q5y"
   },
   "source": [
    "#### Data organisation"
   ]
  },
  {
   "cell_type": "code",
   "execution_count": null,
   "metadata": {
    "id": "00dXaOldbGDn"
   },
   "outputs": [],
   "source": [
    "#feature selection for train data\n",
    "pd_s_feature_train = pd_df_train_data['reviews.title'] + ' ' + pd_df_train_data['reviews.text']\n",
    "pd_s_target_train = pd_df_train_data['sentiment']\n",
    "\n",
    "#feature selection for test data\n",
    "pd_s_feature_test = pd_df_test_data['reviews.title'] + ' ' + pd_df_test_data['reviews.text']\n",
    "\n",
    "#feature selection for test data hidden\n",
    "pd_s_feature_test_hidden = pd_df_test_data_hidden['reviews.title'] + ' ' + pd_df_test_data_hidden['reviews.text']\n",
    "pd_s_target_test_hidden = pd_df_test_data_hidden['sentiment']"
   ]
  },
  {
   "cell_type": "code",
   "execution_count": null,
   "metadata": {
    "id": "cre2qUGDcMOa"
   },
   "outputs": [],
   "source": [
    "#copy train feature, all feature for bag of words\n",
    "pd_s_feature = pd_s_feature_train.copy()\n",
    "#add test feature\n",
    "pd_s_feature = pd_s_feature.append(pd_s_feature_test, ignore_index=True)\n",
    "#add test hidden feature\n",
    "pd_s_feature = pd_s_feature.append(pd_s_feature_test_hidden, ignore_index=True)"
   ]
  },
  {
   "cell_type": "code",
   "execution_count": null,
   "metadata": {
    "colab": {
     "base_uri": "https://localhost:8080/"
    },
    "id": "8fU4NS4A1093",
    "outputId": "4eaf18b5-3c5b-46e4-e3a2-bfee40182017"
   },
   "outputs": [
    {
     "data": {
      "text/plain": [
       "5984"
      ]
     },
     "execution_count": 40,
     "metadata": {},
     "output_type": "execute_result"
    }
   ],
   "source": [
    "#print total number of record\n",
    "pd_s_feature_train.shape[0] + pd_s_feature_test.shape[0] + pd_s_feature_test_hidden.shape[0]"
   ]
  },
  {
   "cell_type": "code",
   "execution_count": null,
   "metadata": {
    "colab": {
     "base_uri": "https://localhost:8080/"
    },
    "id": "SGrYm1CVjK_R",
    "outputId": "2f7cbe7c-4f24-45a8-b8a4-f026e5c2c071"
   },
   "outputs": [
    {
     "data": {
      "text/plain": [
       "(5984,)"
      ]
     },
     "execution_count": 41,
     "metadata": {},
     "output_type": "execute_result"
    }
   ],
   "source": [
    "#print total number of record of final data frame\n",
    "pd_s_feature.shape"
   ]
  },
  {
   "cell_type": "markdown",
   "metadata": {
    "id": "tPssdNWOSzpq"
   },
   "source": [
    "### Convert the reviews in Tf-Idf score"
   ]
  },
  {
   "cell_type": "code",
   "execution_count": null,
   "metadata": {
    "id": "xqm0cxIjdZq7"
   },
   "outputs": [],
   "source": [
    "#text process object\n",
    "my_txt_process = MyTextProcess()\n",
    "# bag of words by applying the function and fit the data (comment) into it\n",
    "obj_bag_of_words = CountVectorizer(analyzer=my_txt_process.txt_vectorization).fit(pd_s_feature)\n",
    "# apply transform method for the bag of words for all feature\n",
    "all_bag_of_words = obj_bag_of_words.transform(pd_s_feature)\n",
    "# apply tfidf fit method for all bag of words\n",
    "obj_tfidf = TfidfTransformer().fit(all_bag_of_words)"
   ]
  },
  {
   "cell_type": "code",
   "execution_count": null,
   "metadata": {
    "id": "Nu7ZQ928e3mQ"
   },
   "outputs": [],
   "source": [
    "# apply transform method for the bag of words of train data\n",
    "train_bag_of_words = obj_bag_of_words.transform(pd_s_feature_train)\n",
    "# apply tfidf transformer for train bag of words into it (transformed version)\n",
    "train_tfidf = obj_tfidf.transform(train_bag_of_words)\n",
    "\n",
    "# apply transform method for the bag of words of test data hidden\n",
    "test_hidden_bag_of_words = obj_bag_of_words.transform(pd_s_feature_test_hidden)\n",
    "# apply tfidf transformer for train bag of words into it (transformed version)\n",
    "test_hidden_tfidf = obj_tfidf.transform(test_hidden_bag_of_words)"
   ]
  },
  {
   "cell_type": "markdown",
   "metadata": {
    "id": "sv_C1O9icS0x"
   },
   "source": [
    "### Run multinomial Naive Bayes classifier"
   ]
  },
  {
   "cell_type": "code",
   "execution_count": null,
   "metadata": {
    "id": "6ixX75AHdBRH"
   },
   "outputs": [],
   "source": [
    "#choose naive Bayes model to detect the sentiment and fit the tfidf data into it\n",
    "sentiment_NB_detection_model = MultinomialNB().fit(train_tfidf, pd_s_target_train)"
   ]
  },
  {
   "cell_type": "code",
   "execution_count": null,
   "metadata": {
    "id": "s6UrWpQ5hXny"
   },
   "outputs": [],
   "source": [
    "#check model for prediction\n",
    "predict_sentiment = sentiment_NB_detection_model.predict(test_hidden_tfidf)"
   ]
  },
  {
   "cell_type": "code",
   "execution_count": null,
   "metadata": {
    "id": "yvV6YaeTIf6A"
   },
   "outputs": [],
   "source": [
    "#delete object\n",
    "del sentiment_NB_detection_model"
   ]
  },
  {
   "cell_type": "markdown",
   "metadata": {
    "id": "4iyU4qVqAcCA"
   },
   "source": [
    "#### Evaluation metrics"
   ]
  },
  {
   "cell_type": "code",
   "execution_count": null,
   "metadata": {
    "colab": {
     "base_uri": "https://localhost:8080/"
    },
    "id": "HHGisebRgang",
    "outputId": "c85d6217-3f43-406c-ebab-aafd5cb9e1ad"
   },
   "outputs": [
    {
     "name": "stdout",
     "output_type": "stream",
     "text": [
      "              precision    recall  f1-score   support\n",
      "\n",
      "    Negative       0.00      0.00      0.00        24\n",
      "     Neutral       0.00      0.00      0.00        39\n",
      "    Positive       0.94      1.00      0.97       934\n",
      "\n",
      "    accuracy                           0.94       997\n",
      "   macro avg       0.31      0.33      0.32       997\n",
      "weighted avg       0.88      0.94      0.91       997\n",
      "\n"
     ]
    }
   ],
   "source": [
    "#Evaluation Metrics\n",
    "print(metrics.classification_report(pd_s_target_test_hidden, predict_sentiment))"
   ]
  },
  {
   "cell_type": "code",
   "execution_count": null,
   "metadata": {
    "id": "A5PS1UZUIyyK"
   },
   "outputs": [],
   "source": [
    "#Perform confusion matrix on pandas data frame\n",
    "pd_df_conf_matrix = pd_df_multi_class_confusion_matrix(pd_s_target_test_hidden, predict_sentiment)"
   ]
  },
  {
   "cell_type": "code",
   "execution_count": null,
   "metadata": {
    "colab": {
     "base_uri": "https://localhost:8080/"
    },
    "id": "NoxZd1A6nnDj",
    "outputId": "02ee536d-fabf-4c4d-b47a-f2241d4d34b7"
   },
   "outputs": [
    {
     "data": {
      "text/html": [
       "\n",
       "  <div id=\"df-113f4dd9-0e38-4f6e-8f0d-25be060098c2\">\n",
       "    <div class=\"colab-df-container\">\n",
       "      <div>\n",
       "<style scoped>\n",
       "    .dataframe tbody tr th:only-of-type {\n",
       "        vertical-align: middle;\n",
       "    }\n",
       "\n",
       "    .dataframe tbody tr th {\n",
       "        vertical-align: top;\n",
       "    }\n",
       "\n",
       "    .dataframe thead tr th {\n",
       "        text-align: left;\n",
       "    }\n",
       "</style>\n",
       "<table border=\"1\" class=\"dataframe\">\n",
       "  <thead>\n",
       "    <tr>\n",
       "      <th></th>\n",
       "      <th></th>\n",
       "      <th colspan=\"3\" halign=\"left\">Predicted label</th>\n",
       "    </tr>\n",
       "    <tr>\n",
       "      <th></th>\n",
       "      <th></th>\n",
       "      <th>Positive</th>\n",
       "      <th>Negative</th>\n",
       "      <th>Neutral</th>\n",
       "    </tr>\n",
       "  </thead>\n",
       "  <tbody>\n",
       "    <tr>\n",
       "      <th rowspan=\"3\" valign=\"top\">Actual label</th>\n",
       "      <th>Positive</th>\n",
       "      <td>934</td>\n",
       "      <td>0</td>\n",
       "      <td>0</td>\n",
       "    </tr>\n",
       "    <tr>\n",
       "      <th>Negative</th>\n",
       "      <td>24</td>\n",
       "      <td>0</td>\n",
       "      <td>0</td>\n",
       "    </tr>\n",
       "    <tr>\n",
       "      <th>Neutral</th>\n",
       "      <td>39</td>\n",
       "      <td>0</td>\n",
       "      <td>0</td>\n",
       "    </tr>\n",
       "  </tbody>\n",
       "</table>\n",
       "</div>\n",
       "      <button class=\"colab-df-convert\" onclick=\"convertToInteractive('df-113f4dd9-0e38-4f6e-8f0d-25be060098c2')\"\n",
       "              title=\"Convert this dataframe to an interactive table.\"\n",
       "              style=\"display:none;\">\n",
       "        \n",
       "  <svg xmlns=\"http://www.w3.org/2000/svg\" height=\"24px\"viewBox=\"0 0 24 24\"\n",
       "       width=\"24px\">\n",
       "    <path d=\"M0 0h24v24H0V0z\" fill=\"none\"/>\n",
       "    <path d=\"M18.56 5.44l.94 2.06.94-2.06 2.06-.94-2.06-.94-.94-2.06-.94 2.06-2.06.94zm-11 1L8.5 8.5l.94-2.06 2.06-.94-2.06-.94L8.5 2.5l-.94 2.06-2.06.94zm10 10l.94 2.06.94-2.06 2.06-.94-2.06-.94-.94-2.06-.94 2.06-2.06.94z\"/><path d=\"M17.41 7.96l-1.37-1.37c-.4-.4-.92-.59-1.43-.59-.52 0-1.04.2-1.43.59L10.3 9.45l-7.72 7.72c-.78.78-.78 2.05 0 2.83L4 21.41c.39.39.9.59 1.41.59.51 0 1.02-.2 1.41-.59l7.78-7.78 2.81-2.81c.8-.78.8-2.07 0-2.86zM5.41 20L4 18.59l7.72-7.72 1.47 1.35L5.41 20z\"/>\n",
       "  </svg>\n",
       "      </button>\n",
       "      \n",
       "  <style>\n",
       "    .colab-df-container {\n",
       "      display:flex;\n",
       "      flex-wrap:wrap;\n",
       "      gap: 12px;\n",
       "    }\n",
       "\n",
       "    .colab-df-convert {\n",
       "      background-color: #E8F0FE;\n",
       "      border: none;\n",
       "      border-radius: 50%;\n",
       "      cursor: pointer;\n",
       "      display: none;\n",
       "      fill: #1967D2;\n",
       "      height: 32px;\n",
       "      padding: 0 0 0 0;\n",
       "      width: 32px;\n",
       "    }\n",
       "\n",
       "    .colab-df-convert:hover {\n",
       "      background-color: #E2EBFA;\n",
       "      box-shadow: 0px 1px 2px rgba(60, 64, 67, 0.3), 0px 1px 3px 1px rgba(60, 64, 67, 0.15);\n",
       "      fill: #174EA6;\n",
       "    }\n",
       "\n",
       "    [theme=dark] .colab-df-convert {\n",
       "      background-color: #3B4455;\n",
       "      fill: #D2E3FC;\n",
       "    }\n",
       "\n",
       "    [theme=dark] .colab-df-convert:hover {\n",
       "      background-color: #434B5C;\n",
       "      box-shadow: 0px 1px 3px 1px rgba(0, 0, 0, 0.15);\n",
       "      filter: drop-shadow(0px 1px 2px rgba(0, 0, 0, 0.3));\n",
       "      fill: #FFFFFF;\n",
       "    }\n",
       "  </style>\n",
       "\n",
       "      <script>\n",
       "        const buttonEl =\n",
       "          document.querySelector('#df-113f4dd9-0e38-4f6e-8f0d-25be060098c2 button.colab-df-convert');\n",
       "        buttonEl.style.display =\n",
       "          google.colab.kernel.accessAllowed ? 'block' : 'none';\n",
       "\n",
       "        async function convertToInteractive(key) {\n",
       "          const element = document.querySelector('#df-113f4dd9-0e38-4f6e-8f0d-25be060098c2');\n",
       "          const dataTable =\n",
       "            await google.colab.kernel.invokeFunction('convertToInteractive',\n",
       "                                                     [key], {});\n",
       "          if (!dataTable) return;\n",
       "\n",
       "          const docLinkHtml = 'Like what you see? Visit the ' +\n",
       "            '<a target=\"_blank\" href=https://colab.research.google.com/notebooks/data_table.ipynb>data table notebook</a>'\n",
       "            + ' to learn more about interactive tables.';\n",
       "          element.innerHTML = '';\n",
       "          dataTable['output_type'] = 'display_data';\n",
       "          await google.colab.output.renderOutput(dataTable, element);\n",
       "          const docLink = document.createElement('div');\n",
       "          docLink.innerHTML = docLinkHtml;\n",
       "          element.appendChild(docLink);\n",
       "        }\n",
       "      </script>\n",
       "    </div>\n",
       "  </div>\n",
       "  "
      ],
      "text/plain": [
       "                      Predicted label                 \n",
       "                             Positive Negative Neutral\n",
       "Actual label Positive             934        0       0\n",
       "             Negative              24        0       0\n",
       "             Neutral               39        0       0"
      ]
     },
     "execution_count": 49,
     "metadata": {},
     "output_type": "execute_result"
    }
   ],
   "source": [
    "#Show confusion matrix for test data hidden\n",
    "pd_df_conf_matrix.head()"
   ]
  },
  {
   "cell_type": "code",
   "execution_count": null,
   "metadata": {
    "colab": {
     "base_uri": "https://localhost:8080/"
    },
    "id": "HX17Ii2JBrVs",
    "outputId": "c67281f2-726f-45a0-96c4-ad2460d99b0d"
   },
   "outputs": [
    {
     "data": {
      "image/png": "[encoded data removed]",
      "text/plain": [
       "<Figure size 432x288 with 1 Axes>"
      ]
     },
     "metadata": {
      "needs_background": "light"
     },
     "output_type": "display_data"
    }
   ],
   "source": [
    "fpr, tpr, roc_auc = roc_curve_multiclass(pd_s_target_test_hidden, predict_sentiment)\n",
    "plot_auc_roc_multiclass(fpr, tpr, roc_auc, pd_s_target_test_hidden.unique())"
   ]
  },
  {
   "cell_type": "markdown",
   "metadata": {
    "id": "b4aYt-h_dNhu"
   },
   "source": [
    "### SMOTE (Synthetic Minority Over-sampling Technique)"
   ]
  },
  {
   "cell_type": "code",
   "execution_count": null,
   "metadata": {
    "id": "T39kbRpJdbuU"
   },
   "outputs": [],
   "source": [
    "#Oversampling is used to tackle the class imbalance problem.\n",
    "smote = SMOTE(random_state=42)\n",
    "X_sm, y_sm = smote.fit_resample(train_tfidf, pd_s_target_train)\n",
    "del smote"
   ]
  },
  {
   "cell_type": "code",
   "execution_count": null,
   "metadata": {
    "colab": {
     "base_uri": "https://localhost:8080/",
     "height": 317
    },
    "id": "cjpR5KfZDf2M",
    "outputId": "62f15f03-06d7-4e19-b1b8-4a39666f458c"
   },
   "outputs": [
    {
     "data": {
      "text/plain": [
       "<matplotlib.axes._subplots.AxesSubplot at 0x7f99af015250>"
      ]
     },
     "execution_count": 71,
     "metadata": {},
     "output_type": "execute_result"
    },
    {
     "data": {
      "image/png": "[encoded data removed]",
      "text/plain": [
       "<Figure size 432x288 with 1 Axes>"
      ]
     },
     "metadata": {
      "needs_background": "light"
     },
     "output_type": "display_data"
    }
   ],
   "source": [
    "#Check the class count of test data hidden for each target data\n",
    "pd_s_target_train.value_counts().plot.bar()"
   ]
  },
  {
   "cell_type": "code",
   "execution_count": null,
   "metadata": {
    "colab": {
     "base_uri": "https://localhost:8080/",
     "height": 317
    },
    "id": "Z3_2uOYvDHB7",
    "outputId": "9166a604-b591-4349-92c1-0c38d77842d8"
   },
   "outputs": [
    {
     "data": {
      "text/plain": [
       "<matplotlib.axes._subplots.AxesSubplot at 0x7f99a96d8090>"
      ]
     },
     "execution_count": 72,
     "metadata": {},
     "output_type": "execute_result"
    },
    {
     "data": {
      "image/png": "[encoded data removed]",
      "text/plain": [
       "<Figure size 432x288 with 1 Axes>"
      ]
     },
     "metadata": {
      "needs_background": "light"
     },
     "output_type": "display_data"
    }
   ],
   "source": [
    "y_sm.value_counts().plot.bar()"
   ]
  },
  {
   "cell_type": "markdown",
   "metadata": {
    "id": "A3ge2WC1WX_w"
   },
   "source": [
    "### Classifiers"
   ]
  },
  {
   "cell_type": "markdown",
   "metadata": {
    "id": "c2wxc1e1D5wm"
   },
   "source": [
    "#### Naive Bayes classifier"
   ]
  },
  {
   "cell_type": "code",
   "execution_count": null,
   "metadata": {
    "id": "0i_v7-1KECvV"
   },
   "outputs": [],
   "source": [
    "#choose naive Bayes model to detect the sentiment and fit the tfidf data into it\n",
    "sentiment_NB_detection_model = MultinomialNB().fit(X_sm, y_sm)"
   ]
  },
  {
   "cell_type": "code",
   "execution_count": null,
   "metadata": {
    "id": "kSFeDv8RET7X"
   },
   "outputs": [],
   "source": [
    "#check model for prediction\n",
    "predict_NB = sentiment_NB_detection_model.predict(test_hidden_tfidf)"
   ]
  },
  {
   "cell_type": "code",
   "execution_count": null,
   "metadata": {
    "id": "OymiLk1TI5lL"
   },
   "outputs": [],
   "source": [
    "del sentiment_NB_detection_model"
   ]
  },
  {
   "cell_type": "markdown",
   "metadata": {
    "id": "EfYOTE8iEbwQ"
   },
   "source": [
    "##### Evaluation metrics"
   ]
  },
  {
   "cell_type": "code",
   "execution_count": null,
   "metadata": {
    "colab": {
     "base_uri": "https://localhost:8080/"
    },
    "id": "Z--REE1KEesB",
    "outputId": "4292ccb1-7a1b-4ceb-e556-ba88cb3ad992"
   },
   "outputs": [
    {
     "name": "stdout",
     "output_type": "stream",
     "text": [
      "              precision    recall  f1-score   support\n",
      "\n",
      "    Negative       0.50      0.54      0.52        24\n",
      "     Neutral       0.26      0.51      0.34        39\n",
      "    Positive       0.98      0.93      0.96       934\n",
      "\n",
      "    accuracy                           0.91       997\n",
      "   macro avg       0.58      0.66      0.61       997\n",
      "weighted avg       0.94      0.91      0.92       997\n",
      "\n"
     ]
    }
   ],
   "source": [
    "#Evaluation Metrics\n",
    "print(metrics.classification_report(pd_s_target_test_hidden, predict_NB))"
   ]
  },
  {
   "cell_type": "code",
   "execution_count": null,
   "metadata": {
    "colab": {
     "base_uri": "https://localhost:8080/",
     "height": 175
    },
    "id": "7KgmrFOgErJg",
    "outputId": "c4174e81-7930-4104-e0fe-2ccdb865f769"
   },
   "outputs": [
    {
     "data": {
      "text/html": [
       "\n",
       "  <div id=\"df-ae971cfc-c80f-4cac-8481-995a38031190\">\n",
       "    <div class=\"colab-df-container\">\n",
       "      <div>\n",
       "<style scoped>\n",
       "    .dataframe tbody tr th:only-of-type {\n",
       "        vertical-align: middle;\n",
       "    }\n",
       "\n",
       "    .dataframe tbody tr th {\n",
       "        vertical-align: top;\n",
       "    }\n",
       "\n",
       "    .dataframe thead tr th {\n",
       "        text-align: left;\n",
       "    }\n",
       "</style>\n",
       "<table border=\"1\" class=\"dataframe\">\n",
       "  <thead>\n",
       "    <tr>\n",
       "      <th></th>\n",
       "      <th></th>\n",
       "      <th colspan=\"3\" halign=\"left\">Predicted label</th>\n",
       "    </tr>\n",
       "    <tr>\n",
       "      <th></th>\n",
       "      <th></th>\n",
       "      <th>Positive</th>\n",
       "      <th>Negative</th>\n",
       "      <th>Neutral</th>\n",
       "    </tr>\n",
       "  </thead>\n",
       "  <tbody>\n",
       "    <tr>\n",
       "      <th rowspan=\"3\" valign=\"top\">Actual label</th>\n",
       "      <th>Positive</th>\n",
       "      <td>873</td>\n",
       "      <td>9</td>\n",
       "      <td>52</td>\n",
       "    </tr>\n",
       "    <tr>\n",
       "      <th>Negative</th>\n",
       "      <td>6</td>\n",
       "      <td>13</td>\n",
       "      <td>5</td>\n",
       "    </tr>\n",
       "    <tr>\n",
       "      <th>Neutral</th>\n",
       "      <td>15</td>\n",
       "      <td>4</td>\n",
       "      <td>20</td>\n",
       "    </tr>\n",
       "  </tbody>\n",
       "</table>\n",
       "</div>\n",
       "      <button class=\"colab-df-convert\" onclick=\"convertToInteractive('df-ae971cfc-c80f-4cac-8481-995a38031190')\"\n",
       "              title=\"Convert this dataframe to an interactive table.\"\n",
       "              style=\"display:none;\">\n",
       "        \n",
       "  <svg xmlns=\"http://www.w3.org/2000/svg\" height=\"24px\"viewBox=\"0 0 24 24\"\n",
       "       width=\"24px\">\n",
       "    <path d=\"M0 0h24v24H0V0z\" fill=\"none\"/>\n",
       "    <path d=\"M18.56 5.44l.94 2.06.94-2.06 2.06-.94-2.06-.94-.94-2.06-.94 2.06-2.06.94zm-11 1L8.5 8.5l.94-2.06 2.06-.94-2.06-.94L8.5 2.5l-.94 2.06-2.06.94zm10 10l.94 2.06.94-2.06 2.06-.94-2.06-.94-.94-2.06-.94 2.06-2.06.94z\"/><path d=\"M17.41 7.96l-1.37-1.37c-.4-.4-.92-.59-1.43-.59-.52 0-1.04.2-1.43.59L10.3 9.45l-7.72 7.72c-.78.78-.78 2.05 0 2.83L4 21.41c.39.39.9.59 1.41.59.51 0 1.02-.2 1.41-.59l7.78-7.78 2.81-2.81c.8-.78.8-2.07 0-2.86zM5.41 20L4 18.59l7.72-7.72 1.47 1.35L5.41 20z\"/>\n",
       "  </svg>\n",
       "      </button>\n",
       "      \n",
       "  <style>\n",
       "    .colab-df-container {\n",
       "      display:flex;\n",
       "      flex-wrap:wrap;\n",
       "      gap: 12px;\n",
       "    }\n",
       "\n",
       "    .colab-df-convert {\n",
       "      background-color: #E8F0FE;\n",
       "      border: none;\n",
       "      border-radius: 50%;\n",
       "      cursor: pointer;\n",
       "      display: none;\n",
       "      fill: #1967D2;\n",
       "      height: 32px;\n",
       "      padding: 0 0 0 0;\n",
       "      width: 32px;\n",
       "    }\n",
       "\n",
       "    .colab-df-convert:hover {\n",
       "      background-color: #E2EBFA;\n",
       "      box-shadow: 0px 1px 2px rgba(60, 64, 67, 0.3), 0px 1px 3px 1px rgba(60, 64, 67, 0.15);\n",
       "      fill: #174EA6;\n",
       "    }\n",
       "\n",
       "    [theme=dark] .colab-df-convert {\n",
       "      background-color: #3B4455;\n",
       "      fill: #D2E3FC;\n",
       "    }\n",
       "\n",
       "    [theme=dark] .colab-df-convert:hover {\n",
       "      background-color: #434B5C;\n",
       "      box-shadow: 0px 1px 3px 1px rgba(0, 0, 0, 0.15);\n",
       "      filter: drop-shadow(0px 1px 2px rgba(0, 0, 0, 0.3));\n",
       "      fill: #FFFFFF;\n",
       "    }\n",
       "  </style>\n",
       "\n",
       "      <script>\n",
       "        const buttonEl =\n",
       "          document.querySelector('#df-ae971cfc-c80f-4cac-8481-995a38031190 button.colab-df-convert');\n",
       "        buttonEl.style.display =\n",
       "          google.colab.kernel.accessAllowed ? 'block' : 'none';\n",
       "\n",
       "        async function convertToInteractive(key) {\n",
       "          const element = document.querySelector('#df-ae971cfc-c80f-4cac-8481-995a38031190');\n",
       "          const dataTable =\n",
       "            await google.colab.kernel.invokeFunction('convertToInteractive',\n",
       "                                                     [key], {});\n",
       "          if (!dataTable) return;\n",
       "\n",
       "          const docLinkHtml = 'Like what you see? Visit the ' +\n",
       "            '<a target=\"_blank\" href=https://colab.research.google.com/notebooks/data_table.ipynb>data table notebook</a>'\n",
       "            + ' to learn more about interactive tables.';\n",
       "          element.innerHTML = '';\n",
       "          dataTable['output_type'] = 'display_data';\n",
       "          await google.colab.output.renderOutput(dataTable, element);\n",
       "          const docLink = document.createElement('div');\n",
       "          docLink.innerHTML = docLinkHtml;\n",
       "          element.appendChild(docLink);\n",
       "        }\n",
       "      </script>\n",
       "    </div>\n",
       "  </div>\n",
       "  "
      ],
      "text/plain": [
       "                      Predicted label                 \n",
       "                             Positive Negative Neutral\n",
       "Actual label Positive             873        9      52\n",
       "             Negative               6       13       5\n",
       "             Neutral               15        4      20"
      ]
     },
     "execution_count": 57,
     "metadata": {},
     "output_type": "execute_result"
    }
   ],
   "source": [
    "#Perform confusion matrix on pandas data frame\n",
    "pd_df_conf_matrix = pd_df_multi_class_confusion_matrix(pd_s_target_test_hidden, predict_NB)\n",
    "#Show confusion matrix for test data hidden\n",
    "pd_df_conf_matrix.head()"
   ]
  },
  {
   "cell_type": "code",
   "execution_count": null,
   "metadata": {
    "colab": {
     "base_uri": "https://localhost:8080/",
     "height": 295
    },
    "id": "5a8tmZnEEy8v",
    "outputId": "b8ead203-7b0d-4fea-f7b1-86e8823e0cdf"
   },
   "outputs": [
    {
     "data": {
      "image/png": "[encoded data removed]",
      "text/plain": [
       "<Figure size 432x288 with 1 Axes>"
      ]
     },
     "metadata": {
      "needs_background": "light"
     },
     "output_type": "display_data"
    }
   ],
   "source": [
    "fpr, tpr, roc_auc = roc_curve_multiclass(pd_s_target_test_hidden, predict_NB)\n",
    "plot_auc_roc_multiclass(fpr, tpr, roc_auc, pd_s_target_test_hidden.unique())"
   ]
  },
  {
   "cell_type": "markdown",
   "metadata": {
    "id": "GGFdL5KeWmAu"
   },
   "source": [
    "#### Random Forests Classifier"
   ]
  },
  {
   "cell_type": "code",
   "execution_count": null,
   "metadata": {
    "id": "nw7Y44qqWqtC"
   },
   "outputs": [],
   "source": [
    "#create random forest classifier object\n",
    "sentiment_RF_detection_model = RandomForestClassifier(n_jobs=-1,random_state=51)"
   ]
  },
  {
   "cell_type": "code",
   "execution_count": null,
   "metadata": {
    "colab": {
     "base_uri": "https://localhost:8080/"
    },
    "id": "hKMm85pMXyW-",
    "outputId": "aea5d7e3-ee1d-4321-8329-6301e72276a9"
   },
   "outputs": [
    {
     "data": {
      "text/plain": [
       "RandomForestClassifier(n_jobs=-1, random_state=51)"
      ]
     },
     "execution_count": 65,
     "metadata": {},
     "output_type": "execute_result"
    }
   ],
   "source": [
    "#choose random forest model to detect the sentiment and fit the tfidf data into it\n",
    "sentiment_RF_detection_model.fit(X_sm, y_sm)"
   ]
  },
  {
   "cell_type": "code",
   "execution_count": null,
   "metadata": {
    "id": "R4Lfdt1yYUk3"
   },
   "outputs": [],
   "source": [
    "#check model for prediction\n",
    "predict_RF = sentiment_RF_detection_model.predict(test_hidden_tfidf)"
   ]
  },
  {
   "cell_type": "code",
   "execution_count": null,
   "metadata": {
    "id": "SMS1ke5dJA8P"
   },
   "outputs": [],
   "source": [
    "#delete object\n",
    "del sentiment_RF_detection_model"
   ]
  },
  {
   "cell_type": "markdown",
   "metadata": {
    "id": "1KKcEoDiYY4C"
   },
   "source": [
    "##### Evaluation metrics"
   ]
  },
  {
   "cell_type": "code",
   "execution_count": null,
   "metadata": {
    "colab": {
     "base_uri": "https://localhost:8080/"
    },
    "id": "Qox3VpoGYbYq",
    "outputId": "be9e3226-0c84-461e-9b5a-a89215a9e755"
   },
   "outputs": [
    {
     "name": "stdout",
     "output_type": "stream",
     "text": [
      "              precision    recall  f1-score   support\n",
      "\n",
      "    Negative       1.00      0.29      0.45        24\n",
      "     Neutral       0.85      0.28      0.42        39\n",
      "    Positive       0.95      1.00      0.98       934\n",
      "\n",
      "    accuracy                           0.95       997\n",
      "   macro avg       0.93      0.52      0.62       997\n",
      "weighted avg       0.95      0.95      0.94       997\n",
      "\n"
     ]
    }
   ],
   "source": [
    "#Evaluation Metrics\n",
    "print(metrics.classification_report(pd_s_target_test_hidden, predict_RF))"
   ]
  },
  {
   "cell_type": "code",
   "execution_count": null,
   "metadata": {
    "colab": {
     "base_uri": "https://localhost:8080/"
    },
    "id": "R0hJEFRaYr4y",
    "outputId": "034c48e6-6e4b-4f41-e364-b9dbcdbbe3b4"
   },
   "outputs": [
    {
     "data": {
      "text/html": [
       "\n",
       "  <div id=\"df-d67b7948-4c24-4c23-843d-523cb6a9a307\">\n",
       "    <div class=\"colab-df-container\">\n",
       "      <div>\n",
       "<style scoped>\n",
       "    .dataframe tbody tr th:only-of-type {\n",
       "        vertical-align: middle;\n",
       "    }\n",
       "\n",
       "    .dataframe tbody tr th {\n",
       "        vertical-align: top;\n",
       "    }\n",
       "\n",
       "    .dataframe thead tr th {\n",
       "        text-align: left;\n",
       "    }\n",
       "</style>\n",
       "<table border=\"1\" class=\"dataframe\">\n",
       "  <thead>\n",
       "    <tr>\n",
       "      <th></th>\n",
       "      <th></th>\n",
       "      <th colspan=\"3\" halign=\"left\">Predicted label</th>\n",
       "    </tr>\n",
       "    <tr>\n",
       "      <th></th>\n",
       "      <th></th>\n",
       "      <th>Positive</th>\n",
       "      <th>Negative</th>\n",
       "      <th>Neutral</th>\n",
       "    </tr>\n",
       "  </thead>\n",
       "  <tbody>\n",
       "    <tr>\n",
       "      <th rowspan=\"3\" valign=\"top\">Actual label</th>\n",
       "      <th>Positive</th>\n",
       "      <td>932</td>\n",
       "      <td>0</td>\n",
       "      <td>2</td>\n",
       "    </tr>\n",
       "    <tr>\n",
       "      <th>Negative</th>\n",
       "      <td>17</td>\n",
       "      <td>7</td>\n",
       "      <td>0</td>\n",
       "    </tr>\n",
       "    <tr>\n",
       "      <th>Neutral</th>\n",
       "      <td>28</td>\n",
       "      <td>0</td>\n",
       "      <td>11</td>\n",
       "    </tr>\n",
       "  </tbody>\n",
       "</table>\n",
       "</div>\n",
       "      <button class=\"colab-df-convert\" onclick=\"convertToInteractive('df-d67b7948-4c24-4c23-843d-523cb6a9a307')\"\n",
       "              title=\"Convert this dataframe to an interactive table.\"\n",
       "              style=\"display:none;\">\n",
       "        \n",
       "  <svg xmlns=\"http://www.w3.org/2000/svg\" height=\"24px\"viewBox=\"0 0 24 24\"\n",
       "       width=\"24px\">\n",
       "    <path d=\"M0 0h24v24H0V0z\" fill=\"none\"/>\n",
       "    <path d=\"M18.56 5.44l.94 2.06.94-2.06 2.06-.94-2.06-.94-.94-2.06-.94 2.06-2.06.94zm-11 1L8.5 8.5l.94-2.06 2.06-.94-2.06-.94L8.5 2.5l-.94 2.06-2.06.94zm10 10l.94 2.06.94-2.06 2.06-.94-2.06-.94-.94-2.06-.94 2.06-2.06.94z\"/><path d=\"M17.41 7.96l-1.37-1.37c-.4-.4-.92-.59-1.43-.59-.52 0-1.04.2-1.43.59L10.3 9.45l-7.72 7.72c-.78.78-.78 2.05 0 2.83L4 21.41c.39.39.9.59 1.41.59.51 0 1.02-.2 1.41-.59l7.78-7.78 2.81-2.81c.8-.78.8-2.07 0-2.86zM5.41 20L4 18.59l7.72-7.72 1.47 1.35L5.41 20z\"/>\n",
       "  </svg>\n",
       "      </button>\n",
       "      \n",
       "  <style>\n",
       "    .colab-df-container {\n",
       "      display:flex;\n",
       "      flex-wrap:wrap;\n",
       "      gap: 12px;\n",
       "    }\n",
       "\n",
       "    .colab-df-convert {\n",
       "      background-color: #E8F0FE;\n",
       "      border: none;\n",
       "      border-radius: 50%;\n",
       "      cursor: pointer;\n",
       "      display: none;\n",
       "      fill: #1967D2;\n",
       "      height: 32px;\n",
       "      padding: 0 0 0 0;\n",
       "      width: 32px;\n",
       "    }\n",
       "\n",
       "    .colab-df-convert:hover {\n",
       "      background-color: #E2EBFA;\n",
       "      box-shadow: 0px 1px 2px rgba(60, 64, 67, 0.3), 0px 1px 3px 1px rgba(60, 64, 67, 0.15);\n",
       "      fill: #174EA6;\n",
       "    }\n",
       "\n",
       "    [theme=dark] .colab-df-convert {\n",
       "      background-color: #3B4455;\n",
       "      fill: #D2E3FC;\n",
       "    }\n",
       "\n",
       "    [theme=dark] .colab-df-convert:hover {\n",
       "      background-color: #434B5C;\n",
       "      box-shadow: 0px 1px 3px 1px rgba(0, 0, 0, 0.15);\n",
       "      filter: drop-shadow(0px 1px 2px rgba(0, 0, 0, 0.3));\n",
       "      fill: #FFFFFF;\n",
       "    }\n",
       "  </style>\n",
       "\n",
       "      <script>\n",
       "        const buttonEl =\n",
       "          document.querySelector('#df-d67b7948-4c24-4c23-843d-523cb6a9a307 button.colab-df-convert');\n",
       "        buttonEl.style.display =\n",
       "          google.colab.kernel.accessAllowed ? 'block' : 'none';\n",
       "\n",
       "        async function convertToInteractive(key) {\n",
       "          const element = document.querySelector('#df-d67b7948-4c24-4c23-843d-523cb6a9a307');\n",
       "          const dataTable =\n",
       "            await google.colab.kernel.invokeFunction('convertToInteractive',\n",
       "                                                     [key], {});\n",
       "          if (!dataTable) return;\n",
       "\n",
       "          const docLinkHtml = 'Like what you see? Visit the ' +\n",
       "            '<a target=\"_blank\" href=https://colab.research.google.com/notebooks/data_table.ipynb>data table notebook</a>'\n",
       "            + ' to learn more about interactive tables.';\n",
       "          element.innerHTML = '';\n",
       "          dataTable['output_type'] = 'display_data';\n",
       "          await google.colab.output.renderOutput(dataTable, element);\n",
       "          const docLink = document.createElement('div');\n",
       "          docLink.innerHTML = docLinkHtml;\n",
       "          element.appendChild(docLink);\n",
       "        }\n",
       "      </script>\n",
       "    </div>\n",
       "  </div>\n",
       "  "
      ],
      "text/plain": [
       "                      Predicted label                 \n",
       "                             Positive Negative Neutral\n",
       "Actual label Positive             932        0       2\n",
       "             Negative              17        7       0\n",
       "             Neutral               28        0      11"
      ]
     },
     "execution_count": 69,
     "metadata": {},
     "output_type": "execute_result"
    }
   ],
   "source": [
    "#Perform confusion matrix on pandas data frame\n",
    "pd_df_conf_matrix = pd_df_multi_class_confusion_matrix(pd_s_target_test_hidden, predict_RF)\n",
    "#Show confusion matrix for test data hidden\n",
    "pd_df_conf_matrix.head()"
   ]
  },
  {
   "cell_type": "code",
   "execution_count": null,
   "metadata": {
    "colab": {
     "base_uri": "https://localhost:8080/"
    },
    "id": "bfKaDnw-Y6jp",
    "outputId": "b0ca8e4e-e20a-418f-aa43-9989fb3d1202"
   },
   "outputs": [
    {
     "data": {
      "image/png": "[encoded data removed]",
      "text/plain": [
       "<Figure size 432x288 with 1 Axes>"
      ]
     },
     "metadata": {
      "needs_background": "light"
     },
     "output_type": "display_data"
    }
   ],
   "source": [
    "fpr, tpr, roc_auc = roc_curve_multiclass(pd_s_target_test_hidden, predict_RF)\n",
    "plot_auc_roc_multiclass(fpr, tpr, roc_auc, pd_s_target_test_hidden.unique())"
   ]
  },
  {
   "cell_type": "markdown",
   "metadata": {
    "id": "58dpf__FezPh"
   },
   "source": [
    "##### Fine-tuning"
   ]
  },
  {
   "cell_type": "code",
   "execution_count": null,
   "metadata": {
    "id": "ZiY9zsD6e2th"
   },
   "outputs": [],
   "source": [
    "# Number of trees in random forest\n",
    "n_estimators = [int(x) for x in np.linspace(start = 200, stop = 2000, num = 10)]\n",
    "# Number of features to consider at every split\n",
    "max_features = ['auto', 'sqrt']\n",
    "# Maximum number of levels in tree\n",
    "max_depth = [int(x) for x in np.linspace(10, 110, num = 11)]\n",
    "max_depth.append(None)\n",
    "# Minimum number of samples required to split a node\n",
    "min_samples_split = [2, 5, 10]\n",
    "# Minimum number of samples required at each leaf node\n",
    "min_samples_leaf = [1, 2, 4]\n",
    "# Method of selecting samples for training each tree\n",
    "bootstrap = [True, False]\n",
    "# Create the random grid\n",
    "random_grid = {'n_estimators': n_estimators,\n",
    "               'max_features': max_features,\n",
    "               'max_depth': max_depth,\n",
    "               'min_samples_split': min_samples_split,\n",
    "               'min_samples_leaf': min_samples_leaf,\n",
    "               'bootstrap': bootstrap}"
   ]
  },
  {
   "cell_type": "code",
   "execution_count": null,
   "metadata": {
    "colab": {
     "base_uri": "https://localhost:8080/"
    },
    "id": "xGBXtSXpg0uX",
    "outputId": "7eb1def6-d68d-4e88-bc7e-66f53dc373ce"
   },
   "outputs": [
    {
     "name": "stdout",
     "output_type": "stream",
     "text": [
      "Fitting 3 folds for each of 10 candidates, totalling 30 fits\n"
     ]
    },
    {
     "data": {
      "text/plain": [
       "RandomizedSearchCV(cv=3,\n",
       "                   estimator=RandomForestClassifier(n_jobs=-1, random_state=51),\n",
       "                   n_jobs=-1,\n",
       "                   param_distributions={'bootstrap': [True, False],\n",
       "                                        'max_depth': [10, 20, 30, 40, 50, 60,\n",
       "                                                      70, 80, 90, 100, 110,\n",
       "                                                      None],\n",
       "                                        'max_features': ['auto', 'sqrt'],\n",
       "                                        'min_samples_leaf': [1, 2, 4],\n",
       "                                        'min_samples_split': [2, 5, 10],\n",
       "                                        'n_estimators': [200, 400, 600, 800,\n",
       "                                                         1000, 1200, 1400, 1600,\n",
       "                                                         1800, 2000]},\n",
       "                   random_state=42, verbose=2)"
      ]
     },
     "execution_count": 72,
     "metadata": {},
     "output_type": "execute_result"
    }
   ],
   "source": [
    "# Use the random grid to search for best hyperparameters\n",
    "# First create the base model to tune\n",
    "rf = RandomForestClassifier(n_jobs=-1,random_state=51)\n",
    "# Random search of parameters, using 3 fold cross validation,\n",
    "# search across 10 different combinations, and use all available cores\n",
    "rf_random = RandomizedSearchCV(estimator = rf, param_distributions = random_grid, n_iter = 10, cv = 3, verbose=2, random_state=42, n_jobs = -1)\n",
    "# Fit the random search model\n",
    "rf_random.fit(X_sm, y_sm)"
   ]
  },
  {
   "cell_type": "markdown",
   "metadata": {
    "id": "BHpUGOkC6GXy"
   },
   "source": [
    "The most important arguments in RandomizedSearchCV are n_iter, which controls the number of different combinations to try, and cv which is the number of folds to use for cross validation (we use 100 and 3 respectively). More iterations will cover a wider search space and more cv folds reduces the chances of overfitting, but raising each will increase the run time. Machine learning is a field of trade-offs, and performance vs time is one of the most fundamental."
   ]
  },
  {
   "cell_type": "code",
   "execution_count": null,
   "metadata": {
    "colab": {
     "base_uri": "https://localhost:8080/"
    },
    "id": "zVqBTIAj5c4R",
    "outputId": "9adedbb3-6893-4291-8e7a-dc54c857f928"
   },
   "outputs": [
    {
     "data": {
      "text/plain": [
       "{'n_estimators': 1000,\n",
       " 'min_samples_split': 10,\n",
       " 'min_samples_leaf': 1,\n",
       " 'max_features': 'auto',\n",
       " 'max_depth': 80,\n",
       " 'bootstrap': False}"
      ]
     },
     "execution_count": 73,
     "metadata": {},
     "output_type": "execute_result"
    }
   ],
   "source": [
    "#show best pamameters\n",
    "rf_random.best_params_"
   ]
  },
  {
   "cell_type": "code",
   "execution_count": null,
   "metadata": {
    "id": "0_sDq2h55tmO"
   },
   "outputs": [],
   "source": [
    "#predict sentiment with best random paramenters\n",
    "predict_RF_best_rand_params = rf_random.best_estimator_.predict(test_hidden_tfidf)\n",
    "#delete\n",
    "del rf_random"
   ]
  },
  {
   "cell_type": "markdown",
   "metadata": {
    "id": "__U7YS5162lh"
   },
   "source": [
    "Evaluation metrics"
   ]
  },
  {
   "cell_type": "code",
   "execution_count": null,
   "metadata": {
    "colab": {
     "base_uri": "https://localhost:8080/"
    },
    "id": "EtHvhpBc66Te",
    "outputId": "f27d8e5c-6c4a-4206-aa78-ac337dd7b367"
   },
   "outputs": [
    {
     "name": "stdout",
     "output_type": "stream",
     "text": [
      "              precision    recall  f1-score   support\n",
      "\n",
      "    Negative       1.00      0.29      0.45        24\n",
      "     Neutral       1.00      0.28      0.44        39\n",
      "    Positive       0.95      1.00      0.98       934\n",
      "\n",
      "    accuracy                           0.95       997\n",
      "   macro avg       0.98      0.52      0.62       997\n",
      "weighted avg       0.96      0.95      0.94       997\n",
      "\n"
     ]
    }
   ],
   "source": [
    "#Evaluation Metrics\n",
    "print(metrics.classification_report(pd_s_target_test_hidden, predict_RF_best_rand_params))"
   ]
  },
  {
   "cell_type": "markdown",
   "metadata": {
    "id": "8bHZHPXMY-is"
   },
   "source": [
    "#### XGBoost Classifier"
   ]
  },
  {
   "cell_type": "code",
   "execution_count": null,
   "metadata": {
    "id": "2N3DbemiZDPc"
   },
   "outputs": [],
   "source": [
    "#create eXtreme Gradient Boosting classifier object\n",
    "sentiment_XGB_detection_model = XGBClassifier(n_jobs=-1,random_state=51)"
   ]
  },
  {
   "cell_type": "code",
   "execution_count": null,
   "metadata": {
    "colab": {
     "base_uri": "https://localhost:8080/"
    },
    "id": "CLBql8K20Zur",
    "outputId": "37be5f63-d80e-4511-ab9e-8e0c0853bfa8"
   },
   "outputs": [
    {
     "data": {
      "text/plain": [
       "XGBClassifier(n_jobs=-1, objective='multi:softprob', random_state=51)"
      ]
     },
     "execution_count": 127,
     "metadata": {},
     "output_type": "execute_result"
    }
   ],
   "source": [
    "#choose eXtreme Gradient Boosting model to detect the sentiment and fit the tfidf data into it\n",
    "sentiment_XGB_detection_model.fit(X_sm, y_sm)"
   ]
  },
  {
   "cell_type": "code",
   "execution_count": null,
   "metadata": {
    "id": "Oc5FmgXP0weG"
   },
   "outputs": [],
   "source": [
    "#check model for prediction\n",
    "predict_XGB = sentiment_XGB_detection_model.predict(test_hidden_tfidf)\n",
    "#delete object\n",
    "del sentiment_XGB_detection_model"
   ]
  },
  {
   "cell_type": "markdown",
   "metadata": {
    "id": "K37edybA02pF"
   },
   "source": [
    "##### Evaluation metrics"
   ]
  },
  {
   "cell_type": "code",
   "execution_count": null,
   "metadata": {
    "colab": {
     "base_uri": "https://localhost:8080/"
    },
    "id": "bxpvtEsw07bU",
    "outputId": "11fbf331-ccf8-426f-e944-3c50d142cb7a"
   },
   "outputs": [
    {
     "name": "stdout",
     "output_type": "stream",
     "text": [
      "              precision    recall  f1-score   support\n",
      "\n",
      "    Negative       0.24      0.25      0.24        24\n",
      "     Neutral       0.15      0.15      0.15        39\n",
      "    Positive       0.95      0.95      0.95       934\n",
      "\n",
      "    accuracy                           0.90       997\n",
      "   macro avg       0.45      0.45      0.45       997\n",
      "weighted avg       0.90      0.90      0.90       997\n",
      "\n"
     ]
    }
   ],
   "source": [
    "#Evaluation Metrics\n",
    "print(metrics.classification_report(pd_s_target_test_hidden, predict_XGB))"
   ]
  },
  {
   "cell_type": "code",
   "execution_count": null,
   "metadata": {
    "colab": {
     "base_uri": "https://localhost:8080/",
     "height": 175
    },
    "id": "_prfByrh1Jxc",
    "outputId": "2498b218-44c1-428a-ffa1-2bd62aad5570"
   },
   "outputs": [
    {
     "data": {
      "text/html": [
       "\n",
       "  <div id=\"df-ce909b94-e22e-4e39-94bf-3cb7bac1ff32\">\n",
       "    <div class=\"colab-df-container\">\n",
       "      <div>\n",
       "<style scoped>\n",
       "    .dataframe tbody tr th:only-of-type {\n",
       "        vertical-align: middle;\n",
       "    }\n",
       "\n",
       "    .dataframe tbody tr th {\n",
       "        vertical-align: top;\n",
       "    }\n",
       "\n",
       "    .dataframe thead tr th {\n",
       "        text-align: left;\n",
       "    }\n",
       "</style>\n",
       "<table border=\"1\" class=\"dataframe\">\n",
       "  <thead>\n",
       "    <tr>\n",
       "      <th></th>\n",
       "      <th></th>\n",
       "      <th colspan=\"3\" halign=\"left\">Predicted label</th>\n",
       "    </tr>\n",
       "    <tr>\n",
       "      <th></th>\n",
       "      <th></th>\n",
       "      <th>Positive</th>\n",
       "      <th>Negative</th>\n",
       "      <th>Neutral</th>\n",
       "    </tr>\n",
       "  </thead>\n",
       "  <tbody>\n",
       "    <tr>\n",
       "      <th rowspan=\"3\" valign=\"top\">Actual label</th>\n",
       "      <th>Positive</th>\n",
       "      <td>887</td>\n",
       "      <td>16</td>\n",
       "      <td>31</td>\n",
       "    </tr>\n",
       "    <tr>\n",
       "      <th>Negative</th>\n",
       "      <td>16</td>\n",
       "      <td>6</td>\n",
       "      <td>2</td>\n",
       "    </tr>\n",
       "    <tr>\n",
       "      <th>Neutral</th>\n",
       "      <td>30</td>\n",
       "      <td>3</td>\n",
       "      <td>6</td>\n",
       "    </tr>\n",
       "  </tbody>\n",
       "</table>\n",
       "</div>\n",
       "      <button class=\"colab-df-convert\" onclick=\"convertToInteractive('df-ce909b94-e22e-4e39-94bf-3cb7bac1ff32')\"\n",
       "              title=\"Convert this dataframe to an interactive table.\"\n",
       "              style=\"display:none;\">\n",
       "        \n",
       "  <svg xmlns=\"http://www.w3.org/2000/svg\" height=\"24px\"viewBox=\"0 0 24 24\"\n",
       "       width=\"24px\">\n",
       "    <path d=\"M0 0h24v24H0V0z\" fill=\"none\"/>\n",
       "    <path d=\"M18.56 5.44l.94 2.06.94-2.06 2.06-.94-2.06-.94-.94-2.06-.94 2.06-2.06.94zm-11 1L8.5 8.5l.94-2.06 2.06-.94-2.06-.94L8.5 2.5l-.94 2.06-2.06.94zm10 10l.94 2.06.94-2.06 2.06-.94-2.06-.94-.94-2.06-.94 2.06-2.06.94z\"/><path d=\"M17.41 7.96l-1.37-1.37c-.4-.4-.92-.59-1.43-.59-.52 0-1.04.2-1.43.59L10.3 9.45l-7.72 7.72c-.78.78-.78 2.05 0 2.83L4 21.41c.39.39.9.59 1.41.59.51 0 1.02-.2 1.41-.59l7.78-7.78 2.81-2.81c.8-.78.8-2.07 0-2.86zM5.41 20L4 18.59l7.72-7.72 1.47 1.35L5.41 20z\"/>\n",
       "  </svg>\n",
       "      </button>\n",
       "      \n",
       "  <style>\n",
       "    .colab-df-container {\n",
       "      display:flex;\n",
       "      flex-wrap:wrap;\n",
       "      gap: 12px;\n",
       "    }\n",
       "\n",
       "    .colab-df-convert {\n",
       "      background-color: #E8F0FE;\n",
       "      border: none;\n",
       "      border-radius: 50%;\n",
       "      cursor: pointer;\n",
       "      display: none;\n",
       "      fill: #1967D2;\n",
       "      height: 32px;\n",
       "      padding: 0 0 0 0;\n",
       "      width: 32px;\n",
       "    }\n",
       "\n",
       "    .colab-df-convert:hover {\n",
       "      background-color: #E2EBFA;\n",
       "      box-shadow: 0px 1px 2px rgba(60, 64, 67, 0.3), 0px 1px 3px 1px rgba(60, 64, 67, 0.15);\n",
       "      fill: #174EA6;\n",
       "    }\n",
       "\n",
       "    [theme=dark] .colab-df-convert {\n",
       "      background-color: #3B4455;\n",
       "      fill: #D2E3FC;\n",
       "    }\n",
       "\n",
       "    [theme=dark] .colab-df-convert:hover {\n",
       "      background-color: #434B5C;\n",
       "      box-shadow: 0px 1px 3px 1px rgba(0, 0, 0, 0.15);\n",
       "      filter: drop-shadow(0px 1px 2px rgba(0, 0, 0, 0.3));\n",
       "      fill: #FFFFFF;\n",
       "    }\n",
       "  </style>\n",
       "\n",
       "      <script>\n",
       "        const buttonEl =\n",
       "          document.querySelector('#df-ce909b94-e22e-4e39-94bf-3cb7bac1ff32 button.colab-df-convert');\n",
       "        buttonEl.style.display =\n",
       "          google.colab.kernel.accessAllowed ? 'block' : 'none';\n",
       "\n",
       "        async function convertToInteractive(key) {\n",
       "          const element = document.querySelector('#df-ce909b94-e22e-4e39-94bf-3cb7bac1ff32');\n",
       "          const dataTable =\n",
       "            await google.colab.kernel.invokeFunction('convertToInteractive',\n",
       "                                                     [key], {});\n",
       "          if (!dataTable) return;\n",
       "\n",
       "          const docLinkHtml = 'Like what you see? Visit the ' +\n",
       "            '<a target=\"_blank\" href=https://colab.research.google.com/notebooks/data_table.ipynb>data table notebook</a>'\n",
       "            + ' to learn more about interactive tables.';\n",
       "          element.innerHTML = '';\n",
       "          dataTable['output_type'] = 'display_data';\n",
       "          await google.colab.output.renderOutput(dataTable, element);\n",
       "          const docLink = document.createElement('div');\n",
       "          docLink.innerHTML = docLinkHtml;\n",
       "          element.appendChild(docLink);\n",
       "        }\n",
       "      </script>\n",
       "    </div>\n",
       "  </div>\n",
       "  "
      ],
      "text/plain": [
       "                      Predicted label                 \n",
       "                             Positive Negative Neutral\n",
       "Actual label Positive             887       16      31\n",
       "             Negative              16        6       2\n",
       "             Neutral               30        3       6"
      ]
     },
     "execution_count": 130,
     "metadata": {},
     "output_type": "execute_result"
    }
   ],
   "source": [
    "#Perform confusion matrix on pandas data frame\n",
    "pd_df_conf_matrix = pd_df_multi_class_confusion_matrix(pd_s_target_test_hidden, predict_XGB)\n",
    "#Show confusion matrix for test data hidden\n",
    "pd_df_conf_matrix.head()"
   ]
  },
  {
   "cell_type": "code",
   "execution_count": null,
   "metadata": {
    "colab": {
     "base_uri": "https://localhost:8080/",
     "height": 295
    },
    "id": "UIADFAZ01M2s",
    "outputId": "845a7243-024f-4709-d9ff-6117febf8e14"
   },
   "outputs": [
    {
     "data": {
      "image/png": "[encoded data removed]",
      "text/plain": [
       "<Figure size 432x288 with 1 Axes>"
      ]
     },
     "metadata": {},
     "output_type": "display_data"
    }
   ],
   "source": [
    "fpr, tpr, roc_auc = roc_curve_multiclass(pd_s_target_test_hidden, predict_XGB)\n",
    "plot_auc_roc_multiclass(fpr, tpr, roc_auc, pd_s_target_test_hidden.unique())"
   ]
  },
  {
   "cell_type": "markdown",
   "metadata": {
    "id": "ug5iXO4n13Cj"
   },
   "source": [
    "##### Fine-tuning"
   ]
  },
  {
   "cell_type": "code",
   "execution_count": null,
   "metadata": {
    "id": "0fw5b7qj17TC"
   },
   "outputs": [],
   "source": [
    "# Number of trees in random forest\n",
    "n_estimators = [int(x) for x in np.linspace(start = 90, stop = 2000, num = 10)]\n",
    "# Maximum number of levels in tree\n",
    "max_depth = [int(x) for x in np.linspace(10, 110, num = 11)]\n",
    "max_depth.append(None)\n",
    "# Step size at each iteration\n",
    "eta = [.1, .2, .5, .7, 1]\n",
    "# Fraction of observations that need to be sampled for each tree\n",
    "subsample = [.1, .2, .5, .7, 1]\n",
    "# Create the random grid\n",
    "random_xgb_grid = {# Parameters that we are going to tune.\n",
    "                'max_depth':max_depth,\n",
    "                'n_estimators': n_estimators,\n",
    "                'eta':eta,\n",
    "                'subsample': subsample,\n",
    "              }"
   ]
  },
  {
   "cell_type": "code",
   "execution_count": null,
   "metadata": {
    "colab": {
     "base_uri": "https://localhost:8080/"
    },
    "id": "hJLgZM0l2Jvj",
    "outputId": "75cfb4d9-d19f-45b2-f308-caa0d4d3af8e"
   },
   "outputs": [
    {
     "name": "stdout",
     "output_type": "stream",
     "text": [
      "Fitting 3 folds for each of 10 candidates, totalling 30 fits\n"
     ]
    },
    {
     "data": {
      "text/plain": [
       "RandomizedSearchCV(cv=3, estimator=XGBClassifier(n_jobs=-1, random_state=51),\n",
       "                   n_jobs=-1,\n",
       "                   param_distributions={'eta': [0.1, 0.2, 0.5, 0.7, 1],\n",
       "                                        'max_depth': [10, 20, 30, 40, 50, 60,\n",
       "                                                      70, 80, 90, 100, 110,\n",
       "                                                      None],\n",
       "                                        'n_estimators': [90, 302, 514, 726, 938,\n",
       "                                                         1151, 1363, 1575, 1787,\n",
       "                                                         2000],\n",
       "                                        'subsample': [0.1, 0.2, 0.5, 0.7, 1]},\n",
       "                   random_state=42, verbose=2)"
      ]
     },
     "execution_count": 133,
     "metadata": {},
     "output_type": "execute_result"
    }
   ],
   "source": [
    "# Use the random grid to search for best hyperparameters\n",
    "# First create the base model to tune\n",
    "xgb = XGBClassifier(n_jobs=-1, random_state=51)\n",
    "# Random search of parameters, using 3 fold cross validation,\n",
    "# search across 10 different combinations, and use all available cores\n",
    "xgb_random = RandomizedSearchCV(estimator = xgb,\n",
    "                                param_distributions = random_xgb_grid,\n",
    "                                n_iter = 10, cv = 3,\n",
    "                                verbose=2, random_state=42,\n",
    "                                n_jobs = -1)\n",
    "# Fit the random search model\n",
    "xgb_random.fit(X_sm, y_sm)"
   ]
  },
  {
   "cell_type": "code",
   "execution_count": null,
   "metadata": {
    "colab": {
     "base_uri": "https://localhost:8080/"
    },
    "id": "crbmQA0GUznD",
    "outputId": "93539701-cb0c-41f2-88b0-062ae1398122"
   },
   "outputs": [
    {
     "data": {
      "text/plain": [
       "{'subsample': 1, 'n_estimators': 1787, 'max_depth': 20, 'eta': 0.5}"
      ]
     },
     "execution_count": 134,
     "metadata": {},
     "output_type": "execute_result"
    }
   ],
   "source": [
    "#show best pamameters\n",
    "xgb_random.best_params_"
   ]
  },
  {
   "cell_type": "code",
   "execution_count": null,
   "metadata": {
    "id": "Y2uV6NtTsOZn"
   },
   "outputs": [],
   "source": [
    "#predict sentiment with best random paramenters\n",
    "predict_XGB_best_rand_params = xgb_random.best_estimator_.predict(test_hidden_tfidf)\n",
    "\n",
    "#delete object\n",
    "del xgb_random"
   ]
  },
  {
   "cell_type": "markdown",
   "metadata": {
    "id": "52NazznRsUqK"
   },
   "source": [
    "Evaluation metrics"
   ]
  },
  {
   "cell_type": "code",
   "execution_count": null,
   "metadata": {
    "colab": {
     "base_uri": "https://localhost:8080/"
    },
    "id": "fhS1WMPosYco",
    "outputId": "25bee17d-1b73-4d52-f541-64aef5ebd304"
   },
   "outputs": [
    {
     "name": "stdout",
     "output_type": "stream",
     "text": [
      "              precision    recall  f1-score   support\n",
      "\n",
      "    Negative       0.50      0.42      0.45        24\n",
      "     Neutral       0.50      0.38      0.43        39\n",
      "    Positive       0.96      0.98      0.97       934\n",
      "\n",
      "    accuracy                           0.94       997\n",
      "   macro avg       0.65      0.59      0.62       997\n",
      "weighted avg       0.93      0.94      0.94       997\n",
      "\n"
     ]
    }
   ],
   "source": [
    "#Evaluation Metrics\n",
    "print(metrics.classification_report(pd_s_target_test_hidden, predict_XGB_best_rand_params))"
   ]
  },
  {
   "cell_type": "markdown",
   "metadata": {
    "id": "Px4_YSMpDohQ"
   },
   "source": [
    "### Evaluation of Naive Bayes vs Random Forest vs Xgboost"
   ]
  },
  {
   "cell_type": "code",
   "execution_count": null,
   "metadata": {
    "colab": {
     "base_uri": "https://localhost:8080/"
    },
    "id": "_0pc4UDHEDp9",
    "outputId": "40c44f77-7451-4171-cca2-507fe8838ed5"
   },
   "outputs": [
    {
     "name": "stdout",
     "output_type": "stream",
     "text": [
      "              precision    recall  f1-score   support\n",
      "\n",
      "    Negative       0.50      0.54      0.52        24\n",
      "     Neutral       0.26      0.51      0.34        39\n",
      "    Positive       0.98      0.93      0.96       934\n",
      "\n",
      "    accuracy                           0.91       997\n",
      "   macro avg       0.58      0.66      0.61       997\n",
      "weighted avg       0.94      0.91      0.92       997\n",
      "\n"
     ]
    }
   ],
   "source": [
    "#Evaluation Metrics of Naive Bayes Classificator\n",
    "print(metrics.classification_report(pd_s_target_test_hidden, predict_NB))"
   ]
  },
  {
   "cell_type": "code",
   "execution_count": null,
   "metadata": {
    "colab": {
     "base_uri": "https://localhost:8080/"
    },
    "id": "tIPYGmvADzXR",
    "outputId": "36fd467e-9987-4e00-baee-830c645debe0"
   },
   "outputs": [
    {
     "name": "stdout",
     "output_type": "stream",
     "text": [
      "              precision    recall  f1-score   support\n",
      "\n",
      "    Negative       1.00      0.29      0.45        24\n",
      "     Neutral       1.00      0.28      0.44        39\n",
      "    Positive       0.95      1.00      0.98       934\n",
      "\n",
      "    accuracy                           0.95       997\n",
      "   macro avg       0.98      0.52      0.62       997\n",
      "weighted avg       0.96      0.95      0.94       997\n",
      "\n"
     ]
    }
   ],
   "source": [
    "#Evaluation Metrics of Random Forest Classificator\n",
    "print(metrics.classification_report(pd_s_target_test_hidden, predict_RF_best_rand_params))"
   ]
  },
  {
   "cell_type": "code",
   "execution_count": null,
   "metadata": {
    "colab": {
     "base_uri": "https://localhost:8080/"
    },
    "id": "ReZ-58jUDwey",
    "outputId": "f9e115cd-1716-4976-d023-ea9038c419d6"
   },
   "outputs": [
    {
     "name": "stdout",
     "output_type": "stream",
     "text": [
      "              precision    recall  f1-score   support\n",
      "\n",
      "    Negative       0.50      0.42      0.45        24\n",
      "     Neutral       0.50      0.38      0.43        39\n",
      "    Positive       0.96      0.98      0.97       934\n",
      "\n",
      "    accuracy                           0.94       997\n",
      "   macro avg       0.65      0.59      0.62       997\n",
      "weighted avg       0.93      0.94      0.94       997\n",
      "\n"
     ]
    }
   ],
   "source": [
    "#Evaluation Metrics eXtreme Gradient Boosting\n",
    "print(metrics.classification_report(pd_s_target_test_hidden, predict_XGB_best_rand_params))"
   ]
  },
  {
   "cell_type": "code",
   "execution_count": null,
   "metadata": {
    "id": "yPKhys5hJoR7"
   },
   "outputs": [],
   "source": [
    "dict_pred = {'NB': predict_NB,\n",
    "             'RF': predict_RF_best_rand_params,\n",
    "             'XGB': predict_XGB_best_rand_params,\n",
    "             }"
   ]
  },
  {
   "cell_type": "code",
   "execution_count": null,
   "metadata": {
    "id": "YGRG4mNjJ5yb"
   },
   "outputs": [],
   "source": [
    "#\n",
    "pd_s_pred_mode = pd.DataFrame(dict_pred).T.mode().T[0]"
   ]
  },
  {
   "cell_type": "code",
   "execution_count": null,
   "metadata": {
    "colab": {
     "base_uri": "https://localhost:8080/"
    },
    "id": "dS1n2LgIFh5q",
    "outputId": "38375afa-59b3-41d1-989a-36946d84b550"
   },
   "outputs": [
    {
     "name": "stdout",
     "output_type": "stream",
     "text": [
      "              precision    recall  f1-score   support\n",
      "\n",
      "    Negative       0.80      0.50      0.62        24\n",
      "     Neutral       0.76      0.33      0.46        39\n",
      "    Positive       0.96      1.00      0.98       934\n",
      "\n",
      "    accuracy                           0.96       997\n",
      "   macro avg       0.84      0.61      0.69       997\n",
      "weighted avg       0.95      0.96      0.95       997\n",
      "\n"
     ]
    }
   ],
   "source": [
    "#Evaluation Metrics mode of Naive Bayes, Random Forest and Xgboost\n",
    "print(metrics.classification_report(pd_s_target_test_hidden, pd_s_pred_mode))"
   ]
  },
  {
   "cell_type": "markdown",
   "metadata": {
    "id": "EyQ3FvLp9KeZ"
   },
   "source": [
    "# Conclusion"
   ]
  },
  {
   "cell_type": "markdown",
   "metadata": {
    "id": "9aeBzZyn9NXB"
   },
   "source": [
    "Working on this project:\n",
    "\n",
    "- Perform an EDA on the dataset\n",
    "- Convert the reviews in Tf-Idf score\n",
    "- Text procesing (drop stopwords, drop punctuation and lemmatization)\n",
    "- Implement several ML algorithms(Naive Bayes, Random Forest, Xgboost and SVM’s)\n",
    "- Tackle the class of imbalance problem with SMOTE\n",
    "- Use the following metrices for evaluating model performance: precision, recall, F1-score, AUC-ROC curve\n",
    "- Use fine-tuning parameter for ML algoritm like RandomizedSearchCV\n",
    "- Use ensemble techniques like: XGboost + NB + RF + SVM.\n",
    "- Use LSTM, GRU and NN deep learning model\n",
    "- Use fine-tuning parameter for DL models like RandomizedSearchCV\n",
    "- Provided Latent Dirchlette Allocation (LDA) and Non-Negative Matrix Factorization (NMF)\n",
    "\n",
    "\n",
    "I have come to the conclusion that some ML algorithms offer much better results to predict unbalanced data, but if we use some decomposition algorithms like LDA and NMF, for NN learning algorithms we can obtain results comparable to ML models. We can use fine-tuning parameter to find best parameter for best prediction."
   ]
  }
 ],
 "metadata": {
  "colab": {
   "collapsed_sections": [
    "6rcqJtC5huvt",
    "doa2gSCNhi-x",
    "JnNz6asOgw6z",
    "G5gjMyJfjNxp",
    "oZCB-u8kgrgs",
    "QPN71Sjvi2-Z",
    "IEAJ_O_ljCKy",
    "7mL90LlCjury",
    "7n72fYju5J69",
    "PrRbXzIbo1Jm",
    "N8L4dbZO9q5y",
    "tPssdNWOSzpq",
    "sv_C1O9icS0x",
    "4iyU4qVqAcCA",
    "b4aYt-h_dNhu",
    "c2wxc1e1D5wm",
    "EfYOTE8iEbwQ",
    "GGFdL5KeWmAu",
    "1KKcEoDiYY4C",
    "58dpf__FezPh",
    "8bHZHPXMY-is",
    "K37edybA02pF",
    "ug5iXO4n13Cj",
    "Px4_YSMpDohQ",
    "NIvLeIWZacnk",
    "Nc18SL0meO0H",
    "UdjV3stddnt_",
    "qNurcc7leWTB",
    "CGLVuPJ2fNRw",
    "4Z4q01sd-1db",
    "PFzEFTyP_CRF",
    "tx63YAj8K07h",
    "5p-THcJGRJab",
    "6ERzjKTiRTsR",
    "GOy5ZYPHXaZP",
    "5JaiJvhuhtSp",
    "859kjLH_irT8",
    "83i3THEElMBx",
    "TVQgF0o7lg7q",
    "BBx3rOXFmC57",
    "oPP7TmN3Ryn8",
    "jeFl7MiZhzFK",
    "FjIwCAy_i0de",
    "lRAUFLkgjm_d",
    "sLNGVfmqkl3d",
    "mKtdzzovk58d",
    "5ZJbbB3AUAa1",
    "vJ56gHTkjKKf",
    "ZskbyztqkXlY",
    "0r7eAdV9keVQ",
    "T4yY2dJmRWZb",
    "I2c7CyJQfJxk",
    "1hqm_Bhii0Cy",
    "m3WqjgyFnPLj"
   ],
   "provenance": []
  },
  "kernelspec": {
   "display_name": "Python 3 (ipykernel)",
   "language": "python",
   "name": "python3"
  },
  "language_info": {
   "codemirror_mode": {
    "name": "ipython",
    "version": 3
   },
   "file_extension": ".py",
   "mimetype": "text/x-python",
   "name": "python",
   "nbconvert_exporter": "python",
   "pygments_lexer": "ipython3",
   "version": "3.10.12"
  }
 },
 "nbformat": 4,
 "nbformat_minor": 4
}
