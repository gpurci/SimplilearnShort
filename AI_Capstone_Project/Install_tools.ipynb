{
 "cells": [
  {
   "cell_type": "markdown",
   "metadata": {
    "id": "6rcqJtC5huvt"
   },
   "source": [
    "### Install library"
   ]
  },
  {
   "cell_type": "code",
   "execution_count": null,
   "metadata": {
    "colab": {
     "base_uri": "https://localhost:8080/"
    },
    "id": "jdi5jo-uhzFd",
    "outputId": "50522219-b5bb-48be-a7ea-2220ba65218b",
    "scrolled": true
   },
   "outputs": [],
   "source": [
    "!pip install livelossplot"
   ]
  },
  {
   "cell_type": "code",
   "execution_count": null,
   "metadata": {
    "colab": {
     "base_uri": "https://localhost:8080/"
    },
    "id": "vlkcAF5wlgUW",
    "outputId": "65c54102-1af6-4c3b-ccfa-f82f303ec6b7"
   },
   "outputs": [],
   "source": [
    "!pip install scikeras"
   ]
  },
  {
   "cell_type": "code",
   "execution_count": null,
   "metadata": {},
   "outputs": [],
   "source": [
    "!pip3 install nltk"
   ]
  },
  {
   "cell_type": "code",
   "execution_count": null,
   "metadata": {},
   "outputs": [],
   "source": [
    "!pip3 install --upgrade scikit-learn imbalanced-learn"
   ]
  },
  {
   "cell_type": "code",
   "execution_count": 1,
   "metadata": {},
   "outputs": [
    {
     "name": "stdout",
     "output_type": "stream",
     "text": [
      "Defaulting to user installation because normal site-packages is not writeable\n",
      "Collecting xgboost\n",
      "  Downloading xgboost-3.0.4-py3-none-manylinux_2_28_x86_64.whl.metadata (2.1 kB)\n",
      "Requirement already satisfied: numpy in /home/gheorghe/.local/lib/python3.10/site-packages (from xgboost) (1.26.2)\n",
      "Requirement already satisfied: nvidia-nccl-cu12 in /home/gheorghe/.local/lib/python3.10/site-packages (from xgboost) (2.23.4)\n",
      "Requirement already satisfied: scipy in /home/gheorghe/.local/lib/python3.10/site-packages (from xgboost) (1.12.0)\n",
      "Downloading xgboost-3.0.4-py3-none-manylinux_2_28_x86_64.whl (94.9 MB)\n",
      "\u001b[2K   \u001b[38;2;114;156;31m━━━━━━━━━━━━━━━━━━━━━━━━━━━━━━━━━━━━━━━━\u001b[0m \u001b[32m94.9/94.9 MB\u001b[0m \u001b[31m6.7 MB/s\u001b[0m  \u001b[33m0:00:14\u001b[0m\u001b[0m eta \u001b[36m0:00:01\u001b[0m[36m0:00:01\u001b[0m\n",
      "\u001b[?25hInstalling collected packages: xgboost\n",
      "Successfully installed xgboost-3.0.4\n"
     ]
    }
   ],
   "source": [
    "!pip install xgboost"
   ]
  }
 ],
 "metadata": {
  "colab": {
   "collapsed_sections": [
    "6rcqJtC5huvt",
    "doa2gSCNhi-x",
    "JnNz6asOgw6z",
    "G5gjMyJfjNxp",
    "oZCB-u8kgrgs",
    "QPN71Sjvi2-Z",
    "IEAJ_O_ljCKy",
    "7mL90LlCjury",
    "7n72fYju5J69",
    "PrRbXzIbo1Jm",
    "N8L4dbZO9q5y",
    "tPssdNWOSzpq",
    "sv_C1O9icS0x",
    "4iyU4qVqAcCA",
    "b4aYt-h_dNhu",
    "c2wxc1e1D5wm",
    "EfYOTE8iEbwQ",
    "GGFdL5KeWmAu",
    "1KKcEoDiYY4C",
    "58dpf__FezPh",
    "8bHZHPXMY-is",
    "K37edybA02pF",
    "ug5iXO4n13Cj",
    "Px4_YSMpDohQ",
    "NIvLeIWZacnk",
    "Nc18SL0meO0H",
    "UdjV3stddnt_",
    "qNurcc7leWTB",
    "CGLVuPJ2fNRw",
    "4Z4q01sd-1db",
    "PFzEFTyP_CRF",
    "tx63YAj8K07h",
    "5p-THcJGRJab",
    "6ERzjKTiRTsR",
    "GOy5ZYPHXaZP",
    "5JaiJvhuhtSp",
    "859kjLH_irT8",
    "83i3THEElMBx",
    "TVQgF0o7lg7q",
    "BBx3rOXFmC57",
    "oPP7TmN3Ryn8",
    "jeFl7MiZhzFK",
    "FjIwCAy_i0de",
    "lRAUFLkgjm_d",
    "sLNGVfmqkl3d",
    "mKtdzzovk58d",
    "5ZJbbB3AUAa1",
    "vJ56gHTkjKKf",
    "ZskbyztqkXlY",
    "0r7eAdV9keVQ",
    "T4yY2dJmRWZb",
    "I2c7CyJQfJxk",
    "1hqm_Bhii0Cy",
    "m3WqjgyFnPLj"
   ],
   "provenance": []
  },
  "kernelspec": {
   "display_name": "Python 3 (ipykernel)",
   "language": "python",
   "name": "python3"
  },
  "language_info": {
   "codemirror_mode": {
    "name": "ipython",
    "version": 3
   },
   "file_extension": ".py",
   "mimetype": "text/x-python",
   "name": "python",
   "nbconvert_exporter": "python",
   "pygments_lexer": "ipython3",
   "version": "3.10.12"
  }
 },
 "nbformat": 4,
 "nbformat_minor": 4
}
