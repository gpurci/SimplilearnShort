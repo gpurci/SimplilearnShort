{
 "cells": [
  {
   "cell_type": "markdown",
   "metadata": {
    "id": "ugEQCh4P0wfd"
   },
   "source": [
    "<img src=\"http://cfs22.simplicdn.net/ice9/new_logo.svgz \"/>\n",
    "\n",
    "# Assignment 01: Scrape the Simplilearn Website Homepage\n",
    "\n",
    "*The comments/sections provided are your cues to perform the assignment. You don't need to limit yourself to the number of rows/cells provided. You can add additional rows in each section to add more lines of code.*\n",
    "\n",
    "*If at any point in time you need help on solving this assignment, view our demo video to understand the different steps of the code.*\n",
    "\n",
    "**Happy coding!**\n",
    "\n",
    "* * *"
   ]
  },
  {
   "cell_type": "code",
   "execution_count": 1,
   "metadata": {
    "id": "CM_leeF70wfj"
   },
   "outputs": [],
   "source": [
    "#Import the required libraries\n",
    "from bs4 import BeautifulSoup\n",
    "import requests\n",
    "import re\n",
    "import numpy as np\n",
    "import pandas as pd\n",
    "import string"
   ]
  },
  {
   "cell_type": "code",
   "execution_count": 2,
   "metadata": {
    "id": "3BXHWss80wfk"
   },
   "outputs": [],
   "source": [
    "#Provide the url for web scraping\n",
    "url = \"https://www.simplilearn.com\""
   ]
  },
  {
   "cell_type": "markdown",
   "metadata": {
    "id": "sVsSjte9dzvX"
   },
   "source": [
    "# Create a soup object to parse the webpage using html parser"
   ]
  },
  {
   "cell_type": "code",
   "execution_count": 3,
   "metadata": {
    "id": "X6XtiPjxd98O"
   },
   "outputs": [],
   "source": [
    "#Function create a soup object to parse the webpage using html parser\n",
    "def soup_do_parse_web(url_arg):\n",
    "  #Access the url with the request object\n",
    "  result = requests.get(url_arg, allow_redirects=False)\n",
    "  #Scrape the webpage content\n",
    "  page_content = result.content\n",
    "  #Create a soup object to parse the webpage using html parser\n",
    "  soup_url = BeautifulSoup(page_content, 'html.parser')\n",
    "  #Close the result object\n",
    "  result.close()\n",
    "  return soup_url"
   ]
  },
  {
   "cell_type": "code",
   "execution_count": 4,
   "metadata": {
    "id": "jLMmcL4YRwB3"
   },
   "outputs": [],
   "source": [
    "def str_get_content(url_arg):\n",
    "  #Access the url with the request object\n",
    "  result = requests.get(url_arg)\n",
    "  #Scrape the webpage content\n",
    "  page_content = result.content\n",
    "  #Close the result object\n",
    "  result.close()\n",
    "  return page_content"
   ]
  },
  {
   "cell_type": "code",
   "execution_count": 5,
   "metadata": {
    "id": "3Qg8d9jGN7cP"
   },
   "outputs": [],
   "source": [
    "#create a soup object\n",
    "soup_url = soup_do_parse_web(url)"
   ]
  },
  {
   "cell_type": "markdown",
   "metadata": {
    "id": "5ryuMs7R0wfi"
   },
   "source": [
    "# 1: View and print the Simplilearn web page content in a good format"
   ]
  },
  {
   "cell_type": "code",
   "execution_count": 13,
   "metadata": {
    "colab": {
     "base_uri": "https://localhost:8080/"
    },
    "id": "Uxcnsc510wfn",
    "outputId": "01378e17-7bd7-4fc1-88c0-3be7fd7965b3"
   },
   "outputs": [],
   "source": [
    "# View the content of the soup object\n",
    "#soup_url.contents"
   ]
  },
  {
   "cell_type": "code",
   "execution_count": 15,
   "metadata": {
    "colab": {
     "base_uri": "https://localhost:8080/"
    },
    "id": "Ubh2Y4KA0wfo",
    "outputId": "ab317307-cd1c-4941-8573-5e3c77259510"
   },
   "outputs": [
    {
     "name": "stdout",
     "output_type": "stream",
     "text": [
      "<!DOCTYPE html>\n",
      "<html dir=\"ltr\" lang=\"en\" xmlns=\"https://www.w3.org/1999/xhtml\">\n",
      " <head>\n",
      "  <!-- Global site tag (gtag.js) - Google Analytics 4 -->\n",
      "  <script async=\"\" src=\"https://www.googletagmanager.com/gtag/js?id=G-CG9EYRX7VL\">\n",
      "  </script>\n",
      "  <script>\n",
      "   window.dataLayer = window.dataLayer || [];\n",
      "      function gtag(){dataLayer.push(arguments);}\n",
      "      gtag('js', new Date());\n",
      "\n",
      "      gtag('config', 'G-CG9EYRX7VL', {\"site_speed_sample_rate\":20,\"transport_type\":\"beacon\"});\n",
      "      window.addEventListener('load', () => {\n",
      "        var transport_type = 'xhr';\n",
      "        if(typeof window.SLFunctions !== \"undefined\") {\n",
      "          if(!window.SLFunctions.browser().isIE) {\n",
      "            transport_type = 'beacon';\n",
      "          }\n",
      "        }\n",
      "        var showGA4Logs = window.Config && window.Config.app && window.Config.app.printGaInConsole;\n",
      "\n",
      "        if(showGA4Logs) {\n",
      "          console.group('GA4 Configure');\n",
      "          console.log('GA4 Transport Type', transport_type);\n",
      "        }\n",
      "\n",
      "        gtag('config', {\n",
      "         \n"
     ]
    }
   ],
   "source": [
    "#use the prettify() method to view a well formatted output (with html tags)\n",
    "print(soup_url.prettify()[:1000])"
   ]
  },
  {
   "cell_type": "markdown",
   "metadata": {
    "id": "l_7F-XgV0wfp"
   },
   "source": [
    "# 2: View the head and title of the webpage"
   ]
  },
  {
   "cell_type": "code",
   "execution_count": 16,
   "metadata": {
    "colab": {
     "base_uri": "https://localhost:8080/"
    },
    "id": "tS-2MeN_0wfp",
    "outputId": "a8f028ac-16ce-42d6-da5a-126dc62d3862"
   },
   "outputs": [
    {
     "data": {
      "text/plain": [
       "'<head>\\n <!-- Global site tag (gtag.js) - Google Analytics 4 -->\\n <script async=\"\" src=\"https://www.googletagmanager.com/gtag/js?id=G-CG9EYRX7VL\">\\n </script>\\n <script>\\n  window.dataLayer = window.dataLayer || [];\\n      function gtag(){dataLayer.push(arguments);}\\n      gtag(\\'js\\', new Date());\\n\\n      gtag(\\'config\\', \\'G-CG9EYRX7VL\\', {\"site_speed_sample_rate\":20,\"transport_type\":\"beacon\"});\\n      window.addEventListener(\\'load\\', () => {\\n        var transport_type = \\'xhr\\';\\n        if(typeof window.SLFunctions !== \"undefined\") {\\n          if(!window.SLFunctions.browser().isIE) {\\n            transport_type = \\'beacon\\';\\n          }\\n        }\\n        var showGA4Logs = window.Config && window.Config.app && window.Config.app.printGaInConsole;\\n\\n        if(showGA4Logs) {\\n          console.group(\\'GA4 Configure\\');\\n          console.log(\\'GA4 Transport Type\\', transport_type);\\n        }\\n\\n        gtag(\\'config\\', {\\n          \\'transport_type\\': \"\" + transport_type + \"\",\\n        });\\n\\n        gtag(\\'consent\\', \\'defa'"
      ]
     },
     "execution_count": 16,
     "metadata": {},
     "output_type": "execute_result"
    }
   ],
   "source": [
    "#View the head of the soup object\n",
    "soup_url.head.prettify()[:1000]"
   ]
  },
  {
   "cell_type": "code",
   "execution_count": 17,
   "metadata": {
    "colab": {
     "base_uri": "https://localhost:8080/"
    },
    "id": "oZ0U9qpT0wfp",
    "outputId": "9fd447b3-67aa-47c6-f2fd-9ee9fa9a7d90"
   },
   "outputs": [
    {
     "data": {
      "text/plain": [
       "<title>Simplilearn | Online Courses - Bootcamp &amp; Certification Platform</title>"
      ]
     },
     "execution_count": 17,
     "metadata": {},
     "output_type": "execute_result"
    }
   ],
   "source": [
    "#View the title of the webpage\n",
    "soup_url.title"
   ]
  },
  {
   "cell_type": "markdown",
   "metadata": {
    "id": "LS9o4tDO0wfq"
   },
   "source": [
    "# 3: Print all the href links present in the Simplilearn webpage"
   ]
  },
  {
   "cell_type": "markdown",
   "metadata": {
    "id": "U9Aw9TKEVo1a"
   },
   "source": [
    "## Find all links"
   ]
  },
  {
   "cell_type": "code",
   "execution_count": 20,
   "metadata": {
    "colab": {
     "base_uri": "https://localhost:8080/"
    },
    "id": "-1uZfvws0wfq",
    "outputId": "46613065-2374-4348-f31a-d12ee939bc5e"
   },
   "outputs": [
    {
     "name": "stdout",
     "output_type": "stream",
     "text": [
      "<a class=\"logo\" href=\"https://www.simplilearn.com\" title=\"Simplilearn - Online Certification Training Course Provider\"><img alt=\"Simplilearn - Online Certification Training Course Provider\" data-gumlet=\"false\" height=\"31\" src=\"https://www.simplilearn.com/ice9/new_logo.svgz\" title=\"Simplilearn - Online Certification Training Course Provider\" width=\"100\"/></a>\n",
      "<a href=\"https://www.simplilearn.com/corporate-training\" rel=\"noreferrer\" target=\"_blank\" title=\"Simplilearn for Business\">For Business</a>\n",
      "<a class=\"resource-link\" href=\"#\">Resources</a>\n",
      "<a href=\"https://www.simplilearn.com/skillup-free-online-courses\" rel=\"noreferrer\" target=\"_blank\" title=\"Free Courses\">Free Courses</a>\n",
      "<a href=\"https://www.simplilearn.com/resources\" rel=\"noreferrer\" target=\"_blank\" title=\"Free Resources\">Free Resources</a>\n",
      "<a class=\"moreLink\" href=\"#\">More</a>\n",
      "<a href=\"https://www.simplilearn.com/reviews\" rel=\"noreferrer\" target=\"_blank\" title=\"Reviews\">Reviews</a>\n",
      "<a href=\"https://www.simplilearn.com/reseller-partner-program-for-training-courses\" rel=\"noreferrer\" target=\"_blank\" title=\"Partners\">Become a Partner</a>\n",
      "<a href=\"https://www.simplilearn.com/become-our-trainer\" rel=\"noreferrer\" target=\"_blank\" title=\"Become an Instructor\">Become an Instructor</a>\n",
      "<a class=\"login\" href=\"\" title=\"Login\"> Login</a>\n"
     ]
    }
   ],
   "source": [
    "# Find first 10 links present in the webpage\n",
    "for href in soup_url.find_all('a', href=True)[:10]:\n",
    "  print(href)"
   ]
  },
  {
   "cell_type": "markdown",
   "metadata": {
    "id": "q1raPdV6VyGz"
   },
   "source": [
    "## Get text of all links"
   ]
  },
  {
   "cell_type": "code",
   "execution_count": 22,
   "metadata": {
    "colab": {
     "base_uri": "https://localhost:8080/"
    },
    "id": "aKDLLtPt6pGD",
    "outputId": "06c60d63-cb8a-4b0e-aed3-92ca953991ec"
   },
   "outputs": [
    {
     "name": "stdout",
     "output_type": "stream",
     "text": [
      "\n",
      "For Business\n",
      "Resources\n",
      "Free Courses\n",
      "Free Resources\n",
      "More\n",
      "Reviews\n",
      "Become a Partner\n",
      "Become an Instructor\n",
      " Login\n"
     ]
    }
   ],
   "source": [
    "# Find first 10 links present in the webpage\n",
    "for href in soup_url.find_all('a', href=True)[:10]:\n",
    "  print(href.get_text())"
   ]
  },
  {
   "cell_type": "markdown",
   "metadata": {
    "id": "pi2dOviyWQmy"
   },
   "source": [
    "## Set filter words"
   ]
  },
  {
   "cell_type": "code",
   "execution_count": 23,
   "metadata": {
    "colab": {
     "base_uri": "https://localhost:8080/"
    },
    "id": "1HqokCFa9qgA",
    "outputId": "6b4e56ee-dd0b-46a0-bc51-ab96e9fe8e24"
   },
   "outputs": [
    {
     "name": "stdout",
     "output_type": "stream",
     "text": [
      "['Science', 'Analysis', 'AI', 'Machine', 'Management', 'Analytics', 'Engineer', 'Security', 'Architect', 'Artificial', 'Lifecycle', 'Expert', 'Analyst', 'Data', 'Python', 'Hacker', 'training', 'Intelligence']\n"
     ]
    }
   ],
   "source": [
    "# Analyse all dtext data from 'href' tag\n",
    "# Collect needed datasets\n",
    "filter_find_data = \"\"\"Science\n",
    "Analysis\n",
    "AI\n",
    "Machine\n",
    "Management\n",
    "Analytics\n",
    "Engineer\n",
    "Security\n",
    "Architect\n",
    "Artificial\n",
    "Lifecycle\n",
    "Expert\n",
    "Analyst\n",
    "Data\n",
    "Python\n",
    "Hacker\n",
    "training\n",
    "Intelligence\n",
    "\"\"\"\n",
    "re_filter_find_data = re.findall(r'\\w+', filter_find_data)\n",
    "print(re_filter_find_data)"
   ]
  },
  {
   "cell_type": "markdown",
   "metadata": {
    "id": "I2g72jW-YWn1"
   },
   "source": [
    "## func"
   ]
  },
  {
   "cell_type": "code",
   "execution_count": 25,
   "metadata": {
    "id": "JrGODkQSYVjj"
   },
   "outputs": [],
   "source": [
    "# check if a list of string are in source string\n",
    "# PS: one string was find in string return name of tring, another case return None!\n",
    "def str_do_finds_str(finds, src):\n",
    "  get_find = None\n",
    "  for find in finds:\n",
    "    if (src.find(find) != -1):\n",
    "      get_find = find\n",
    "      break\n",
    "    else:\n",
    "      pass\n",
    "  return get_find\n"
   ]
  },
  {
   "cell_type": "code",
   "execution_count": 26,
   "metadata": {
    "colab": {
     "base_uri": "https://localhost:8080/",
     "height": 35
    },
    "id": "N3nxK8TBZByQ",
    "outputId": "a226589a-8024-434d-9c61-71b66e5be8fd"
   },
   "outputs": [
    {
     "data": {
      "text/plain": [
       "'Science'"
      ]
     },
     "execution_count": 26,
     "metadata": {},
     "output_type": "execute_result"
    }
   ],
   "source": [
    "str_do_finds_str(re_filter_find_data, \"Post Graduate Program in Data Science12 MonthsCohort Starts : 27 Oct, 2021\")"
   ]
  },
  {
   "cell_type": "code",
   "execution_count": 29,
   "metadata": {
    "id": "bqjMzSN_Ab7D"
   },
   "outputs": [],
   "source": [
    "# Find all text data for a tag\n",
    "\n",
    "# Find recursiv data from a tag and children of tag\n",
    "def rec_tag(tag_arg, tags_descendent, nbr_rec):\n",
    "  isTag = False#the tag does not have tag children\n",
    "  tmp_txt = \"\"\n",
    "  for tag in tags_descendent:\n",
    "    if (type(soup_url.head) == type(tag)):#check if tag_arg is beautifulsoup 'tag' type\n",
    "      tmp_txt += rec_tag(tag, tag.children, nbr_rec + 1)\n",
    "      isTag = True#the tag have tag children\n",
    "    else:\n",
    "      pass\n",
    "  if (isTag == False and (nbr_rec > 0)):#check if tag has tag children\n",
    "    tag_txt = tag_arg.text.strip()\n",
    "    if (tag_txt != ''):\n",
    "      tmp_txt = ' ' + tag_txt + ' ' + tmp_txt\n",
    "    else:\n",
    "      pass\n",
    "  else:\n",
    "    pass\n",
    "  return tmp_txt\n",
    "\n",
    "# find all text data from a tag and all it's children\n",
    "def str_txt_tag(tag_arg):\n",
    "  if (type(soup_url.head) == type(tag_arg)):#check if tag_arg is beautifulsoup 'tag' type\n",
    "    str_ret = rec_tag(tag_arg, tag_arg.children, 0)\n",
    "  else:\n",
    "    str_ret = ''\n",
    "  return str_ret"
   ]
  },
  {
   "cell_type": "code",
   "execution_count": 30,
   "metadata": {
    "id": "aEXMYTJ67Hnt"
   },
   "outputs": [],
   "source": [
    "# Find all unique word\n",
    "# PS: Split word are all punctuation and whitespace, the numeric strings are excluded!\n",
    "\n",
    "# get a regex comand for punctuation\n",
    "def np_do_find_all_unique_word_b_soup_obj(soup_url_arg):\n",
    "  re_punctuation = re.escape(string.punctuation)\n",
    "  #find all text from body tag\n",
    "  lst_all_txt = []\n",
    "  tmp_lst_split_txt = re.split(r'[' + re_punctuation + r'\\s]+', str_txt_tag(soup_url_arg.body))\n",
    "  #exclude numeric data\n",
    "  for txt in tmp_lst_split_txt:\n",
    "    if (txt.isnumeric() == False):\n",
    "      lst_all_txt.append(txt.lower())#get lower word\n",
    "\n",
    "  np_all_txt = np.array(lst_all_txt)#cast to numpy array\n",
    "  np_unique_data = np.unique(np_all_txt)#find unique data\n",
    "  return np_unique_data"
   ]
  },
  {
   "cell_type": "code",
   "execution_count": 32,
   "metadata": {
    "colab": {
     "base_uri": "https://localhost:8080/"
    },
    "id": "oWP2j5G920FM",
    "outputId": "63547654-5995-4dc7-80ee-15396405c67f"
   },
   "outputs": [
    {
     "name": "stdout",
     "output_type": "stream",
     "text": [
      "\n",
      "0075eb\n",
      "0y\n",
      "105a3df85b16\n",
      "11zon\n",
      "1a87c9\n",
      "1ceb7b77\n",
      "20axelos\n",
      "20california\n",
      "20council\n"
     ]
    }
   ],
   "source": [
    "# find all unique data\n",
    "for txt in np_do_find_all_unique_word_b_soup_obj(soup_url)[:10]:\n",
    "  print(txt)"
   ]
  },
  {
   "cell_type": "code",
   "execution_count": 33,
   "metadata": {
    "id": "S6ZrmF8DF75_"
   },
   "outputs": [],
   "source": [
    "# Regex patern to find text data from html doc\n",
    "find_txt_re_comand = r\"[^>]{,30}(?<!\\/)>[^<]+<\"\n",
    "find_txt_re_comand = r\">[^<]+<\"\n",
    "# Compile patern\n",
    "re_all_txt_html_obj = re.compile(find_txt_re_comand)\n",
    "\n",
    "# find only text from html document\n",
    "def lst_str_find_all_txt_html_format(str_data):\n",
    "  find_all_txt = re_all_txt_html_obj.findall(str_data)\n",
    "  find_all_txt = [txt[1:-1].strip() for txt in find_all_txt if txt[1:-1].strip() != '']\n",
    "  return find_all_txt"
   ]
  },
  {
   "cell_type": "code",
   "execution_count": 34,
   "metadata": {
    "id": "Cccb0Icv8ITM"
   },
   "outputs": [],
   "source": [
    "# Function find filtered text from links present in the webpage\n",
    "def str_do_find_filter_str_all_links(soup_url_arg, filter_finds_str):\n",
    "  for href in soup_url_arg.find_all('a', href=True):\n",
    "    if (str_do_finds_str(filter_finds_str, href.get_text()) != None):\n",
    "      if (href['href'].find(url) == -1): # check if is missing main URL before the link\n",
    "        final_url = url + '/' + href['href']  #add URL before the link\n",
    "      else:\n",
    "        final_url = href['href']\n",
    "      find_all_txt = lst_str_find_all_txt_html_format(str(href.prettify()))\n",
    "      text = ' # '.join(find_all_txt)\n",
    "      yield text, final_url\n",
    "    else:\n",
    "      pass"
   ]
  },
  {
   "cell_type": "markdown",
   "metadata": {
    "id": "kNgKh4KTV77y"
   },
   "source": [
    "## Find filtered text from links present in the webpage"
   ]
  },
  {
   "cell_type": "code",
   "execution_count": 35,
   "metadata": {
    "colab": {
     "base_uri": "https://localhost:8080/"
    },
    "id": "VyhS62GeFAKB",
    "outputId": "02881cd0-900a-425d-b718-931fce94179f"
   },
   "outputs": [
    {
     "name": "stdout",
     "output_type": "stream",
     "text": [
      "Text: Professional Certificate Program in Project Management # Duration: # 10 weeks # Cohort Starts: # 14th Aug' 25 # View Program\n",
      "link: https://www.simplilearn.com//pcp-project-management-certification-training-course\n",
      "Text: AI-Powered Business Analyst # Duration: # 20 weeks # Cohort Starts: # 10th Aug '25 # View Program\n",
      "link: https://www.simplilearn.com//business-analyst-certification-training-course\n",
      "Text: Professional Certificate in Data Science and Generative AI # Duration: # 6 months # Cohort Starts: # 11th Aug' 25 # View Program\n",
      "link: https://www.simplilearn.com//pgp-data-science-certification-bootcamp-program\n",
      "Text: Azure Cloud Architect Masters Program # Duration: # 3 months # Cohort Starts: # 16th Aug '25 # View Program\n",
      "link: https://www.simplilearn.com//azure-cloud-architect-certification-training-course\n",
      "Text: Generative AI\n",
      "link: https://www.simplilearn.com//certifications/generative-ai-courses\n",
      "Text: AI &amp; Machine Learning\n",
      "link: https://www.simplilearn.com//ai-and-machine-learning\n",
      "Text: Data Science &amp; Business Analytics\n",
      "link: https://www.simplilearn.com//data-science-and-business-analytics\n",
      "Text: Project Management\n",
      "link: https://www.simplilearn.com//project-management\n",
      "Text: IT Service and Architecture\n",
      "link: https://www.simplilearn.com//it-service-management\n",
      "Text: Cyber Security\n",
      "link: https://www.simplilearn.com//cyber-security\n",
      "Text: Quality Management\n",
      "link: https://www.simplilearn.com//quality-management\n",
      "Text: Generative AI\n",
      "link: https://www.simplilearn.com//certifications/generative-ai-courses\n",
      "Text: AI &amp; Machine Learning\n",
      "link: https://www.simplilearn.com//ai-and-machine-learning\n",
      "Text: Data Science &amp; Business Analytics\n",
      "link: https://www.simplilearn.com//data-science-and-business-analytics\n",
      "Text: Project Management\n",
      "link: https://www.simplilearn.com//project-management\n",
      "Text: IT Service and Architecture\n",
      "link: https://www.simplilearn.com//it-service-management\n",
      "Text: Cyber Security\n",
      "link: https://www.simplilearn.com//cyber-security\n",
      "Text: Quality Management\n",
      "link: https://www.simplilearn.com//quality-management\n",
      "Text: Professional Certificate Program in Project Management # Duration: # 10 weeks # Cohort Starts: # 14th Aug' 25 # View Program\n",
      "link: https://www.simplilearn.com//pcp-project-management-certification-training-course\n",
      "Text: AI-Powered Business Analyst # Duration: # 20 weeks # Cohort Starts: # 10th Aug '25 # View Program\n",
      "link: https://www.simplilearn.com//business-analyst-certification-training-course\n",
      "Text: Professional Certificate in Data Science and Generative AI # Duration: # 6 months # Cohort Starts: # 11th Aug' 25 # View Program\n",
      "link: https://www.simplilearn.com//pgp-data-science-certification-bootcamp-program\n",
      "Text: Azure Cloud Architect Masters Program # Duration: # 3 months # Cohort Starts: # 16th Aug '25 # View Program\n",
      "link: https://www.simplilearn.com//azure-cloud-architect-certification-training-course\n",
      "Text: Corporate training\n",
      "link: https://www.simplilearn.com/corporate-training\n",
      "Text: PG in Data Science\n",
      "link: https://www.simplilearn.com/pgp-data-science-certification-bootcamp-program\n",
      "Text: Product Management Certification Course\n",
      "link: https://www.simplilearn.com/product-management-certification-training-course\n",
      "Text: Product Management Training Course\n",
      "link: https://www.simplilearn.com/product-management-training-course-online\n",
      "Text: Data Analytics Program\n",
      "link: https://www.simplilearn.com/pgp-data-analytics-certification-training-course\n",
      "Text: AI and ML Course\n",
      "link: https://www.simplilearn.com/pgp-ai-machine-learning-certification-training-course\n",
      "Text: Business Analysis Certification Course\n",
      "link: https://www.simplilearn.com/pgp-business-analysis-certification-training-course\n",
      "Text: Data Engineering Certification Courses\n",
      "link: https://www.simplilearn.com/pgp-data-engineering-certification-training-course\n",
      "Text: Data Science Certifiation Course\n",
      "link: https://www.simplilearn.com/big-data-and-analytics/senior-data-scientist-masters-program-training\n",
      "Text: Data Analyst Course\n",
      "link: https://www.simplilearn.com/data-analyst-masters-certification-training-course\n",
      "Text: Masters in Artificial Intelligence\n",
      "link: https://www.simplilearn.com/masters-in-artificial-intelligence\n",
      "Text: Cloud Architect Certification Training Course\n",
      "link: https://www.simplilearn.com/cloud-solutions-architect-masters-program-training\n",
      "Text: DevOps Engineer Certification Training Course\n",
      "link: https://www.simplilearn.com/devops-engineer-masters-program-certification-training\n",
      "Text: Cyber Security Expert Course\n",
      "link: https://www.simplilearn.com/cyber-security-expert-master-program-training-course\n",
      "Text: Business Analyst Course\n",
      "link: https://www.simplilearn.com/business-analyst-certification-training-course\n",
      "Text: Data Science with Python Course\n",
      "link: https://www.simplilearn.com/big-data-and-analytics/python-for-data-science-training\n",
      "Text: CompTIA Security+ Certification\n",
      "link: https://www.simplilearn.com/comptia-security-plus-certification-training\n",
      "Text: Project Management Courses\n",
      "link: https://www.simplilearn.com/project-management\n",
      "Text: Generative AI Courses\n",
      "link: https://www.simplilearn.com/certifications/generative-ai-courses\n",
      "Text: Cyber Security Courses\n",
      "link: https://www.simplilearn.com/cyber-security\n",
      "Text: Python Tutorial\n",
      "link: https://www.simplilearn.com/tutorials/python-tutorial\n"
     ]
    }
   ],
   "source": [
    "# Find filtered text from links present in the webpage\n",
    "# PS: The '#' is split character\n",
    "for text, link in str_do_find_filter_str_all_links(soup_url, re_filter_find_data):\n",
    "  print('Text: {}'.format(text))\n",
    "  print('link: {}'.format(link))"
   ]
  },
  {
   "cell_type": "markdown",
   "metadata": {
    "id": "htz9wV_zdBJ4"
   },
   "source": [
    "## Find course price from all links present in the webpage"
   ]
  },
  {
   "cell_type": "code",
   "execution_count": 36,
   "metadata": {
    "colab": {
     "base_uri": "https://localhost:8080/"
    },
    "id": "SJh_WdJNlVWN",
    "outputId": "b405ac2c-7a08-49e7-cf80-905a01d41803"
   },
   "outputs": [
    {
     "name": "stdout",
     "output_type": "stream",
     "text": [
      "((price)|(feet))\n",
      "{'price': '', 'feet': ''}\n"
     ]
    }
   ],
   "source": [
    "# Create find dataset\n",
    "find_datasets = [\"price\", \"feet\"]#, 'salary'\n",
    "\n",
    "# Create regex patern for find datasets\n",
    "find_patern = \"(\"\n",
    "for txt_data in find_datasets:\n",
    "  find_patern += \"({})|\".format(txt_data)\n",
    "find_patern = find_patern[:-1] + \")\"\n",
    "\n",
    "# Create a dictionary for all datasets\n",
    "# PS: The find words is the key of dictionary\n",
    "dict_find_datasets = {}\n",
    "for txt_data in find_datasets:\n",
    "  dict_find_datasets[txt_data] = \"\"\n",
    "\n",
    "# Print string regex patern for find datasets\n",
    "print(find_patern)\n",
    "# Print dictionary for all datasets\n",
    "print(dict_find_datasets)"
   ]
  },
  {
   "cell_type": "code",
   "execution_count": 37,
   "metadata": {
    "colab": {
     "base_uri": "https://localhost:8080/"
    },
    "id": "vZTXS3OqDeUp",
    "outputId": "5b017eac-af83-489b-b5bf-81e87b9acace"
   },
   "outputs": [
    {
     "name": "stdout",
     "output_type": "stream",
     "text": [
      "Text: Professional Certificate Program in Project Management # Duration: # 10 weeks # Cohort Starts: # 14th Aug' 25 # View Program\n",
      "Link: https://www.simplilearn.com//pcp-project-management-certification-training-course\n",
      "\tData 'price' find: €2,500, €250/mo, €250/mo, €250, /mo\n",
      "\tData 'feet' find: \n",
      "Text: AI-Powered Business Analyst # Duration: # 20 weeks # Cohort Starts: # 10th Aug '25 # View Program\n",
      "Link: https://www.simplilearn.com//business-analyst-certification-training-course\n",
      "\tData 'price' find: €1,299\n",
      "\tData 'feet' find: \n",
      "Text: Professional Certificate in Data Science and Generative AI # Duration: # 6 months # Cohort Starts: # 11th Aug' 25 # View Program\n",
      "Link: https://www.simplilearn.com//pgp-data-science-certification-bootcamp-program\n",
      "\tData 'price' find: €2,590, €259/mo, €259/mo, €259, /mo\n",
      "\tData 'feet' find: \n",
      "Text: Azure Cloud Architect Masters Program # Duration: # 3 months # Cohort Starts: # 16th Aug '25 # View Program\n",
      "Link: https://www.simplilearn.com//azure-cloud-architect-certification-training-course\n",
      "\tData 'price' find: €1,390\n",
      "\tData 'feet' find: \n",
      "Text: Generative AI\n",
      "Link: https://www.simplilearn.com//certifications/generative-ai-courses\n",
      "\tPatern ((price)|(feet)) not found\n",
      "Text: AI &amp; Machine Learning\n",
      "Link: https://www.simplilearn.com//ai-and-machine-learning\n",
      "\tPatern ((price)|(feet)) not found\n",
      "Text: Data Science &amp; Business Analytics\n",
      "Link: https://www.simplilearn.com//data-science-and-business-analytics\n",
      "\tPatern ((price)|(feet)) not found\n",
      "Text: Project Management\n",
      "Link: https://www.simplilearn.com//project-management\n",
      "\tPatern ((price)|(feet)) not found\n",
      "Text: IT Service and Architecture\n",
      "Link: https://www.simplilearn.com//it-service-management\n",
      "\tPatern ((price)|(feet)) not found\n",
      "Text: Cyber Security\n",
      "Link: https://www.simplilearn.com//cyber-security\n",
      "\tPatern ((price)|(feet)) not found\n",
      "Text: Quality Management\n",
      "Link: https://www.simplilearn.com//quality-management\n",
      "\tPatern ((price)|(feet)) not found\n",
      "Text: Generative AI\n",
      "Link: https://www.simplilearn.com//certifications/generative-ai-courses\n",
      "\tPatern ((price)|(feet)) not found\n",
      "Text: AI &amp; Machine Learning\n",
      "Link: https://www.simplilearn.com//ai-and-machine-learning\n",
      "\tPatern ((price)|(feet)) not found\n",
      "Text: Data Science &amp; Business Analytics\n",
      "Link: https://www.simplilearn.com//data-science-and-business-analytics\n",
      "\tPatern ((price)|(feet)) not found\n",
      "Text: Project Management\n",
      "Link: https://www.simplilearn.com//project-management\n",
      "\tPatern ((price)|(feet)) not found\n",
      "Text: IT Service and Architecture\n",
      "Link: https://www.simplilearn.com//it-service-management\n",
      "\tPatern ((price)|(feet)) not found\n",
      "Text: Cyber Security\n",
      "Link: https://www.simplilearn.com//cyber-security\n",
      "\tPatern ((price)|(feet)) not found\n",
      "Text: Quality Management\n",
      "Link: https://www.simplilearn.com//quality-management\n",
      "\tPatern ((price)|(feet)) not found\n",
      "Text: Professional Certificate Program in Project Management # Duration: # 10 weeks # Cohort Starts: # 14th Aug' 25 # View Program\n",
      "Link: https://www.simplilearn.com//pcp-project-management-certification-training-course\n",
      "\tData 'price' find: €2,500, €250/mo, €250/mo, €250, /mo\n",
      "\tData 'feet' find: \n",
      "Text: AI-Powered Business Analyst # Duration: # 20 weeks # Cohort Starts: # 10th Aug '25 # View Program\n",
      "Link: https://www.simplilearn.com//business-analyst-certification-training-course\n",
      "\tData 'price' find: €1,299\n",
      "\tData 'feet' find: \n",
      "Text: Professional Certificate in Data Science and Generative AI # Duration: # 6 months # Cohort Starts: # 11th Aug' 25 # View Program\n",
      "Link: https://www.simplilearn.com//pgp-data-science-certification-bootcamp-program\n",
      "\tData 'price' find: €2,590, €259/mo, €259/mo, €259, /mo\n",
      "\tData 'feet' find: \n",
      "Text: Azure Cloud Architect Masters Program # Duration: # 3 months # Cohort Starts: # 16th Aug '25 # View Program\n",
      "Link: https://www.simplilearn.com//azure-cloud-architect-certification-training-course\n",
      "\tData 'price' find: €1,390\n",
      "\tData 'feet' find: \n",
      "Text: Corporate training\n",
      "Link: https://www.simplilearn.com/corporate-training\n",
      "\tPatern ((price)|(feet)) not found\n",
      "Text: PG in Data Science\n",
      "Link: https://www.simplilearn.com/pgp-data-science-certification-bootcamp-program\n",
      "\tData 'price' find: €2,590, €259/mo, €259/mo, €259, /mo\n",
      "\tData 'feet' find: \n",
      "Text: Product Management Certification Course\n",
      "Link: https://www.simplilearn.com/product-management-certification-training-course\n",
      "\tData 'price' find: Home > Product and Design >Professional Certification in Product ManagementProfessional Certification in Product ManagementTop Product Management Course by SP Jain, Ranked #7 B School in Asia PacificCompletion Certificate from SP Jain School of Global management.\n",
      "Gain expertise in AI-powered product management.\n",
      "Live learning with SP Jain Global faculty.\n",
      "Leverage top AI & product tools.Watch Intro VideoProgramme SyllabusProgram duration 6 months Learning Format Live, Online, InteractiveWhy Join this ProgramSP Jain Global's ExcellenceCertificate from SP Jain School of Global Management | Live sessions by SP Jain top global faculties\n",
      "Certificate from SP Jain School of Global Management | Live sessions by SP Jain top global faculties\n",
      "Product Manager ToolkitMaster the top tools – JIRA, Mixpanel, Google Analytics, and Balsamiq – utilised by PMs\n",
      "Gen AI for Product ManagersBecome AI-powered Product Manager via ChatGPT, Google Bard, Gencraft, Midjourney, and Picsart \n",
      "Applied LearningLearn via case studies and capstone projects on Facebook, Netflix, Tesla, Nike, and Instagram\n",
      "4.64.5 4.4Corporate TrainingEnroll your employees into this program, NOW!Talk to our advisorTalk to our advisorOverviewProgram AdvantageProgram DetailsProgram AdvisorReviewsAdmissionFAQsProduct Management Certification OverviewProfessional Product Management Course by SP Jain School of Global Management prepares you to become a product manager via an exhaustive curriculum covering all aspects of product management. This program focuses on the latest industry trends, advancements and related industry applications taught by top product experts via live sessions.Key FeaturesLeverage Generative AI as a Product Manager using tools such as ChatGPT, Google Bard, Gencraft, Midjourney, & PicsartGet access to SPJ Exec Ed Alumni benefits post program completionView MoreProduct Management Course AdvantageThis program is an all-encompassing Product Management Certification by SP Jain School of Global Management - leveraging SP Jain's academic excellence and product expertise from experts from companies like Google, Microsoft, Amazon, and more.\n",
      "SP Jain CertificationPartnering with SP Jain GlobalReceive a SP Jain School of Global Management CertificationSP Jain School of Global Management will issue your program certificate directly within 90 days of program completionLive classes by SP Jain Global facultySimplilearn's Bootcamp: 8x more effective way of learningSimplilearn's Bootcamp: 8x more effective way of learningHands-on, applied projects and online labsLive virtual classrooms with self-paced online videos24/7 learning support and access to learner forums and communityMasterclasses from university faculty and top industry leadersProduct Management Online Training DetailsDive deep into the different concepts of Product management like product strategy, new product ideation and development, product lifecycle management, design thinking, and more in this course.Learning PathInduction for Professional Certification in Product ManagementGet started with the Professional Certification in Product Management course with SP Jain School of Global Management and Simplilearn. Kickstart your professional Product Management career with a foundational class.\n",
      "Mastering the Product Management Discipline and Paving Your PM Career\n",
      "Master product management holistically, understanding its adaptability across industries.\n",
      "Apply the KASH framework to cultivate and enhance competencies crucial for successful product management: Knowledge, attitude, skills, and habits in decision-making.\n",
      "Do a self-assessment to identify personal traits vital for product managers, and align strengths for career success.\n",
      "Learn transition strategies for smooth shifts into product management from diverse backgrounds.\n",
      "\n",
      "Embracing Growth Mindset, Critical Thinking, and Customer Value Propositions as a Product Manager\n",
      "Learn how to apply Carol Dweck's theory for a growth-oriented approach in product management.\n",
      "Develop critical thinking skills for informed, rational decision-making in product strategies and problem-solving.\n",
      "Craft compelling customer value propositions based on functional, economic, and emotional value that resonate with customer needs.\n",
      "Understand consumer behaviour and categorize products by consumer motivations using the FCB Framework.\n",
      "Master how to create a detailed customer journey map.\n",
      "\t \n",
      "\n",
      "Product Roadmapping and Strategic Prioritization\n",
      "Understand the pivotal role of product roadmaps in strategic decision-making and stakeholder alignment.\n",
      "Explore diverse roadmap types (timeline, release, Kanban, outcome-based) and their situational applications.\n",
      "Learn techniques for efficient backlog management and feature prioritization based on user impact, business alignment, and resources.\n",
      "Grasp the significance of iterative development in agile processes, promoting adaptability and continuous enhancement.\n",
      "\t \n",
      "\n",
      "Designing the Business Model, Target Marketing and Pricing Strategies\n",
      "Distinguish between online and offline business models, analyzing their structures, advantages, and limitations within the same product category.\n",
      "Acquire methods for market segmentation, consumer targeting, and strategic product positioning for maximum market impact.\n",
      "Explore diverse pricing strategies across different business models and learn to assess financial statements for effective pricing decisions.\n",
      "\t \n",
      "\n",
      "Integrating Design Thinking into Product Management\n",
      "Comprehend how design thinking enhances creativity, empathy, and problem-solving in product management.\n",
      "Compare design thinking with traditional approaches, highlighting its strengths in user-centered approach for development.\n",
      "Harness design thinking for innovative product and service creation, applying principles in problem-solving scenarios for breakthroughs.\n",
      "\t \n",
      "\n",
      "Leveraging Consumers Insights for Informed Product Decision-Making\n",
      "Differentiate between insights and raw data, emphasizing empathy to decode consumer behaviour effectively.\n",
      "Explore qualitative and quantitative research methods (ethnography, interviews, surveys, data analysis) for comprehensive consumer understanding.\n",
      "Extract actionable insights from consumer behaviours and conversations to inform product changes and communication strategies.\n",
      "\t \n",
      "\n",
      "Crafting a Structured Product Strategy for Success\n",
      "Align product strategies with business plans, ensuring coherence and synergy between the product roadmap and organizational objectives.\n",
      "Develop SMART goals aligning enterprise objectives with product-specific goals for effectiveness.\n",
      "Explore growth strategies, identifying critical success factors and KPIs to monitor and enhance product and brand performance.\n",
      "\t \n",
      "\n",
      "UX Design for Product Managers\n",
      "Grasp UX design's goals and elements, which are crucial in creating user-centric experiences within product management.\n",
      "Understand key UX principles like usability, accessibility, and user satisfaction, discerning human-centered from technology-centered design approaches.\n",
      "Apply UX principles to practical product challenges in breakout sessions, translating theory into problem-solving strategies.\n",
      "\t \n",
      "\n",
      "New Product Development\n",
      "Learn methodologies for problem definition, ideation, and validating problem-solution fit for innovative product development.\n",
      "Adopt a user-centric approach: Create user stories, acceptance criteria, MVP canvas, and select features, prioritizing user testing, feedback, and iterative development.\n",
      "Hone your decision-making skills: Determine pivots or continuations based on iterative feedback and market validation.\n",
      "\t \n",
      "\n",
      "Developing a Wireframe and Rapid Prototyping\n",
      "Grasp wireframing and prototyping principles, distinguishing their purposes and the tools used in the design process.\n",
      "Explore wireframe essentials like navigation, content layout, and common mistakes, applying knowledge through practical exercises.\n",
      "Transition from low-fidelity wireframes to high-fidelity prototypes, focusing on user flow, layout, and usability for interactive designs.\n",
      "\t \n",
      "\n",
      "Blueprint for Platform Success: Strategy, Design, and Growth Opportunities\n",
      "Differentiate between platforms and products, understanding architectural elements, technology stacks, and API design in platform development.\n",
      "Analyze platform monetization strategies, dissecting revenue streams, and exploring growth opportunities.\n",
      "Evaluate growth and competition, analyzing revenue generation and conducting competition assessments to strategize platform enhancement.\n",
      "\t \n",
      "\n",
      "Product Lifecycle Management: Strategy, KPIs, and AI Integration for Success\n",
      "Develop a product lifecycle management (PLM) strategy by addressing challenges in each product lifecycle stage.\n",
      "Learn about AI and ML applications in product management, focusing on personalization, insights, trend and behaviour analysis, predictive analysis, and inventory planning.\n",
      "Explore real-world AI applications in measuring KPIs for various B2B and B2C products and services.\n",
      "\t \n",
      "\n",
      "Introduction to Product Management Tools: Balsamiq, Google Analytics, Jira, Mixpanel\n",
      "Master Balsamiq for wireframes and high-fidelity prototypes in product design.\n",
      "Gain expertise in Jira for Agile project management, facilitating team collaboration and project tracking.\n",
      "Understand Google Analytics for web analytics, acquisition, engagement, monetization, retention, and real-time insights.\n",
      "Utilize Mixpanel for insights, funnel analysis, flow reports, retention, and KPI trend analysis, supporting data-driven decisions.\n",
      "\t \n",
      "\n",
      "Product Management Capstone ProjectThis product management capstone project will give you an opportunity to implement the skills you learned throughout this program to solve real-world industry-relevant problems. \n",
      "\n",
      "Research & analyze markets, user needs, and competition.\n",
      "Align products with company vision strategically.\n",
      "Define metrics, validate solutions, and track progress.\n",
      "Innovate user-centric solutions and foresee market trends.\n",
      "Solve problems and make data-driven decisions.\n",
      "Communicate effectively to diverse stakeholders.\n",
      "\t \n",
      "\n",
      "The Psychology of Buying Behaviour and Consumption: Understand Neuroscience for Effective Marketing\n",
      "Grasp neuroscience and psychology's impact on consumer behaviour within marketing.\n",
      "Understand how the brain processes marketing stimuli involving perception, attention, memory, and emotional responses.\n",
      "Explore limbic system-controlled emotions and amygdala impact alongside neurometrics measuring brain responses in marketing.\n",
      "\t \n",
      "\n",
      "Product Management Workshop\n",
      "Distinguish product, brand, and enterprise failures via case studies, extracting lessons to avert similar pitfalls.\n",
      "Apply new product development (NPD) principles for digital product creation, crafting effective launch strategies based on NPD insights.\n",
      "\t \n",
      "\n",
      "Final Closing SessionThis final session wraps up the product management program, reflecting on the collective learning journey and recognizing the growth and insights gained by all learners.\n",
      " \n",
      "Electives: Generative AI for Product ManagersMaster Generative AI tools to improve productivity and creativity with this comprehensive course. Explore how AI-powered tools like ChatGPT, Google Bard, Gencraft, Midjourney, and Picsart can revolutionize product management processes. Learn how to integrate these AI tools into your product management practices through a series of live demonstrations and practical use cases.\n",
      "Product Management Masterclass by Industry ExpertsAttend this online interactive product management masterclass to gain insights about product management advancements from top industry experts. Product Management Capstone Mentoring SessionAttend this mentoring session to clear your queries around Product Management Capstone project.View MoreContact Us +44 20 3627 9615Programme Syllabus18+ Skills CoveredProduct StrategyProduct Market fitProduct IdeationRapid PrototypingProduct Lifecycle ManagementProduct Roadmapping and PrioritizationDesign ThinkingMinimal Vial Product MVP DevelopmentAgile MethodologyLeadership and Growth MindsetGenerative AIProduct InnovationUX DesignUser Experience ManagementCritical ThinkingAgile Project ManagementMarket ResearchProduct AnalyticsView More9+ Tools CoveredView MoreProjectsProject 1Launching Facebook LiteMeta has launched a Facebook Lite for geographical areas with limited connectivity and slower internet connections. Determine key metrics you would define to measure successProject 2Netflix inactive users problemAnalyze various parameters and provide guidance to Netflix to help the company increase and retain its subscriber base.Project 3Teslas Pursuit in the US Driverless Car MarketAs Tesla's PM, predict the 2025 US driverless car market size. Help meet future demand by understanding the potential of autonomous vehicles.Project 4Instagram facing growth problemProject to identify core problems in Instagram growth and come up with solutions to grow.Project 5Nike leveraging technology for growthProject to determine how Nike can grow its shoe business leveraging technology.Project 6Instagram wants to improve its key featuresProject to improve and innovate Instagram’s key features.Disclaimer - The projects have been built leveraging real publicly available datasets from organizations.prevNextAn Immersive Learning ExperiencePeer to Peer engagementGet the real classroom experience. Interact with learners and engage with mentors in real-time via Slack.Blended LearningMissed a class? Access recordings later to learn and keep up with your cohort.Mentoring session(s)Expert guidance sessions from mentors for doubt clarifications, project assistance, and learning support.Learning SupportGet a dedicated Cohort Manager for all your queries and help you succeed at every learning step.Peer to Peer engagementGet the real classroom experience. Interact with learners and engage with mentors in real-time via Slack.Blended LearningMentoring session(s)Learning SupportProgram Advisors and TrainersProgram AdvisorsShirish RangnekarCEO at Planck EraSirish has deep expertise in business transformation roadmaps, strategic technology initiatives, program execution for large scale enterprise transformation.He is a Lean Six Sigma Black Belt and an Enterprise Agile consultant.Dr. Christopher AbrahamCEO & Head - Dubai campus and Sr. Vice President (Institutional Development)Dr.  Abraham has three Post Graduate qualifications in HRM, Business Administration in Marketing Labor and Administrative Law and a PhD in Design Thinking and Innovation. He is a Certified Design Thinker from IDEO Stanford and is a Fellow of the Chartered Institute of Marketing FCIM UKProf. Ramu Shankar RaoProfessor & Corporate TrainerMr. Ramu has over 28 years of experience with significant senior corporate management roles in Healthcare industry with giants like Medtronic and St Jude Medical.prevNextProgram TrainersSushant Mathur19+ Years Exp | Product LeaderProven Expertise in B2B Product ManagementSneha Singh18+ Years Exp | Product LeaderDriving Product Innovation | Customer SuccessprevNextBatch ProfileThis product management course caters to working professionals of various industries & backgrounds; the diversity of our students adds richness to class discussions & interactions.IndustryThe class consists of learners from excellent organizations and diverse industriesIndustryIT Services - 20%Computer Software - 20%Internet - 20%Financial Services - 10%Retail - 10%Banking - 20%Companies Learner ReviewsAdmission DetailsApplication ProcessThe application process consists of three simple steps. An offer of admission will be made to the selected candidates and accepted by the candidates by paying the admission fee.STEP 1Submit ApplicationTell us a bit about yourself and why you want to do this programSTEP 2Reserve Your SeatAn admission panel will shortlist candidates based on their applicationSTEP 3Start LearningSelected candidates can begin the program from the batch start dateEligibility CriteriaFor admission to this Product Management Program, candidates should have:2+ years of work experience preferredA bachelor's degreeCandidates from non-product management backgrounds are welcomeApply NowProgram BenefitsCertificate from SP Jain School of Global ManagementLive sessions by SP Jain top global facultiesGet access to SPJ Exec Ed Alumni benefitsProduct Management Masterclass by industry expertsLeveraging Generative AI in product managementProduct Management Course Online FAQsWhat is a product management course?A product management course provides a comprehensive learning experience to better navigate the role of a product manager. The course is curated for professionals looking to build strong foundations in product management along with the skills and knowledge to guide their launch to success. With this product management course, you will learn product strategy, ideation and development, lifecycle management, design thinking, UI/UX, and more through hands-on practice with the latest tools and techniques.What do product managers do?A product manager's roles are multifaceted in that they are essential in identifying customer needs and trying to meet business objectives. They do so by bridging the gap between engineers, designers, marketing, sales and customer support services by collecting the necessary information to aid a product's lifecycle. The product manager's responsibilities extend to product strategy, development, analysis, performance measurement and customer engagement. Taking up a product management course will help you understand these processes and even prepare you for a career as a product management professional. If this interests you, you can take the first step by reading how to become a product manager.Is this product management certification worth it?Yes, this product management certification is worth it, as it will gain you more credibility and recognition. It serves as a testament and commitment to your field, enhancing your professional image among peers and employers. Here are some of the additional benefits that make this product management certification worth it:\n",
      "\n",
      "Attend live classes by SP Jain Global faculty\n",
      "Gain hands-on learning through real-life projects from Facebook, Tesla, and Instagram\n",
      "Learn the importance of GenAI tools in product management, including ChatGPT, Gencraft, Midjourney, and Picsart\n",
      "Access to SPJ Exec Ed Alumni benefits after completing the program\n",
      "Who can attend this product management course?Our product management course is a great fit for current and aspiring product managers looking to understand product development, market strategy, and the product lifecycle. To attend this product management certification course, candidates must meet the following criteria:\n",
      "\n",
      "Must have over two years of work experience (In any field)\n",
      "A bachelor's degree in any discipline\n",
      "Professionals with non-product management backgrounds are welcome\n",
      "What certifications should a product manager have?Obtaining a product manager certification can be incredibly beneficial to advance your career as a product manager. These certifications typically cover essential areas such as product strategy, market research, user experience management, product roadmap, and product lifecycle management. It validates your expertise and provides you with up-to-date knowledge and best practices. By completing it, you'll gain a competitive edge in the job market and enhance your ability to deliver successful products.Who are the instructors for this product management course, and how are they selected?Our training faculty are industry experts with years of relevant product management experience. Each of them has undergone a rigorous selection process that includes screening, and additional technical evaluation before officially training for us.\n",
      "\n",
      "Their experience, backgrounds, and skill sets make them stand out — a key aspect in their selection process. We also ensure that those with a high alumni rating are chosen to teach our classes.How do I enroll in this product management certification program?The enrollment process for the product management certification program can be done in three steps:\n",
      "\n",
      "- Those interested should apply through the online application form\n",
      "- The admission panel will shortlist candidates based on their application\n",
      "- An admission offer is made, which can be accepted by paying the program fee.\n",
      "\n",
      "Candidates will receive a payment receipt and LMS access information once payment is confirmed.What salary can I expect after earning a product manager certification?As companies strive to create products and experiences customers like, the demand for product managers will always remain high for companies looking to stay competitive. The global product management market size is expected to reach $49.3 billion by 2031, growing steadily at a CAGR of 7.2%, further indicating a healthy state for earning opportunities if you're a product manager and have completed a product management certification. A product manager's average annual salary in India is estimated to be ₹23 Lakhs.What jobs can I expect after completing the product management course?The demand for product managers is healthy, with companies from multiple industries always on the lookout for qualified professionals. With opportunities aplenty, completing a product management certification course will open doors to many lucrative opportunities. Completing this product management certification course will allow you to take up roles like:\n",
      "\n",
      "Product manager\n",
      "Product marketing manager\n",
      "Technical product manager\n",
      "Product strategist\n",
      "Product owner\n",
      "\n",
      "Completing this product management course can also potentially increase your chances of getting hired by top companies like Oracle, Microsoft, Adobe, Amazon, and Google.Will financial aid be provided for this Professional Certification in Product Management Course?We want to ensure that money doesn't hinder your career aspirations, which is why we offer financing options to help make this product management course more financially manageable. You can opt to pay the full course fee or pay monthly installments. We have partnered with various companies to give you options at 0% interest rates with no hidden costs, ensuring every bit spent goes into your upskilling efforts. For more information, refer to our \"Admissions Fee and Financing\" section.I am not able to access the product management course online. Who can help me?You can access our 24/7 Help & Support, which is available to you via live chat on the Simplilearn website. The module is available to answer any of your questions and can be accessed on the bottom right side of any page.Will I get a refund if I cancel my enrollment in this product management course?You can cancel your enrollment in this product management course. We will refund the program price after deducting an administration fee. To learn more, please read our Refund Policy.What is covered under the 24/7 support promise?We offer 24/7 support through chat, emails, and calls for any urgent issues. For other queries, we have a dedicated team that offers email assistance and on-request callbacks.Are there any other online courses Simplilearn offers under product and design?Simplilearn offers options to help you upskill in Product and Design. Courses range from advanced certification training in product management courses to specialized ones to help you work on specific skills to help you stay competitive in the long run. Some of these courses include:\n",
      "\n",
      "Product Management Professional Program\n",
      "Advanced Certification in UI UX Design\n",
      "Does Simplilearn have corporate training solutions?For corporate solutions, you can explore Simplilearn for Business to help equip your teams with the latest digital skills through tailored training designed for Fortune 500 and mid-sized companies. You can also explore Simplilearn Learning Hub+ - a comprehensive learning library with unlimited live interactive solutions available organization-wide.What do people think about Simplilearn’s Professional Certification in Product Management?Simplilearn is highly considered for its educational services providing top-notch learning experiences intended to boost your career prospects. Our range of product management courses offers a well-thought-out curriculum filled with industry-relevant study material. Our past learners have always praised the course's hands-on approach, flexible learning, and real-life simulations to help overcome challenges. Visit Simplilearn's testimonial page to check out more alumni reviews. View More\n",
      "\tData 'feet' find: \n",
      "Text: Product Management Training Course\n",
      "Link: https://www.simplilearn.com/product-management-training-course-online\n",
      "\tData 'price' find: €2,499, €250/mo, €250/mo, €250, /mo\n",
      "\tData 'feet' find: \n",
      "Text: Data Analytics Program\n",
      "Link: https://www.simplilearn.com/pgp-data-analytics-certification-training-course\n",
      "\tData 'price' find: €2,590, €259/mo, €259/mo, €259, /mo\n",
      "\tData 'feet' find: \n",
      "Text: AI and ML Course\n",
      "Link: https://www.simplilearn.com/pgp-ai-machine-learning-certification-training-course\n",
      "\tData 'price' find: €2,749, €275/mo, €275/mo, €275, /mo\n",
      "\tData 'feet' find: \n",
      "Text: Business Analysis Certification Course\n",
      "Link: https://www.simplilearn.com/pgp-business-analysis-certification-training-course\n",
      "\tData 'price' find: €1,990, €199/mo, €199/mo, €199, /mo\n",
      "\tData 'feet' find: \n",
      "Text: Data Engineering Certification Courses\n",
      "Link: https://www.simplilearn.com/pgp-data-engineering-certification-training-course\n",
      "\tData 'price' find: €1,790, €179/mo, €179/mo, €179, /mo\n",
      "\tData 'feet' find: \n",
      "Text: Data Science Certifiation Course\n",
      "Link: https://www.simplilearn.com/big-data-and-analytics/senior-data-scientist-masters-program-training\n",
      "\tData 'price' find: €990\n",
      "\tData 'feet' find: \n",
      "Text: Data Analyst Course\n",
      "Link: https://www.simplilearn.com/data-analyst-masters-certification-training-course\n",
      "\tData 'price' find: €990\n",
      "\tData 'feet' find: \n",
      "Text: Masters in Artificial Intelligence\n",
      "Link: https://www.simplilearn.com/masters-in-artificial-intelligence\n",
      "\tData 'price' find: €1,490\n",
      "\tData 'feet' find: \n",
      "Text: Cloud Architect Certification Training Course\n",
      "Link: https://www.simplilearn.com/cloud-solutions-architect-masters-program-training\n",
      "\tData 'price' find: €1,349\n",
      "\tData 'feet' find: \n",
      "Text: DevOps Engineer Certification Training Course\n",
      "Link: https://www.simplilearn.com/devops-engineer-masters-program-certification-training\n",
      "\tData 'price' find: €1,290\n",
      "\tData 'feet' find: \n",
      "Text: Cyber Security Expert Course\n",
      "Link: https://www.simplilearn.com/cyber-security-expert-master-program-training-course\n",
      "\tData 'price' find: €2,499\n",
      "\tData 'feet' find: \n",
      "Text: Business Analyst Course\n",
      "Link: https://www.simplilearn.com/business-analyst-certification-training-course\n",
      "\tData 'price' find: €1,299\n",
      "\tData 'feet' find: \n",
      "Text: Data Science with Python Course\n",
      "Link: https://www.simplilearn.com/big-data-and-analytics/python-for-data-science-training\n",
      "\tData 'price' find: $62K, Min, $82K, Average, $96K, Max, $100K, Min, $156K, Average, $217K, Max, €299€389, €499€749\n",
      "\tData 'feet' find: \n",
      "Text: CompTIA Security+ Certification\n",
      "Link: https://www.simplilearn.com/comptia-security-plus-certification-training\n",
      "\tData 'price' find: $53K, Min, $72K, Average, $110K, Max, $51K, Min, $72K, Average, $110K, Max, $49K, Min, $69K, Average, $95K, Max, €1,299€1,939\n",
      "\tData 'feet' find: \n",
      "Text: Project Management Courses\n",
      "Link: https://www.simplilearn.com/project-management\n",
      "\tPatern ((price)|(feet)) not found\n",
      "Text: Generative AI Courses\n",
      "Link: https://www.simplilearn.com/certifications/generative-ai-courses\n",
      "\tPatern ((price)|(feet)) not found\n",
      "Text: Cyber Security Courses\n",
      "Link: https://www.simplilearn.com/cyber-security\n",
      "\tPatern ((price)|(feet)) not found\n",
      "Text: Python Tutorial\n",
      "Link: https://www.simplilearn.com/tutorials/python-tutorial\n",
      "\tPatern ((price)|(feet)) not found\n"
     ]
    }
   ],
   "source": [
    "# Find price for course, only for needed filtered data from links present in the webpage\n",
    "# PS: The '#' is split character!\n",
    "re_obj_ = re.compile(find_patern)\n",
    "for text, link in str_do_find_filter_str_all_links(soup_url, re_filter_find_data):\n",
    "  print(\"Text: {}\".format(text))\n",
    "  print(\"Link: {}\".format(link))\n",
    "  # Parse found link\n",
    "  soup_link_tmp = soup_do_parse_web(link)\n",
    "  # find all word from find dataset\n",
    "  tags = soup_link_tmp.find_all(class_=re_obj_)\n",
    "  # Reset data from dictionary\n",
    "  for txt_data in find_datasets:\n",
    "    dict_find_datasets[txt_data] = \"\"\n",
    "\n",
    "  if (tags != None and tags != []): # Check if tag is valid\n",
    "    for tag in tags:\n",
    "      txt_tag = tag.text.strip()\n",
    "      if (txt_tag != \"\"):\n",
    "        #Clasify of find words\n",
    "        str_find_filter_data = str_do_finds_str(find_datasets, str(tag))\n",
    "        if (str_find_filter_data != None):\n",
    "          dict_find_datasets[str_find_filter_data] += txt_tag + \", \"\n",
    "        else:\n",
    "          pass\n",
    "      else:\n",
    "        pass\n",
    "    for txt_data in find_datasets:\n",
    "      print(\"\\tData '{}' find: {}\".format(txt_data, dict_find_datasets[txt_data][:-2]))\n",
    "  else:\n",
    "    print(\"\\tPatern {} not found\".format(find_patern))"
   ]
  }
 ],
 "metadata": {
  "colab": {
   "collapsed_sections": [
    "sVsSjte9dzvX",
    "5ryuMs7R0wfi",
    "l_7F-XgV0wfp",
    "U9Aw9TKEVo1a",
    "q1raPdV6VyGz",
    "kNgKh4KTV77y"
   ],
   "provenance": []
  },
  "kernelspec": {
   "display_name": "Python 3 (ipykernel)",
   "language": "python",
   "name": "python3"
  },
  "language_info": {
   "codemirror_mode": {
    "name": "ipython",
    "version": 3
   },
   "file_extension": ".py",
   "mimetype": "text/x-python",
   "name": "python",
   "nbconvert_exporter": "python",
   "pygments_lexer": "ipython3",
   "version": "3.10.12"
  }
 },
 "nbformat": 4,
 "nbformat_minor": 4
}
